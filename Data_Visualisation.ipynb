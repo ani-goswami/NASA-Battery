{
  "nbformat": 4,
  "nbformat_minor": 0,
  "metadata": {
    "colab": {
      "name": "Data_Visualisation.ipynb",
      "provenance": [],
      "collapsed_sections": [],
      "include_colab_link": true
    },
    "kernelspec": {
      "display_name": "Python 3",
      "name": "python3"
    },
    "language_info": {
      "name": "python"
    }
  },
  "cells": [
    {
      "cell_type": "markdown",
      "metadata": {
        "id": "view-in-github",
        "colab_type": "text"
      },
      "source": [
        "<a href=\"https://colab.research.google.com/github/natskiu/Nasa-Battery/blob/main/Data_Visualisation.ipynb\" target=\"_parent\"><img src=\"https://colab.research.google.com/assets/colab-badge.svg\" alt=\"Open In Colab\"/></a>"
      ]
    },
    {
      "cell_type": "code",
      "metadata": {
        "id": "ia_XjIIjtbP-"
      },
      "source": [
        "import numpy as np\n",
        "import matplotlib.pyplot as plt\n",
        "#this is a comment\n",
        "import scipy.io as sio\n",
        "import pandas as pd"
      ],
      "execution_count": 24,
      "outputs": []
    },
    {
      "cell_type": "code",
      "metadata": {
        "colab": {
          "base_uri": "https://localhost:8080/"
        },
        "id": "xByOR1S_3gvz",
        "outputId": "f91ec288-e738-41b0-aaca-4d4758fd1ac9"
      },
      "source": [
        "# raw=true is important so you download the file rather than the webpage.\n",
        "!wget https://github.com/natskiu/Nasa-Battery/blob/main/Data/B0005.mat?raw=true\n",
        "# rename the file\n",
        "!mv B0005.mat\\?raw\\=true B0005.mat\n",
        "# update scipy\n",
        "!pip install -U -q scipy\n",
        "# Load the data\n",
        "from scipy import io\n",
        "v = io.loadmat('B0005.mat')"
      ],
      "execution_count": 2,
      "outputs": [
        {
          "output_type": "stream",
          "text": [
            "--2021-08-17 08:50:31--  https://github.com/natskiu/Nasa-Battery/blob/main/Data/B0005.mat?raw=true\n",
            "Resolving github.com (github.com)... 13.114.40.48\n",
            "Connecting to github.com (github.com)|13.114.40.48|:443... connected.\n",
            "HTTP request sent, awaiting response... 302 Found\n",
            "Location: https://github.com/natskiu/Nasa-Battery/raw/main/Data/B0005.mat [following]\n",
            "--2021-08-17 08:50:31--  https://github.com/natskiu/Nasa-Battery/raw/main/Data/B0005.mat\n",
            "Reusing existing connection to github.com:443.\n",
            "HTTP request sent, awaiting response... 302 Found\n",
            "Location: https://raw.githubusercontent.com/natskiu/Nasa-Battery/main/Data/B0005.mat [following]\n",
            "--2021-08-17 08:50:32--  https://raw.githubusercontent.com/natskiu/Nasa-Battery/main/Data/B0005.mat\n",
            "Resolving raw.githubusercontent.com (raw.githubusercontent.com)... 185.199.108.133, 185.199.111.133, 185.199.110.133, ...\n",
            "Connecting to raw.githubusercontent.com (raw.githubusercontent.com)|185.199.108.133|:443... connected.\n",
            "HTTP request sent, awaiting response... 200 OK\n",
            "Length: 15956874 (15M) [application/octet-stream]\n",
            "Saving to: ‘B0005.mat?raw=true’\n",
            "\n",
            "B0005.mat?raw=true  100%[===================>]  15.22M  --.-KB/s    in 0.1s    \n",
            "\n",
            "2021-08-17 08:50:33 (105 MB/s) - ‘B0005.mat?raw=true’ saved [15956874/15956874]\n",
            "\n",
            "\u001b[K     |████████████████████████████████| 28.5 MB 46 kB/s \n",
            "\u001b[31mERROR: pip's dependency resolver does not currently take into account all the packages that are installed. This behaviour is the source of the following dependency conflicts.\n",
            "albumentations 0.1.12 requires imgaug<0.2.7,>=0.2.5, but you have imgaug 0.2.9 which is incompatible.\u001b[0m\n",
            "\u001b[?25h"
          ],
          "name": "stdout"
        }
      ]
    },
    {
      "cell_type": "code",
      "metadata": {
        "colab": {
          "base_uri": "https://localhost:8080/"
        },
        "id": "DmfoQrjBI1-O",
        "outputId": "6798e77c-dae6-48d1-bb23-1843cbd1f82a"
      },
      "source": [
        "# important!!!\n",
        "cycles = np.vstack(v['B0005'][0,0])\n",
        "cycles.shape"
      ],
      "execution_count": 3,
      "outputs": [
        {
          "output_type": "execute_result",
          "data": {
            "text/plain": [
              "(1, 616)"
            ]
          },
          "metadata": {
            "tags": []
          },
          "execution_count": 3
        }
      ]
    },
    {
      "cell_type": "code",
      "metadata": {
        "colab": {
          "base_uri": "https://localhost:8080/"
        },
        "id": "yU3O46stLbeZ",
        "outputId": "9e655033-f16f-4fc8-ca12-a716344024b6"
      },
      "source": [
        "\"only change the middle index i.e. cycles[0,1][3], cycles[0,2][3]\"\n",
        "cycles[0,0][3].shape"
      ],
      "execution_count": 4,
      "outputs": [
        {
          "output_type": "execute_result",
          "data": {
            "text/plain": [
              "(1, 1)"
            ]
          },
          "metadata": {
            "tags": []
          },
          "execution_count": 4
        }
      ]
    },
    {
      "cell_type": "code",
      "metadata": {
        "id": "jvVGKocr2AW8"
      },
      "source": [
        "def capacity_vectorizer(discharge_indices, cycles=cycles):\n",
        "  \"\"\"\n",
        "  inputs\n",
        "  -------------------\n",
        "  discharge_indicies: list, with indices of discharging cycles\n",
        "\n",
        "  outputs\n",
        "  -------------------\n",
        "  None (modifies cycles)\n",
        "\n",
        "  Note: only run this function ONCE\n",
        "  \"\"\"\n",
        "  for discharge_index in discharge_indices:\n",
        "    N = (cycles[0,discharge_index][3][0,0][5]).shape[1] # gets number of entries\n",
        "    capacity_scalar = cycles[0,discharge_index][3][0,0][6]\n",
        "    cycles[0,discharge_index][3][0,0][6] = np.pad(capacity_scalar.flatten().tolist(), (0, N-1), 'constant')\n",
        "    vectorized_cycles = cycles\n",
        "  return vectorized_cycles\n"
      ],
      "execution_count": 5,
      "outputs": []
    },
    {
      "cell_type": "code",
      "metadata": {
        "id": "3l-xQoez9-QS"
      },
      "source": [
        "def get_indices(cycles, is_charge=True):\n",
        "  index_list =[]\n",
        "  if is_charge:\n",
        "    label = 'charge'\n",
        "  else:\n",
        "    label = 'discharge'\n",
        "  for i in range(cycles.shape[1]):\n",
        "    if cycles[0,i][0] == np.array([label]):\n",
        "      index_list.append(i)\n",
        "\n",
        "  return index_list"
      ],
      "execution_count": 6,
      "outputs": []
    },
    {
      "cell_type": "code",
      "metadata": {
        "colab": {
          "base_uri": "https://localhost:8080/"
        },
        "id": "3P7UC61AAFMV",
        "outputId": "0200a2fe-4c7a-4d4f-8872-a0d422a432c0"
      },
      "source": [
        "discharge_indices = get_indices(cycles, is_charge = False)\n",
        "print(discharge_indices)\n",
        "len(discharge_indices)"
      ],
      "execution_count": 7,
      "outputs": [
        {
          "output_type": "stream",
          "text": [
            "[1, 3, 5, 7, 9, 11, 13, 15, 17, 19, 21, 24, 26, 28, 30, 32, 34, 36, 38, 41, 45, 49, 53, 57, 61, 65, 69, 73, 77, 81, 85, 89, 93, 97, 101, 105, 109, 113, 117, 121, 125, 129, 133, 135, 139, 143, 147, 149, 153, 157, 161, 165, 169, 173, 177, 181, 185, 189, 193, 197, 201, 205, 209, 213, 215, 219, 223, 227, 231, 235, 239, 243, 247, 251, 255, 259, 263, 265, 269, 273, 277, 281, 285, 289, 293, 297, 301, 305, 309, 312, 315, 319, 323, 327, 331, 335, 339, 343, 347, 351, 355, 359, 363, 366, 370, 374, 378, 382, 386, 390, 394, 398, 402, 406, 410, 414, 418, 422, 426, 430, 432, 436, 440, 444, 448, 452, 456, 460, 464, 468, 472, 476, 480, 482, 484, 488, 492, 496, 500, 504, 508, 512, 516, 520, 524, 528, 532, 536, 540, 544, 547, 551, 555, 559, 563, 567, 571, 575, 579, 583, 587, 591, 595, 599, 603, 607, 611, 613]\n"
          ],
          "name": "stdout"
        },
        {
          "output_type": "execute_result",
          "data": {
            "text/plain": [
              "168"
            ]
          },
          "metadata": {
            "tags": []
          },
          "execution_count": 7
        }
      ]
    },
    {
      "cell_type": "code",
      "metadata": {
        "colab": {
          "base_uri": "https://localhost:8080/"
        },
        "id": "UiQUbkoolOe7",
        "outputId": "d2893654-e374-4171-e480-32b3872d91be"
      },
      "source": [
        "charge_indices = get_indices(cycles, is_charge=True)\n",
        "charge_indices.remove(22)\n",
        "charge_indices.remove(615)\n",
        "print(charge_indices)\n",
        "len(charge_indices)"
      ],
      "execution_count": 8,
      "outputs": [
        {
          "output_type": "stream",
          "text": [
            "[0, 2, 4, 6, 8, 10, 12, 14, 16, 18, 20, 23, 25, 27, 29, 31, 33, 35, 37, 39, 43, 47, 51, 55, 59, 63, 67, 71, 75, 79, 83, 84, 87, 91, 95, 99, 103, 107, 111, 115, 119, 123, 127, 131, 134, 137, 141, 145, 148, 151, 155, 159, 163, 167, 171, 175, 179, 183, 187, 191, 195, 199, 203, 207, 211, 214, 217, 221, 225, 229, 233, 237, 241, 245, 249, 253, 257, 261, 264, 267, 271, 275, 279, 283, 287, 291, 295, 299, 303, 307, 314, 317, 321, 325, 329, 333, 337, 341, 345, 349, 353, 357, 361, 365, 368, 372, 376, 380, 384, 388, 392, 396, 400, 404, 408, 412, 416, 420, 424, 428, 431, 434, 438, 442, 446, 450, 454, 458, 462, 466, 470, 474, 478, 481, 483, 486, 490, 494, 498, 502, 506, 510, 514, 518, 522, 526, 530, 534, 538, 542, 546, 549, 553, 557, 561, 565, 569, 573, 577, 581, 585, 589, 593, 597, 601, 605, 609, 612]\n"
          ],
          "name": "stdout"
        },
        {
          "output_type": "execute_result",
          "data": {
            "text/plain": [
              "168"
            ]
          },
          "metadata": {
            "tags": []
          },
          "execution_count": 8
        }
      ]
    },
    {
      "cell_type": "code",
      "metadata": {
        "id": "J_Utkm7IRSxw",
        "colab": {
          "base_uri": "https://localhost:8080/"
        },
        "outputId": "d9bfa7b7-6852-4041-e598-925dc69942ea"
      },
      "source": [
        "\"This is how you extract all the features from cycles\"\n",
        "np.vstack(cycles[0,0][3][0,0])[0]"
      ],
      "execution_count": 9,
      "outputs": [
        {
          "output_type": "execute_result",
          "data": {
            "text/plain": [
              "array([3.87301722, 3.47939356, 4.00058782, 4.01239519, 4.01970806,\n",
              "       4.02540947, 4.03063627, 4.03534896, 4.03971637, 4.04354121,\n",
              "       4.04672407, 4.05032083, 4.05347776, 4.05687947, 4.06020401,\n",
              "       4.06309148, 4.06606364, 4.06810568, 4.07091089, 4.07314062,\n",
              "       4.07531198, 4.07798651, 4.07976022, 4.08180212, 4.08379322,\n",
              "       4.08535888, 4.08707793, 4.0888699 , 4.08991841, 4.09204117,\n",
              "       4.09327341, 4.09462341, 4.09636787, 4.09755211, 4.09852259,\n",
              "       4.09990153, 4.10107397, 4.10186053, 4.10303834, 4.10433761,\n",
              "       4.10518719, 4.10617751, 4.10713402, 4.108074  , 4.10876115,\n",
              "       4.10971157, 4.11073785, 4.1115377 , 4.11216994, 4.11307997,\n",
              "       4.11363282, 4.114555  , 4.11540239, 4.115793  , 4.11674636,\n",
              "       4.117245  , 4.11794271, 4.1186426 , 4.11943651, 4.12004755,\n",
              "       4.12062053, 4.12120233, 4.12214376, 4.12223722, 4.12330381,\n",
              "       4.12376399, 4.12442084, 4.12507381, 4.12567826, 4.12616805,\n",
              "       4.12656627, 4.12731238, 4.12808141, 4.12845744, 4.12895829,\n",
              "       4.12946203, 4.13002418, 4.13053061, 4.13123541, 4.13183215,\n",
              "       4.13231609, 4.1328077 , 4.13349746, 4.13410548, 4.13446612,\n",
              "       4.13522207, 4.13578465, 4.13639026, 4.13682957, 4.13725184,\n",
              "       4.13790207, 4.13828629, 4.13879658, 4.13954398, 4.14007415,\n",
              "       4.14058272, 4.14118117, 4.141666  , 4.14248486, 4.14261515,\n",
              "       4.1433236 , 4.14398458, 4.14459879, 4.14499283, 4.14562704,\n",
              "       4.14591739, 4.14674408, 4.14719297, 4.14776015, 4.14829618,\n",
              "       4.14900685, 4.14909234, 4.15021082, 4.15044109, 4.15103603,\n",
              "       4.15173829, 4.15215892, 4.15275289, 4.15368218, 4.15422338,\n",
              "       4.15452911, 4.15491907, 4.1556742 , 4.15609372, 4.15675294,\n",
              "       4.15726276, 4.15790866, 4.15872852, 4.15914432, 4.15956945,\n",
              "       4.16044238, 4.16121856, 4.16140535, 4.16230133, 4.16252917,\n",
              "       4.16331402, 4.16394672, 4.16439436, 4.16510153, 4.1660154 ,\n",
              "       4.16613688, 4.16711583, 4.16736891, 4.16781386, 4.16883822,\n",
              "       4.16935557, 4.16993746, 4.17033737, 4.17100194, 4.17161334,\n",
              "       4.17245082, 4.17294095, 4.17359947, 4.17412687, 4.17505497,\n",
              "       4.17538317, 4.1762124 , 4.17663518, 4.1774318 , 4.17789255,\n",
              "       4.17861842, 4.17919249, 4.17974086, 4.18061307, 4.18137754,\n",
              "       4.18190594, 4.18264292, 4.18328701, 4.18392567, 4.18465679,\n",
              "       4.18544824, 4.18599683, 4.18670037, 4.18775289, 4.1881566 ,\n",
              "       4.1888185 , 4.18968801, 4.19038028, 4.1910518 , 4.19181776,\n",
              "       4.19267806, 4.19349705, 4.19467685, 4.19500638, 4.19597436,\n",
              "       4.19680799, 4.19747064, 4.19811077, 4.19921957, 4.19993821,\n",
              "       4.20061892, 4.20133728, 4.20212859, 4.20311195, 4.20363496,\n",
              "       4.20427756, 4.20486848, 4.20549434, 4.20737407, 4.20750923,\n",
              "       4.20727912, 4.20684674, 4.20693308, 4.20687103, 4.20626332,\n",
              "       4.20724488, 4.20709273, 4.20655383, 4.20605665, 4.20686055,\n",
              "       4.20652358, 4.20642041, 4.20699785, 4.20684009, 4.20645507,\n",
              "       4.20705641, 4.20707981, 4.20645121, 4.20708863, 4.20705343,\n",
              "       4.20695866, 4.20654905, 4.20709909, 4.20685411, 4.2075111 ,\n",
              "       4.2082654 , 4.20818552, 4.20790327, 4.2074938 , 4.20737413,\n",
              "       4.20695505, 4.20778702, 4.20725071, 4.20725833, 4.20782153,\n",
              "       4.20765403, 4.20746647, 4.20823532, 4.20782893, 4.20763136,\n",
              "       4.20709431, 4.20755004, 4.20730812, 4.20708834, 4.20766567,\n",
              "       4.2071345 , 4.20798815, 4.2078651 , 4.20764097, 4.20731924,\n",
              "       4.20764563, 4.2074945 , 4.20778581, 4.20739676, 4.20821189,\n",
              "       4.20871101, 4.20850663, 4.20803879, 4.20886692, 4.20844147,\n",
              "       4.20785586, 4.20762726, 4.20805273, 4.20842601, 4.20900398,\n",
              "       4.20864013, 4.2080192 , 4.20875675, 4.20836958, 4.20767745,\n",
              "       4.20834921, 4.20897528, 4.20856966, 4.20788715, 4.20828264,\n",
              "       4.20865858, 4.20820869, 4.20869807, 4.20852613, 4.20862035,\n",
              "       4.20835054, 4.20885665, 4.20832682, 4.2086062 , 4.20818147,\n",
              "       4.20857017, 4.20834662, 4.20858803, 4.2081689 , 4.20855857,\n",
              "       4.20811759, 4.20837087, 4.20903911, 4.20849142, 4.2086774 ,\n",
              "       4.20949964, 4.20964008, 4.20867976, 4.20888491, 4.2093087 ,\n",
              "       4.20977201, 4.20917712, 4.2084955 , 4.20886943, 4.20961913,\n",
              "       4.20905623, 4.20767428, 4.20779664, 4.2080217 , 4.20848558,\n",
              "       4.20888259, 4.20929257, 4.20978139, 4.20958169, 4.20910017,\n",
              "       4.20938388, 4.20811495, 4.20823452, 4.20850932, 4.2088089 ,\n",
              "       4.20934644, 4.2099487 , 4.20910719, 4.20969046, 4.2082473 ,\n",
              "       4.20857072, 4.20777002, 4.20798943, 4.20858853, 4.20798049,\n",
              "       4.20815757, 4.20793274, 4.20719212, 4.20659441, 4.20703221,\n",
              "       4.20705609, 4.20735058, 4.20689467, 4.20625509, 4.20546781,\n",
              "       4.20482629, 4.20411238, 4.20409122, 4.20438423, 4.20451139,\n",
              "       4.20566667, 4.20522705, 4.2046359 , 4.20386405, 4.20403796,\n",
              "       4.20435136, 4.20465583, 4.20491255, 4.20531748, 4.20538713,\n",
              "       4.20606897, 4.20541767, 4.2046754 , 4.20511944, 4.20519196,\n",
              "       4.20542041, 4.20607077, 4.20502524, 4.20459928, 4.20383054,\n",
              "       4.20396728, 4.20420866, 4.20470227, 4.20474592, 4.20509449,\n",
              "       4.20544756, 4.2055648 , 4.20497304, 4.20442318, 4.2046675 ,\n",
              "       4.20487295, 4.20511126, 4.20523328, 4.20558082, 4.20494172,\n",
              "       4.20431483, 4.20442654, 4.204666  , 4.20477292, 4.20502581,\n",
              "       4.20518939, 4.20563256, 4.20486705, 4.20524495, 4.20544128,\n",
              "       4.2058221 , 4.20501265, 4.20505675, 4.20525484, 4.20547255,\n",
              "       4.20598177, 4.20522055, 4.20570999, 4.20483584, 4.20503448,\n",
              "       4.20533271, 4.20535944, 4.20524525, 4.20579635, 4.20528907,\n",
              "       4.205347  , 4.20555791, 4.20482727, 4.20500731, 4.20540662,\n",
              "       4.20545681, 4.20553333, 4.20586758, 4.20507829, 4.20543111,\n",
              "       4.20571011, 4.20469249, 4.20494727, 4.20534653, 4.20512575,\n",
              "       4.20571044, 4.20501873, 4.20510611, 4.20531714, 4.20542484,\n",
              "       4.2056548 , 4.20486424, 4.20500811, 4.20518464, 4.20535946,\n",
              "       4.20568391, 4.20482607, 4.2049829 , 4.20503985, 4.20512296,\n",
              "       4.20542889, 4.20567078, 4.20571921, 4.2062633 , 4.20630549,\n",
              "       4.20649845, 4.20657498, 4.20608525, 4.2053776 , 4.20535232,\n",
              "       4.20559454, 4.20526536, 4.20557066, 4.20597035, 4.20593848,\n",
              "       4.2062336 , 4.20631604, 4.20651786, 4.20674169, 4.20621729,\n",
              "       4.20552255, 4.20545377, 4.20572679, 4.20552981, 4.20594675,\n",
              "       4.20587459, 4.20616972, 4.20631147, 4.20655317, 4.20568091,\n",
              "       4.20585163, 4.20605812, 4.20605024, 4.20646844, 4.20642732,\n",
              "       4.20664243, 4.20581669, 4.20493724, 4.20514409, 4.20506395,\n",
              "       4.20531839, 4.20528678, 4.20550599, 4.20544379, 4.20549547,\n",
              "       4.20588623, 4.20588312, 4.20633325, 4.20625808, 4.20615228,\n",
              "       4.20631788, 4.20629168, 4.20669152, 4.20619494, 4.20523422,\n",
              "       4.205286  , 4.20565609, 4.20550437, 4.20553819, 4.20574621,\n",
              "       4.20560801, 4.20576306, 4.20589828, 4.2066597 , 4.2054243 ,\n",
              "       4.20522814, 4.2055675 , 4.20544926, 4.20559729, 4.20584081,\n",
              "       4.20610014, 4.2059867 , 4.2063619 , 4.20612941, 4.20658371,\n",
              "       4.20575075, 4.20581263, 4.20578678, 4.20598612, 4.20600535,\n",
              "       4.20625538, 4.20638854, 4.20639691, 4.20653829, 4.20671317,\n",
              "       4.20583085, 4.20592551, 4.2061646 , 4.20618555, 4.2060228 ,\n",
              "       4.20640342, 4.20632531, 4.20662616, 4.20569074, 4.20591401,\n",
              "       4.20589213, 4.20597962, 4.20611611, 4.2060537 , 4.20620048,\n",
              "       4.2063055 , 4.206389  , 4.20628242, 4.2065183 , 4.20676133,\n",
              "       4.20594961, 4.20600705, 4.2059302 , 4.20606898, 4.2060041 ,\n",
              "       4.20623167, 4.20603644, 4.20630483, 4.2064063 , 4.20649455,\n",
              "       4.20662282, 4.2058586 , 4.20559323, 4.2058309 , 4.205925  ,\n",
              "       4.20597773, 4.20574503, 4.20603385, 4.20628349, 4.20635863,\n",
              "       4.20627611, 4.20652419, 4.20679815, 4.20654956, 4.20653371,\n",
              "       4.20693329, 4.20699336, 4.20703663, 4.20706067, 4.20731871,\n",
              "       4.20722754, 4.20729319, 4.20785034, 4.20670823, 4.20574531,\n",
              "       4.20592045, 4.20569875, 4.20589344, 4.20571034, 4.20575047,\n",
              "       4.20582999, 4.20588473, 4.20591862, 4.20614005, 4.20617068,\n",
              "       4.2062077 , 4.20625799, 4.20633992, 4.20643669, 4.2063315 ,\n",
              "       4.20653922, 4.20677722, 4.20583505, 4.20579785, 4.20604424,\n",
              "       4.20583654, 4.20564672, 4.20569176, 4.20573989, 4.20576851,\n",
              "       4.2059709 , 4.20610184, 4.20601868, 4.20612862, 4.20611047,\n",
              "       4.20642459, 4.20596535, 4.20662397, 4.20576697, 4.2054046 ,\n",
              "       4.2054821 , 4.20569743, 4.205853  , 4.20528474, 4.20565782,\n",
              "       4.20573128, 4.20542448, 4.20564727, 4.2058874 , 4.20598528,\n",
              "       4.20611852, 4.20610301, 4.20564505, 4.2060291 , 4.20639054,\n",
              "       4.20600337, 4.2062531 , 4.20641592, 4.20623889, 4.20646365,\n",
              "       4.20661728, 4.2056446 , 4.20563666, 4.20561887, 4.20566507,\n",
              "       4.20588338, 4.2055932 , 4.20571702, 4.20564431, 4.20581932,\n",
              "       4.20583205, 4.20547526, 4.20581008, 4.20595628, 4.20579762,\n",
              "       4.20591452, 4.20586361, 4.20587223, 4.20615319, 4.20621476,\n",
              "       4.20646601, 4.20655753, 4.20551187, 4.20530099, 4.20540004,\n",
              "       4.20520814, 4.20534316, 4.205471  , 4.20505369, 4.20544993,\n",
              "       4.20552659, 4.20576065, 4.20529309, 4.20568479, 4.20555775,\n",
              "       4.20549918, 4.20576345, 4.20566253, 4.20565085, 4.20567542,\n",
              "       4.20551434, 4.20544401, 4.20565407, 4.20588062, 4.20584181,\n",
              "       4.20592725, 4.20602288, 4.20615632, 4.20606532, 4.20597807,\n",
              "       4.20585904, 4.2060734 , 4.20628003, 4.20635659, 4.20643359,\n",
              "       4.20635065, 4.20635865, 4.20634805, 4.20634702, 4.20640136,\n",
              "       4.20665373, 4.2059292 , 4.20585145, 4.20565734, 4.20562043,\n",
              "       4.20534852, 4.20548293, 4.20537688, 4.20546732, 4.20562354,\n",
              "       4.20559204, 4.20573823, 4.20571813, 4.2057691 , 4.20579774,\n",
              "       4.20573034, 4.20578899, 4.20553262, 4.20579817, 4.20588904,\n",
              "       4.20580728, 4.20595894, 4.20591017, 4.20593487, 4.20619415,\n",
              "       4.20594635, 4.20569841, 4.20602867, 4.20602077, 4.20621349,\n",
              "       4.20598211, 4.20599763, 4.20609244, 4.20626912, 4.20639318,\n",
              "       4.20634633, 4.20648105, 4.2064635 , 4.20622577, 4.20621267,\n",
              "       4.20641745, 4.20634894, 4.20635172, 4.20661659, 4.2064859 ,\n",
              "       4.20678915, 4.20646968, 4.20656437, 4.20654085, 4.2069691 ,\n",
              "       4.20704427, 4.20675654, 4.20699969, 4.20687947, 4.20694807,\n",
              "       4.20689005, 4.20697163, 4.20688652, 4.20704595, 4.20719025,\n",
              "       4.20709369, 4.20724251, 4.20698447, 4.20728057, 4.20750887,\n",
              "       4.20729355, 4.20746955, 4.20734198, 4.20740342, 4.20771242,\n",
              "       4.20685291, 4.20560123, 4.13560691, 4.16748106, 4.17596639,\n",
              "       4.18072221, 4.18354652, 4.18557368, 4.18711484, 4.18799982,\n",
              "       4.18866543, 4.18937661, 4.1895041 , 4.18992935, 4.1903934 ,\n",
              "       4.19038473, 4.19037885, 4.19088543, 4.19103087, 4.19084885,\n",
              "       4.1909821 , 4.19083894, 4.19085955, 4.19117481, 4.1908217 ,\n",
              "       4.191299  , 4.19138816, 4.19145298, 4.19107756])"
            ]
          },
          "metadata": {
            "tags": []
          },
          "execution_count": 9
        }
      ]
    },
    {
      "cell_type": "code",
      "metadata": {
        "id": "VoCEYoBF5HVf"
      },
      "source": [
        "new_cycles = capacity_vectorizer(discharge_indices)"
      ],
      "execution_count": 10,
      "outputs": []
    },
    {
      "cell_type": "code",
      "metadata": {
        "colab": {
          "base_uri": "https://localhost:8080/"
        },
        "id": "ynC8egSG0edV",
        "outputId": "d6b67bcd-3374-4f72-a068-f421e84507ae"
      },
      "source": [
        "new_cycles[0,1][3][0,0][6].shape"
      ],
      "execution_count": 11,
      "outputs": [
        {
          "output_type": "execute_result",
          "data": {
            "text/plain": [
              "(197,)"
            ]
          },
          "metadata": {
            "tags": []
          },
          "execution_count": 11
        }
      ]
    },
    {
      "cell_type": "code",
      "metadata": {
        "id": "DPZ0EHx0z-4x"
      },
      "source": [
        "def cycle_plotter(cycle_index):\n",
        "  features = ['voltage_measured', 'currenet_measured', 'temperature', 'current_load/charge', 'voltage_load/charge']\n",
        "  for i, label in enumerate(features):\n",
        "    y = np.vstack(new_cycles[0,cycle_index][3][0,0])[i]\n",
        "    x = np.vstack(new_cycles[0,cycle_index][3][0,0])[5]\n",
        "    f=plt.figure()\n",
        "    plt.ylabel(label)\n",
        "    plt.xlabel('time')\n",
        "    plt.title(label)\n",
        "    plt.scatter(x, y)\n",
        "  plt.show()"
      ],
      "execution_count": 12,
      "outputs": []
    },
    {
      "cell_type": "markdown",
      "metadata": {
        "id": "ITu6BXod0Axb"
      },
      "source": [
        "Discharging -  temperature related features\n",
        "1. Time taken for discharging temperature to reach max value (set threshold 1000s)\n",
        "2. Max temp during discharge\n",
        "\n"
      ]
    },
    {
      "cell_type": "code",
      "metadata": {
        "id": "dLGS1OkSjn1w"
      },
      "source": [
        "# feature 1,2,6,7\n",
        "def extract_feature_1_2_6_7(indices, cycles, threshold = 1000):\n",
        "  '''\n",
        "  This function returns two lists - first is the time to reach the maximum \n",
        "  temperature for each cycle, second is the maximum temperature for each cycle.\n",
        "  This can be used for both charging and discharging cycles, just input the \n",
        "  correct list of indices. NB for charging cycles remove the extra two cycles\n",
        "  first\n",
        "  --------\n",
        "  indices: list, a list that can be generated using function get_indices \n",
        "          containing indices of discharging/ charging cycles\n",
        "  cycles: array, an array containing all the data of the battery. It has to be\n",
        "          preprocessed to be stackable and indexable.\n",
        "  threshold: int, set by default to 1000 to avoid taking in to account of \n",
        "             anomalous max temp data\n",
        "  outputs\n",
        "  --------\n",
        "  max_temp_time_list: list, a list that contains the corresponding time of the \n",
        "                      maximum temperature in every discharging/ charging cycle\n",
        "  max_temp_list: list, a list that contains the maximum temperature in every\n",
        "                 discharging/ charging cycle \n",
        "                \n",
        "  note: the lengths of the lists should be the same = the length of the input \n",
        "  list of indices.\n",
        "  '''\n",
        "  max_temp_time_list = []\n",
        "  max_temp_list = []\n",
        "  for index in indices:\n",
        "    times = new_cycles[0,index][3][0,0][5].flatten().tolist()\n",
        "    temps = new_cycles[0,index][3][0,0][2].flatten().tolist()\n",
        "    threshold_index =  next(i for i, time in enumerate(times) if time > threshold)\n",
        "    temps = temps[threshold_index:]\n",
        "    times = times[threshold_index:]\n",
        "    max_temp = max(temps)\n",
        "    max_temp_index = temps.index(max_temp)\n",
        "    max_temp_time_list.append(times[max_temp_index])\n",
        "    max_temp_list.append(max_temp)\n",
        "  return max_temp_time_list, max_temp_list\n"
      ],
      "execution_count": 27,
      "outputs": []
    },
    {
      "cell_type": "code",
      "metadata": {
        "id": "h5x7bfHDOGiS"
      },
      "source": [
        "# feature 3\n",
        "def extract_feature_3(discharge_indices, cycles):\n",
        "    \"\"\"\n",
        "    Inputs\n",
        "    --------\n",
        "    indices: list, a list that can be generated using function get_indices \n",
        "          containing indices of discharging/ charging cycles\n",
        "    cycles: array, an array containing all the data of the battery. It has to be\n",
        "          preprocessed to be stackable and indexable.\n",
        "    threshold: int, set by default to 1000 to avoid taking in to account of \n",
        "             anomalous max temp data\n",
        "\n",
        "    \"\"\"\n",
        "    max_temp_times, max_temps = time_list_maxtemp_list(discharge_indices, cycles)\n",
        "    initial_temps = []\n",
        "    for discharge_index in discharge_indices:\n",
        "      initial_temp = new_cycles[0,discharge_index][3][0,0][2].flatten().tolist()[0]\n",
        "      initial_temps.append(initial_temp)\n",
        "    slopes = (np.array(max_temps)-np.array(initial_temps))/np.array(max_temp_times)\n",
        "    return slopes.tolist()"
      ],
      "execution_count": 18,
      "outputs": []
    },
    {
      "cell_type": "code",
      "metadata": {
        "id": "6AqUghsSSLQB"
      },
      "source": [
        "def extract_feature_4(dataset=new_cycles, indices=discharge_indices, threshold=500, voltage_cutoff=3): #time for voltage_measured to drop below 3V during discharge\n",
        "  '''\n",
        "  Feature 4 is the time for voltage_measured to drop below 3V during discharge.\n",
        "  **Input**\n",
        "  data = full cycle data\n",
        "  indices = list of indices from which we would like to extract features\n",
        "  threshold = time from which to start checking (to avoid anomalous data at the start)\n",
        "\n",
        "  **Output**\n",
        "  feature_4_list = list of feature values for each cycle\n",
        "  '''\n",
        "  feature_4_list = []\n",
        "\n",
        "  for index in indices:\n",
        "    voltage_measured_list = (dataset[0,index][3][0,0][0]).flatten().tolist() #turn voltage_measured numpy array into list\n",
        "    time_list = (dataset[0,index][3][0,0][5]).flatten().tolist() #turn time vector into list\n",
        "    threshold_index = next(i for i, time in enumerate(time_list) if time > threshold) #getting index of threshold\n",
        "    voltage_measured_list = voltage_measured_list[threshold_index:] #shortening voltage_measured_list and time_list\n",
        "    time_list = time_list[threshold_index:]\n",
        "    index_3V = next(i for i, voltage in enumerate(voltage_measured_list) if voltage < voltage_cutoff) #getting index of when 3V is reached\n",
        "    feature_4_list.append(time_list[index_3V]) #getting the corresponding time\n",
        "\n",
        "  return feature_4_list\n"
      ],
      "execution_count": 15,
      "outputs": []
    },
    {
      "cell_type": "code",
      "metadata": {
        "id": "O_wByksDSVKw"
      },
      "source": [
        "def extract_feature_5(dataset=new_cycles, indices=discharge_indices, N=20): #slope of first N datapoints of voltage_measured during discharge\n",
        "  '''\n",
        "  Feature 5 is the slope of voltage_measured using the first N data points.\n",
        "  **Input**\n",
        "  data = full cycle data\n",
        "  indices = list of indices from which we would like to extract features\n",
        "  N = cutoff point to measure slope\n",
        "\n",
        "  **Output**\n",
        "  feature_5_list = list of feature values for each cycle\n",
        "  '''\n",
        "  feature_5_list = []\n",
        "\n",
        "  for index in indices:\n",
        "    voltage_measured_list = (dataset[0,index][3][0,0][0]).flatten().tolist() #turn voltage_measured numpy array into list\n",
        "    time_list = (dataset[0,index][3][0,0][5]).flatten().tolist() #turn time vector into list\n",
        "    slope = (voltage_measured_list[N] - voltage_measured_list[0])/time_list[N]\n",
        "    feature_5_list.append(slope)\n",
        "  \n",
        "  return feature_5_list"
      ],
      "execution_count": 16,
      "outputs": []
    },
    {
      "cell_type": "code",
      "metadata": {
        "id": "UqDhpxEVahkr"
      },
      "source": [
        "def extract_label(dataset=new_cycles, indices=discharge_indices):\n",
        "  labels = []\n",
        "  for index in indices:\n",
        "    label = (dataset[0,index][3][0,0][6]).flatten().tolist()\n",
        "    labels.append(label[0])\n",
        "  return labels"
      ],
      "execution_count": 44,
      "outputs": []
    },
    {
      "cell_type": "code",
      "metadata": {
        "id": "voxvwdj6KMGk"
      },
      "source": [
        "feature_1_list, feature_2_list = extract_feature_1_2_6_7(get_indices(new_cycles, is_charge=False), new_cycles)\n",
        "feature_6_list, feature_7_list = extract_feature_1_2_6_7(charge_indices, new_cycles)\n",
        "feature_3_list = extract_feature_3(get_indices(new_cycles, is_charge=False), new_cycles)\n",
        "feature_4_list = extract_feature_4(new_cycles, get_indices(new_cycles, is_charge=False))\n",
        "feature_5_list = extract_feature_5(new_cycles, get_indices(new_cycles, is_charge=False))\n",
        "label_list = extract_label(new_cycles, get_indices(new_cycles, is_charge=False))"
      ],
      "execution_count": 45,
      "outputs": []
    },
    {
      "cell_type": "code",
      "metadata": {
        "id": "h-9MeaOEVCEK"
      },
      "source": [
        "features_dict = {'time_for_max_temp_D':feature_1_list,'max_temp_D':feature_2_list,\n",
        "                 'slope_temp_D': feature_3_list, 'time_voltage_measured_below3_D':feature_4_list,\n",
        "                 'slope_voltage_measured_D':feature_5_list, 'time_for_max_temp_C':feature_6_list,\n",
        "                 'max_temp_C':feature_7_list, 'capacity/label': label_list}"
      ],
      "execution_count": 46,
      "outputs": []
    },
    {
      "cell_type": "code",
      "metadata": {
        "colab": {
          "base_uri": "https://localhost:8080/",
          "height": 1000
        },
        "id": "OsWMwxkYX34M",
        "outputId": "0c26be52-0e42-4de0-a0f4-697d98f98249"
      },
      "source": [
        "cycle_plotter(2)"
      ],
      "execution_count": 33,
      "outputs": [
        {
          "output_type": "display_data",
          "data": {
            "image/png": "[encoded data removed]",
            "text/plain": [
              "<Figure size 432x288 with 1 Axes>"
            ]
          },
          "metadata": {
            "tags": [],
            "needs_background": "light"
          }
        },
        {
          "output_type": "display_data",
          "data": {
            "image/png": "[encoded data removed]",
            "text/plain": [
              "<Figure size 432x288 with 1 Axes>"
            ]
          },
          "metadata": {
            "tags": [],
            "needs_background": "light"
          }
        },
        {
          "output_type": "display_data",
          "data": {
            "image/png": "[encoded data removed]",
            "text/plain": [
              "<Figure size 432x288 with 1 Axes>"
            ]
          },
          "metadata": {
            "tags": [],
            "needs_background": "light"
          }
        },
        {
          "output_type": "display_data",
          "data": {
            "image/png": "[encoded data removed]",
            "text/plain": [
              "<Figure size 432x288 with 1 Axes>"
            ]
          },
          "metadata": {
            "tags": [],
            "needs_background": "light"
          }
        },
        {
          "output_type": "display_data",
          "data": {
            "image/png": "[encoded data removed]",
            "text/plain": [
              "<Figure size 432x288 with 1 Axes>"
            ]
          },
          "metadata": {
            "tags": [],
            "needs_background": "light"
          }
        }
      ]
    },
    {
      "cell_type": "code",
      "metadata": {
        "colab": {
          "base_uri": "https://localhost:8080/",
          "height": 421
        },
        "id": "biVUPk1ZWkhi",
        "outputId": "192bcd94-61d6-4ccc-8bac-e0e78632cc3f"
      },
      "source": [
        "df = pd.DataFrame(data = features_dict)\n",
        "df"
      ],
      "execution_count": 47,
      "outputs": [
        {
          "output_type": "execute_result",
          "data": {
            "text/html": [
              "<div>\n",
              "<style scoped>\n",
              "    .dataframe tbody tr th:only-of-type {\n",
              "        vertical-align: middle;\n",
              "    }\n",
              "\n",
              "    .dataframe tbody tr th {\n",
              "        vertical-align: top;\n",
              "    }\n",
              "\n",
              "    .dataframe thead th {\n",
              "        text-align: right;\n",
              "    }\n",
              "</style>\n",
              "<table border=\"1\" class=\"dataframe\">\n",
              "  <thead>\n",
              "    <tr style=\"text-align: right;\">\n",
              "      <th></th>\n",
              "      <th>time_for_max_temp_D</th>\n",
              "      <th>max_temp_D</th>\n",
              "      <th>slope_temp_D</th>\n",
              "      <th>time_voltage_measured_below3_D</th>\n",
              "      <th>slope_voltage_measured_D</th>\n",
              "      <th>time_for_max_temp_C</th>\n",
              "      <th>max_temp_C</th>\n",
              "      <th>capacity/label</th>\n",
              "    </tr>\n",
              "  </thead>\n",
              "  <tbody>\n",
              "    <tr>\n",
              "      <th>0</th>\n",
              "      <td>3366.781</td>\n",
              "      <td>38.982181</td>\n",
              "      <td>0.006360</td>\n",
              "      <td>3287.969</td>\n",
              "      <td>-0.001049</td>\n",
              "      <td>1006.094</td>\n",
              "      <td>27.317609</td>\n",
              "      <td>1.856487</td>\n",
              "    </tr>\n",
              "    <tr>\n",
              "      <th>1</th>\n",
              "      <td>3348.735</td>\n",
              "      <td>39.033398</td>\n",
              "      <td>0.006271</td>\n",
              "      <td>3269.688</td>\n",
              "      <td>-0.001026</td>\n",
              "      <td>3447.609</td>\n",
              "      <td>29.203048</td>\n",
              "      <td>1.846327</td>\n",
              "    </tr>\n",
              "    <tr>\n",
              "      <th>2</th>\n",
              "      <td>3329.281</td>\n",
              "      <td>38.818797</td>\n",
              "      <td>0.006212</td>\n",
              "      <td>3250.437</td>\n",
              "      <td>-0.001016</td>\n",
              "      <td>3419.156</td>\n",
              "      <td>29.334557</td>\n",
              "      <td>1.835349</td>\n",
              "    </tr>\n",
              "    <tr>\n",
              "      <th>3</th>\n",
              "      <td>3329.500</td>\n",
              "      <td>38.762305</td>\n",
              "      <td>0.006221</td>\n",
              "      <td>3250.563</td>\n",
              "      <td>-0.001010</td>\n",
              "      <td>3421.593</td>\n",
              "      <td>29.255008</td>\n",
              "      <td>1.835263</td>\n",
              "    </tr>\n",
              "    <tr>\n",
              "      <th>4</th>\n",
              "      <td>3327.531</td>\n",
              "      <td>38.665393</td>\n",
              "      <td>0.006238</td>\n",
              "      <td>3248.766</td>\n",
              "      <td>-0.001007</td>\n",
              "      <td>3395.125</td>\n",
              "      <td>29.129995</td>\n",
              "      <td>1.834646</td>\n",
              "    </tr>\n",
              "    <tr>\n",
              "      <th>...</th>\n",
              "      <td>...</td>\n",
              "      <td>...</td>\n",
              "      <td>...</td>\n",
              "      <td>...</td>\n",
              "      <td>...</td>\n",
              "      <td>...</td>\n",
              "      <td>...</td>\n",
              "      <td>...</td>\n",
              "    </tr>\n",
              "    <tr>\n",
              "      <th>163</th>\n",
              "      <td>2346.812</td>\n",
              "      <td>40.983663</td>\n",
              "      <td>0.012865</td>\n",
              "      <td>2232.203</td>\n",
              "      <td>-0.002140</td>\n",
              "      <td>1963.141</td>\n",
              "      <td>29.346694</td>\n",
              "      <td>1.293464</td>\n",
              "    </tr>\n",
              "    <tr>\n",
              "      <th>164</th>\n",
              "      <td>2327.750</td>\n",
              "      <td>40.982342</td>\n",
              "      <td>0.012997</td>\n",
              "      <td>2222.625</td>\n",
              "      <td>-0.002136</td>\n",
              "      <td>1945.328</td>\n",
              "      <td>29.392476</td>\n",
              "      <td>1.288003</td>\n",
              "    </tr>\n",
              "    <tr>\n",
              "      <th>165</th>\n",
              "      <td>2336.282</td>\n",
              "      <td>41.063751</td>\n",
              "      <td>0.012937</td>\n",
              "      <td>2222.094</td>\n",
              "      <td>-0.002141</td>\n",
              "      <td>1916.609</td>\n",
              "      <td>29.451853</td>\n",
              "      <td>1.287453</td>\n",
              "    </tr>\n",
              "    <tr>\n",
              "      <th>166</th>\n",
              "      <td>2365.219</td>\n",
              "      <td>41.047030</td>\n",
              "      <td>0.011854</td>\n",
              "      <td>2260.453</td>\n",
              "      <td>-0.002043</td>\n",
              "      <td>1912.391</td>\n",
              "      <td>29.487007</td>\n",
              "      <td>1.309015</td>\n",
              "    </tr>\n",
              "    <tr>\n",
              "      <th>167</th>\n",
              "      <td>2393.578</td>\n",
              "      <td>41.051008</td>\n",
              "      <td>0.011501</td>\n",
              "      <td>2288.687</td>\n",
              "      <td>-0.002054</td>\n",
              "      <td>1948.250</td>\n",
              "      <td>29.072716</td>\n",
              "      <td>1.325079</td>\n",
              "    </tr>\n",
              "  </tbody>\n",
              "</table>\n",
              "<p>168 rows × 8 columns</p>\n",
              "</div>"
            ],
            "text/plain": [
              "     time_for_max_temp_D  max_temp_D  ...  max_temp_C  capacity/label\n",
              "0               3366.781   38.982181  ...   27.317609        1.856487\n",
              "1               3348.735   39.033398  ...   29.203048        1.846327\n",
              "2               3329.281   38.818797  ...   29.334557        1.835349\n",
              "3               3329.500   38.762305  ...   29.255008        1.835263\n",
              "4               3327.531   38.665393  ...   29.129995        1.834646\n",
              "..                   ...         ...  ...         ...             ...\n",
              "163             2346.812   40.983663  ...   29.346694        1.293464\n",
              "164             2327.750   40.982342  ...   29.392476        1.288003\n",
              "165             2336.282   41.063751  ...   29.451853        1.287453\n",
              "166             2365.219   41.047030  ...   29.487007        1.309015\n",
              "167             2393.578   41.051008  ...   29.072716        1.325079\n",
              "\n",
              "[168 rows x 8 columns]"
            ]
          },
          "metadata": {
            "tags": []
          },
          "execution_count": 47
        }
      ]
    },
    {
      "cell_type": "code",
      "metadata": {
        "colab": {
          "base_uri": "https://localhost:8080/",
          "height": 319
        },
        "id": "iPwVlZkKbrQY",
        "outputId": "ceaebd8e-0a0e-41e0-8abf-61649c62ba5d"
      },
      "source": [
        "corr_matrix = df.corr()\n",
        "corr_matrix"
      ],
      "execution_count": 48,
      "outputs": [
        {
          "output_type": "execute_result",
          "data": {
            "text/html": [
              "<div>\n",
              "<style scoped>\n",
              "    .dataframe tbody tr th:only-of-type {\n",
              "        vertical-align: middle;\n",
              "    }\n",
              "\n",
              "    .dataframe tbody tr th {\n",
              "        vertical-align: top;\n",
              "    }\n",
              "\n",
              "    .dataframe thead th {\n",
              "        text-align: right;\n",
              "    }\n",
              "</style>\n",
              "<table border=\"1\" class=\"dataframe\">\n",
              "  <thead>\n",
              "    <tr style=\"text-align: right;\">\n",
              "      <th></th>\n",
              "      <th>time_for_max_temp_D</th>\n",
              "      <th>max_temp_D</th>\n",
              "      <th>slope_temp_D</th>\n",
              "      <th>time_voltage_measured_below3_D</th>\n",
              "      <th>slope_voltage_measured_D</th>\n",
              "      <th>time_for_max_temp_C</th>\n",
              "      <th>max_temp_C</th>\n",
              "      <th>capacity/label</th>\n",
              "    </tr>\n",
              "  </thead>\n",
              "  <tbody>\n",
              "    <tr>\n",
              "      <th>time_for_max_temp_D</th>\n",
              "      <td>1.000000</td>\n",
              "      <td>-0.933960</td>\n",
              "      <td>-0.988396</td>\n",
              "      <td>0.999710</td>\n",
              "      <td>0.882532</td>\n",
              "      <td>0.878305</td>\n",
              "      <td>-0.508610</td>\n",
              "      <td>0.999813</td>\n",
              "    </tr>\n",
              "    <tr>\n",
              "      <th>max_temp_D</th>\n",
              "      <td>-0.933960</td>\n",
              "      <td>1.000000</td>\n",
              "      <td>0.910608</td>\n",
              "      <td>-0.937172</td>\n",
              "      <td>-0.809807</td>\n",
              "      <td>-0.851372</td>\n",
              "      <td>0.578307</td>\n",
              "      <td>-0.935272</td>\n",
              "    </tr>\n",
              "    <tr>\n",
              "      <th>slope_temp_D</th>\n",
              "      <td>-0.988396</td>\n",
              "      <td>0.910608</td>\n",
              "      <td>1.000000</td>\n",
              "      <td>-0.988147</td>\n",
              "      <td>-0.839440</td>\n",
              "      <td>-0.878138</td>\n",
              "      <td>0.450029</td>\n",
              "      <td>-0.989303</td>\n",
              "    </tr>\n",
              "    <tr>\n",
              "      <th>time_voltage_measured_below3_D</th>\n",
              "      <td>0.999710</td>\n",
              "      <td>-0.937172</td>\n",
              "      <td>-0.988147</td>\n",
              "      <td>1.000000</td>\n",
              "      <td>0.878277</td>\n",
              "      <td>0.878788</td>\n",
              "      <td>-0.511434</td>\n",
              "      <td>0.999804</td>\n",
              "    </tr>\n",
              "    <tr>\n",
              "      <th>slope_voltage_measured_D</th>\n",
              "      <td>0.882532</td>\n",
              "      <td>-0.809807</td>\n",
              "      <td>-0.839440</td>\n",
              "      <td>0.878277</td>\n",
              "      <td>1.000000</td>\n",
              "      <td>0.783053</td>\n",
              "      <td>-0.431166</td>\n",
              "      <td>0.874517</td>\n",
              "    </tr>\n",
              "    <tr>\n",
              "      <th>time_for_max_temp_C</th>\n",
              "      <td>0.878305</td>\n",
              "      <td>-0.851372</td>\n",
              "      <td>-0.878138</td>\n",
              "      <td>0.878788</td>\n",
              "      <td>0.783053</td>\n",
              "      <td>1.000000</td>\n",
              "      <td>-0.195099</td>\n",
              "      <td>0.878075</td>\n",
              "    </tr>\n",
              "    <tr>\n",
              "      <th>max_temp_C</th>\n",
              "      <td>-0.508610</td>\n",
              "      <td>0.578307</td>\n",
              "      <td>0.450029</td>\n",
              "      <td>-0.511434</td>\n",
              "      <td>-0.431166</td>\n",
              "      <td>-0.195099</td>\n",
              "      <td>1.000000</td>\n",
              "      <td>-0.510329</td>\n",
              "    </tr>\n",
              "    <tr>\n",
              "      <th>capacity/label</th>\n",
              "      <td>0.999813</td>\n",
              "      <td>-0.935272</td>\n",
              "      <td>-0.989303</td>\n",
              "      <td>0.999804</td>\n",
              "      <td>0.874517</td>\n",
              "      <td>0.878075</td>\n",
              "      <td>-0.510329</td>\n",
              "      <td>1.000000</td>\n",
              "    </tr>\n",
              "  </tbody>\n",
              "</table>\n",
              "</div>"
            ],
            "text/plain": [
              "                                time_for_max_temp_D  ...  capacity/label\n",
              "time_for_max_temp_D                        1.000000  ...        0.999813\n",
              "max_temp_D                                -0.933960  ...       -0.935272\n",
              "slope_temp_D                              -0.988396  ...       -0.989303\n",
              "time_voltage_measured_below3_D             0.999710  ...        0.999804\n",
              "slope_voltage_measured_D                   0.882532  ...        0.874517\n",
              "time_for_max_temp_C                        0.878305  ...        0.878075\n",
              "max_temp_C                                -0.508610  ...       -0.510329\n",
              "capacity/label                             0.999813  ...        1.000000\n",
              "\n",
              "[8 rows x 8 columns]"
            ]
          },
          "metadata": {
            "tags": []
          },
          "execution_count": 48
        }
      ]
    },
    {
      "cell_type": "code",
      "metadata": {
        "colab": {
          "base_uri": "https://localhost:8080/",
          "height": 297
        },
        "id": "N0FE5a6jYmmb",
        "outputId": "98aa36ec-0aa9-473f-c836-ac5054233046"
      },
      "source": [
        "df.reset_index().plot(kind= 'scatter', x = 'index', y = 'max_temp_C')"
      ],
      "execution_count": 39,
      "outputs": [
        {
          "output_type": "execute_result",
          "data": {
            "text/plain": [
              "<matplotlib.axes._subplots.AxesSubplot at 0x7f6115f17b10>"
            ]
          },
          "metadata": {
            "tags": []
          },
          "execution_count": 39
        },
        {
          "output_type": "display_data",
          "data": {
            "image/png": "[encoded data removed]",
            "text/plain": [
              "<Figure size 432x288 with 1 Axes>"
            ]
          },
          "metadata": {
            "tags": [],
            "needs_background": "light"
          }
        }
      ]
    },
    {
      "cell_type": "code",
      "metadata": {
        "colab": {
          "base_uri": "https://localhost:8080/",
          "height": 297
        },
        "id": "E8xVxz_jZAww",
        "outputId": "71dafb9b-a91e-40de-f4dc-460431f584b0"
      },
      "source": [
        "df.reset_index().plot(kind= 'scatter', x = 'index', y = 'max_temp_D')"
      ],
      "execution_count": 40,
      "outputs": [
        {
          "output_type": "execute_result",
          "data": {
            "text/plain": [
              "<matplotlib.axes._subplots.AxesSubplot at 0x7f6115869cd0>"
            ]
          },
          "metadata": {
            "tags": []
          },
          "execution_count": 40
        },
        {
          "output_type": "display_data",
          "data": {
            "image/png": "[encoded data removed]",
            "text/plain": [
              "<Figure size 432x288 with 1 Axes>"
            ]
          },
          "metadata": {
            "tags": [],
            "needs_background": "light"
          }
        }
      ]
    },
    {
      "cell_type": "code",
      "metadata": {
        "colab": {
          "base_uri": "https://localhost:8080/",
          "height": 297
        },
        "id": "VtVgYaQEZnJV",
        "outputId": "29c3fbac-bba9-4d90-e82d-bfab5109fbe2"
      },
      "source": [
        "df.reset_index().plot(kind= 'scatter', x = 'index', y = 'time_for_max_temp_D')"
      ],
      "execution_count": 41,
      "outputs": [
        {
          "output_type": "execute_result",
          "data": {
            "text/plain": [
              "<matplotlib.axes._subplots.AxesSubplot at 0x7f6115869c50>"
            ]
          },
          "metadata": {
            "tags": []
          },
          "execution_count": 41
        },
        {
          "output_type": "display_data",
          "data": {
            "image/png": "[encoded data removed]",
            "text/plain": [
              "<Figure size 432x288 with 1 Axes>"
            ]
          },
          "metadata": {
            "tags": [],
            "needs_background": "light"
          }
        }
      ]
    },
    {
      "cell_type": "code",
      "metadata": {
        "colab": {
          "base_uri": "https://localhost:8080/",
          "height": 132
        },
        "id": "iEPmpMMFeHR3",
        "outputId": "e38e3735-312f-42f8-a7f8-429fe0ad6fa2"
      },
      "source": [
        "conda install scikit-learn"
      ],
      "execution_count": 59,
      "outputs": [
        {
          "output_type": "error",
          "ename": "SyntaxError",
          "evalue": "ignored",
          "traceback": [
            "\u001b[0;36m  File \u001b[0;32m\"<ipython-input-59-2ba64cbb7597>\"\u001b[0;36m, line \u001b[0;32m1\u001b[0m\n\u001b[0;31m    conda install scikit-learn\u001b[0m\n\u001b[0m                ^\u001b[0m\n\u001b[0;31mSyntaxError\u001b[0m\u001b[0;31m:\u001b[0m invalid syntax\n"
          ]
        }
      ]
    },
    {
      "cell_type": "code",
      "metadata": {
        "colab": {
          "base_uri": "https://localhost:8080/",
          "height": 455
        },
        "id": "Ol96s_YWaBqM",
        "outputId": "704bc302-d395-4a7a-de55-dd07a0657870"
      },
      "source": [
        "from sklearn.model_selection import train_test_split"
      ],
      "execution_count": 56,
      "outputs": [
        {
          "output_type": "error",
          "ename": "ImportError",
          "evalue": "ignored",
          "traceback": [
            "\u001b[0;31m---------------------------------------------------------------------------\u001b[0m",
            "\u001b[0;31mImportError\u001b[0m                               Traceback (most recent call last)",
            "\u001b[0;32m<ipython-input-56-73edc048c06b>\u001b[0m in \u001b[0;36m<module>\u001b[0;34m()\u001b[0m\n\u001b[0;32m----> 1\u001b[0;31m \u001b[0;32mfrom\u001b[0m \u001b[0msklearn\u001b[0m\u001b[0;34m.\u001b[0m\u001b[0mmodel_selection\u001b[0m \u001b[0;32mimport\u001b[0m \u001b[0mtrain_test_split\u001b[0m\u001b[0;34m\u001b[0m\u001b[0;34m\u001b[0m\u001b[0m\n\u001b[0m",
            "\u001b[0;32m/usr/local/lib/python3.7/dist-packages/sklearn/__init__.py\u001b[0m in \u001b[0;36m<module>\u001b[0;34m()\u001b[0m\n\u001b[1;32m     80\u001b[0m     \u001b[0;32mfrom\u001b[0m \u001b[0;34m.\u001b[0m \u001b[0;32mimport\u001b[0m \u001b[0m_distributor_init\u001b[0m  \u001b[0;31m# noqa: F401\u001b[0m\u001b[0;34m\u001b[0m\u001b[0;34m\u001b[0m\u001b[0m\n\u001b[1;32m     81\u001b[0m     \u001b[0;32mfrom\u001b[0m \u001b[0;34m.\u001b[0m \u001b[0;32mimport\u001b[0m \u001b[0m__check_build\u001b[0m  \u001b[0;31m# noqa: F401\u001b[0m\u001b[0;34m\u001b[0m\u001b[0;34m\u001b[0m\u001b[0m\n\u001b[0;32m---> 82\u001b[0;31m     \u001b[0;32mfrom\u001b[0m \u001b[0;34m.\u001b[0m\u001b[0mbase\u001b[0m \u001b[0;32mimport\u001b[0m \u001b[0mclone\u001b[0m\u001b[0;34m\u001b[0m\u001b[0;34m\u001b[0m\u001b[0m\n\u001b[0m\u001b[1;32m     83\u001b[0m     \u001b[0;32mfrom\u001b[0m \u001b[0;34m.\u001b[0m\u001b[0mutils\u001b[0m\u001b[0;34m.\u001b[0m\u001b[0m_show_versions\u001b[0m \u001b[0;32mimport\u001b[0m \u001b[0mshow_versions\u001b[0m\u001b[0;34m\u001b[0m\u001b[0;34m\u001b[0m\u001b[0m\n\u001b[1;32m     84\u001b[0m \u001b[0;34m\u001b[0m\u001b[0m\n",
            "\u001b[0;32m/usr/local/lib/python3.7/dist-packages/sklearn/base.py\u001b[0m in \u001b[0;36m<module>\u001b[0;34m()\u001b[0m\n\u001b[1;32m     18\u001b[0m \u001b[0;34m\u001b[0m\u001b[0m\n\u001b[1;32m     19\u001b[0m \u001b[0;32mfrom\u001b[0m \u001b[0;34m.\u001b[0m \u001b[0;32mimport\u001b[0m \u001b[0m__version__\u001b[0m\u001b[0;34m\u001b[0m\u001b[0;34m\u001b[0m\u001b[0m\n\u001b[0;32m---> 20\u001b[0;31m \u001b[0;32mfrom\u001b[0m \u001b[0;34m.\u001b[0m\u001b[0mutils\u001b[0m \u001b[0;32mimport\u001b[0m \u001b[0m_IS_32BIT\u001b[0m\u001b[0;34m\u001b[0m\u001b[0;34m\u001b[0m\u001b[0m\n\u001b[0m\u001b[1;32m     21\u001b[0m \u001b[0;34m\u001b[0m\u001b[0m\n\u001b[1;32m     22\u001b[0m _DEFAULT_TAGS = {\n",
            "\u001b[0;32m/usr/local/lib/python3.7/dist-packages/sklearn/utils/__init__.py\u001b[0m in \u001b[0;36m<module>\u001b[0;34m()\u001b[0m\n\u001b[1;32m     25\u001b[0m \u001b[0;32mfrom\u001b[0m \u001b[0;34m.\u001b[0m\u001b[0;34m.\u001b[0m\u001b[0mexceptions\u001b[0m \u001b[0;32mimport\u001b[0m \u001b[0mDataConversionWarning\u001b[0m\u001b[0;34m\u001b[0m\u001b[0;34m\u001b[0m\u001b[0m\n\u001b[1;32m     26\u001b[0m \u001b[0;32mfrom\u001b[0m \u001b[0;34m.\u001b[0m\u001b[0mdeprecation\u001b[0m \u001b[0;32mimport\u001b[0m \u001b[0mdeprecated\u001b[0m\u001b[0;34m\u001b[0m\u001b[0;34m\u001b[0m\u001b[0m\n\u001b[0;32m---> 27\u001b[0;31m \u001b[0;32mfrom\u001b[0m \u001b[0;34m.\u001b[0m\u001b[0mfixes\u001b[0m \u001b[0;32mimport\u001b[0m \u001b[0mnp_version\u001b[0m\u001b[0;34m\u001b[0m\u001b[0;34m\u001b[0m\u001b[0m\n\u001b[0m\u001b[1;32m     28\u001b[0m from .validation import (as_float_array,\n\u001b[1;32m     29\u001b[0m                          \u001b[0massert_all_finite\u001b[0m\u001b[0;34m,\u001b[0m\u001b[0;34m\u001b[0m\u001b[0;34m\u001b[0m\u001b[0m\n",
            "\u001b[0;32m/usr/local/lib/python3.7/dist-packages/sklearn/utils/fixes.py\u001b[0m in \u001b[0;36m<module>\u001b[0;34m()\u001b[0m\n\u001b[1;32m     16\u001b[0m \u001b[0;32mimport\u001b[0m \u001b[0mscipy\u001b[0m\u001b[0;34m.\u001b[0m\u001b[0msparse\u001b[0m \u001b[0;32mas\u001b[0m \u001b[0msp\u001b[0m\u001b[0;34m\u001b[0m\u001b[0;34m\u001b[0m\u001b[0m\n\u001b[1;32m     17\u001b[0m \u001b[0;32mimport\u001b[0m \u001b[0mscipy\u001b[0m\u001b[0;34m\u001b[0m\u001b[0;34m\u001b[0m\u001b[0m\n\u001b[0;32m---> 18\u001b[0;31m \u001b[0;32mimport\u001b[0m \u001b[0mscipy\u001b[0m\u001b[0;34m.\u001b[0m\u001b[0mstats\u001b[0m\u001b[0;34m\u001b[0m\u001b[0;34m\u001b[0m\u001b[0m\n\u001b[0m\u001b[1;32m     19\u001b[0m \u001b[0;32mfrom\u001b[0m \u001b[0mscipy\u001b[0m\u001b[0;34m.\u001b[0m\u001b[0msparse\u001b[0m\u001b[0;34m.\u001b[0m\u001b[0mlinalg\u001b[0m \u001b[0;32mimport\u001b[0m \u001b[0mlsqr\u001b[0m \u001b[0;32mas\u001b[0m \u001b[0msparse_lsqr\u001b[0m  \u001b[0;31m# noqa\u001b[0m\u001b[0;34m\u001b[0m\u001b[0;34m\u001b[0m\u001b[0m\n\u001b[1;32m     20\u001b[0m \u001b[0;34m\u001b[0m\u001b[0m\n",
            "\u001b[0;32m/usr/local/lib/python3.7/dist-packages/scipy/stats/__init__.py\u001b[0m in \u001b[0;36m<module>\u001b[0;34m()\u001b[0m\n\u001b[1;32m    439\u001b[0m \"\"\"\n\u001b[1;32m    440\u001b[0m \u001b[0;34m\u001b[0m\u001b[0m\n\u001b[0;32m--> 441\u001b[0;31m \u001b[0;32mfrom\u001b[0m \u001b[0;34m.\u001b[0m\u001b[0mstats\u001b[0m \u001b[0;32mimport\u001b[0m \u001b[0;34m*\u001b[0m\u001b[0;34m\u001b[0m\u001b[0;34m\u001b[0m\u001b[0m\n\u001b[0m\u001b[1;32m    442\u001b[0m \u001b[0;32mfrom\u001b[0m \u001b[0;34m.\u001b[0m\u001b[0mdistributions\u001b[0m \u001b[0;32mimport\u001b[0m \u001b[0;34m*\u001b[0m\u001b[0;34m\u001b[0m\u001b[0;34m\u001b[0m\u001b[0m\n\u001b[1;32m    443\u001b[0m \u001b[0;32mfrom\u001b[0m \u001b[0;34m.\u001b[0m\u001b[0mmorestats\u001b[0m \u001b[0;32mimport\u001b[0m \u001b[0;34m*\u001b[0m\u001b[0;34m\u001b[0m\u001b[0;34m\u001b[0m\u001b[0m\n",
            "\u001b[0;32m/usr/local/lib/python3.7/dist-packages/scipy/stats/stats.py\u001b[0m in \u001b[0;36m<module>\u001b[0;34m()\u001b[0m\n\u001b[1;32m     35\u001b[0m \u001b[0;32mfrom\u001b[0m \u001b[0mnumpy\u001b[0m \u001b[0;32mimport\u001b[0m \u001b[0marray\u001b[0m\u001b[0;34m,\u001b[0m \u001b[0masarray\u001b[0m\u001b[0;34m,\u001b[0m \u001b[0mma\u001b[0m\u001b[0;34m\u001b[0m\u001b[0;34m\u001b[0m\u001b[0m\n\u001b[1;32m     36\u001b[0m \u001b[0;34m\u001b[0m\u001b[0m\n\u001b[0;32m---> 37\u001b[0;31m \u001b[0;32mfrom\u001b[0m \u001b[0mscipy\u001b[0m\u001b[0;34m.\u001b[0m\u001b[0mspatial\u001b[0m\u001b[0;34m.\u001b[0m\u001b[0mdistance\u001b[0m \u001b[0;32mimport\u001b[0m \u001b[0mcdist\u001b[0m\u001b[0;34m\u001b[0m\u001b[0;34m\u001b[0m\u001b[0m\n\u001b[0m\u001b[1;32m     38\u001b[0m \u001b[0;32mfrom\u001b[0m \u001b[0mscipy\u001b[0m\u001b[0;34m.\u001b[0m\u001b[0mndimage\u001b[0m \u001b[0;32mimport\u001b[0m \u001b[0mmeasurements\u001b[0m\u001b[0;34m\u001b[0m\u001b[0;34m\u001b[0m\u001b[0m\n\u001b[1;32m     39\u001b[0m from scipy._lib._util import (check_random_state, MapWrapper,\n",
            "\u001b[0;32m/usr/local/lib/python3.7/dist-packages/scipy/spatial/__init__.py\u001b[0m in \u001b[0;36m<module>\u001b[0;34m()\u001b[0m\n\u001b[1;32m     99\u001b[0m \u001b[0;32mfrom\u001b[0m \u001b[0;34m.\u001b[0m\u001b[0m_spherical_voronoi\u001b[0m \u001b[0;32mimport\u001b[0m \u001b[0mSphericalVoronoi\u001b[0m\u001b[0;34m\u001b[0m\u001b[0;34m\u001b[0m\u001b[0m\n\u001b[1;32m    100\u001b[0m \u001b[0;32mfrom\u001b[0m \u001b[0;34m.\u001b[0m\u001b[0m_plotutils\u001b[0m \u001b[0;32mimport\u001b[0m \u001b[0;34m*\u001b[0m\u001b[0;34m\u001b[0m\u001b[0;34m\u001b[0m\u001b[0m\n\u001b[0;32m--> 101\u001b[0;31m \u001b[0;32mfrom\u001b[0m \u001b[0;34m.\u001b[0m\u001b[0m_procrustes\u001b[0m \u001b[0;32mimport\u001b[0m \u001b[0mprocrustes\u001b[0m\u001b[0;34m\u001b[0m\u001b[0;34m\u001b[0m\u001b[0m\n\u001b[0m\u001b[1;32m    102\u001b[0m \u001b[0;32mfrom\u001b[0m \u001b[0;34m.\u001b[0m\u001b[0m_geometric_slerp\u001b[0m \u001b[0;32mimport\u001b[0m \u001b[0mgeometric_slerp\u001b[0m\u001b[0;34m\u001b[0m\u001b[0;34m\u001b[0m\u001b[0m\n\u001b[1;32m    103\u001b[0m \u001b[0;34m\u001b[0m\u001b[0m\n",
            "\u001b[0;32m/usr/local/lib/python3.7/dist-packages/scipy/spatial/_procrustes.py\u001b[0m in \u001b[0;36m<module>\u001b[0;34m()\u001b[0m\n\u001b[1;32m      7\u001b[0m \u001b[0;34m\u001b[0m\u001b[0m\n\u001b[1;32m      8\u001b[0m \u001b[0;32mimport\u001b[0m \u001b[0mnumpy\u001b[0m \u001b[0;32mas\u001b[0m \u001b[0mnp\u001b[0m\u001b[0;34m\u001b[0m\u001b[0;34m\u001b[0m\u001b[0m\n\u001b[0;32m----> 9\u001b[0;31m \u001b[0;32mfrom\u001b[0m \u001b[0mscipy\u001b[0m\u001b[0;34m.\u001b[0m\u001b[0mlinalg\u001b[0m \u001b[0;32mimport\u001b[0m \u001b[0morthogonal_procrustes\u001b[0m\u001b[0;34m\u001b[0m\u001b[0;34m\u001b[0m\u001b[0m\n\u001b[0m\u001b[1;32m     10\u001b[0m \u001b[0;34m\u001b[0m\u001b[0m\n\u001b[1;32m     11\u001b[0m \u001b[0;34m\u001b[0m\u001b[0m\n",
            "\u001b[0;32m/usr/local/lib/python3.7/dist-packages/scipy/linalg/__init__.py\u001b[0m in \u001b[0;36m<module>\u001b[0;34m()\u001b[0m\n\u001b[1;32m    211\u001b[0m \u001b[0;32mfrom\u001b[0m \u001b[0;34m.\u001b[0m\u001b[0m_procrustes\u001b[0m \u001b[0;32mimport\u001b[0m \u001b[0;34m*\u001b[0m\u001b[0;34m\u001b[0m\u001b[0;34m\u001b[0m\u001b[0m\n\u001b[1;32m    212\u001b[0m \u001b[0;32mfrom\u001b[0m \u001b[0;34m.\u001b[0m\u001b[0m_decomp_update\u001b[0m \u001b[0;32mimport\u001b[0m \u001b[0;34m*\u001b[0m\u001b[0;34m\u001b[0m\u001b[0;34m\u001b[0m\u001b[0m\n\u001b[0;32m--> 213\u001b[0;31m \u001b[0;32mfrom\u001b[0m \u001b[0;34m.\u001b[0m\u001b[0m_sketches\u001b[0m \u001b[0;32mimport\u001b[0m \u001b[0;34m*\u001b[0m\u001b[0;34m\u001b[0m\u001b[0;34m\u001b[0m\u001b[0m\n\u001b[0m\u001b[1;32m    214\u001b[0m \u001b[0;32mfrom\u001b[0m \u001b[0;34m.\u001b[0m\u001b[0m_decomp_cossin\u001b[0m \u001b[0;32mimport\u001b[0m \u001b[0;34m*\u001b[0m\u001b[0;34m\u001b[0m\u001b[0;34m\u001b[0m\u001b[0m\n\u001b[1;32m    215\u001b[0m \u001b[0;34m\u001b[0m\u001b[0m\n",
            "\u001b[0;32m/usr/local/lib/python3.7/dist-packages/scipy/linalg/_sketches.py\u001b[0m in \u001b[0;36m<module>\u001b[0;34m()\u001b[0m\n\u001b[1;32m      6\u001b[0m \u001b[0;32mimport\u001b[0m \u001b[0mnumpy\u001b[0m \u001b[0;32mas\u001b[0m \u001b[0mnp\u001b[0m\u001b[0;34m\u001b[0m\u001b[0;34m\u001b[0m\u001b[0m\n\u001b[1;32m      7\u001b[0m \u001b[0;34m\u001b[0m\u001b[0m\n\u001b[0;32m----> 8\u001b[0;31m \u001b[0;32mfrom\u001b[0m \u001b[0mscipy\u001b[0m\u001b[0;34m.\u001b[0m\u001b[0m_lib\u001b[0m\u001b[0;34m.\u001b[0m\u001b[0m_util\u001b[0m \u001b[0;32mimport\u001b[0m \u001b[0mcheck_random_state\u001b[0m\u001b[0;34m,\u001b[0m \u001b[0mrng_integers\u001b[0m\u001b[0;34m\u001b[0m\u001b[0;34m\u001b[0m\u001b[0m\n\u001b[0m\u001b[1;32m      9\u001b[0m \u001b[0;32mfrom\u001b[0m \u001b[0mscipy\u001b[0m\u001b[0;34m.\u001b[0m\u001b[0msparse\u001b[0m \u001b[0;32mimport\u001b[0m \u001b[0mcsc_matrix\u001b[0m\u001b[0;34m\u001b[0m\u001b[0;34m\u001b[0m\u001b[0m\n\u001b[1;32m     10\u001b[0m \u001b[0;34m\u001b[0m\u001b[0m\n",
            "\u001b[0;31mImportError\u001b[0m: cannot import name 'rng_integers' from 'scipy._lib._util' (/usr/local/lib/python3.7/dist-packages/scipy/_lib/_util.py)",
            "",
            "\u001b[0;31m---------------------------------------------------------------------------\u001b[0;32m\nNOTE: If your import is failing due to a missing package, you can\nmanually install dependencies using either !pip or !apt.\n\nTo view examples of installing some common dependencies, click the\n\"Open Examples\" button below.\n\u001b[0;31m---------------------------------------------------------------------------\u001b[0m\n"
          ],
          "errorDetails": {
            "actions": [
              {
                "action": "open_url",
                "actionText": "Open Examples",
                "url": "/notebooks/snippets/importing_libraries.ipynb"
              }
            ]
          }
        }
      ]
    }
  ]
}