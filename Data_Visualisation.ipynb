{
  "nbformat": 4,
  "nbformat_minor": 0,
  "metadata": {
    "colab": {
      "name": "Data_Visualisation.ipynb",
      "provenance": [],
      "collapsed_sections": [],
      "include_colab_link": true
    },
    "kernelspec": {
      "display_name": "Python 3",
      "name": "python3"
    },
    "language_info": {
      "name": "python"
    }
  },
  "cells": [
    {
      "cell_type": "markdown",
      "metadata": {
        "id": "view-in-github",
        "colab_type": "text"
      },
      "source": [
        "<a href=\"https://colab.research.google.com/github/natskiu/Nasa-Battery/blob/jesse/Data_Visualisation.ipynb\" target=\"_parent\"><img src=\"https://colab.research.google.com/assets/colab-badge.svg\" alt=\"Open In Colab\"/></a>"
      ]
    },
    {
      "cell_type": "markdown",
      "metadata": {
        "id": "kGgP-9km7Jug"
      },
      "source": [
        "# Data and feature extraction\n",
        "\n",
        "In this notebook, we import and process the raw experimental data to extract the required features. We then store these into a Pandas dataframe which can be exported to a csv file for future use."
      ]
    },
    {
      "cell_type": "markdown",
      "metadata": {
        "id": "2Ry-zJLX7pqQ"
      },
      "source": [
        "## Importing libraries and loading data"
      ]
    },
    {
      "cell_type": "code",
      "metadata": {
        "id": "ia_XjIIjtbP-"
      },
      "source": [
        "import numpy as np\n",
        "import matplotlib.pyplot as plt\n",
        "#this is a comment\n",
        "import scipy.io as sio\n",
        "import pandas as pd"
      ],
      "execution_count": null,
      "outputs": []
    },
    {
      "cell_type": "code",
      "metadata": {
        "colab": {
          "base_uri": "https://localhost:8080/"
        },
        "id": "xByOR1S_3gvz",
        "outputId": "a045a848-606a-4ec6-a90e-c90ace976502"
      },
      "source": [
        "# raw=true is important so you download the file rather than the webpage.\n",
        "!wget https://github.com/natskiu/Nasa-Battery/blob/main/Data/B0005.mat?raw=true\n",
        "# rename the file - we are importing the data for one battery, B0005.\n",
        "!mv B0005.mat\\?raw\\=true B0005.mat\n",
        "# update scipy\n",
        "!pip install -U -q scipy\n",
        "# Load the data\n",
        "from scipy import io\n",
        "v = io.loadmat('B0005.mat')"
      ],
      "execution_count": null,
      "outputs": [
        {
          "output_type": "stream",
          "text": [
            "--2021-08-18 01:37:55--  https://github.com/natskiu/Nasa-Battery/blob/main/Data/B0005.mat?raw=true\n",
            "Resolving github.com (github.com)... 140.82.113.3\n",
            "Connecting to github.com (github.com)|140.82.113.3|:443... connected.\n",
            "HTTP request sent, awaiting response... 302 Found\n",
            "Location: https://github.com/natskiu/Nasa-Battery/raw/main/Data/B0005.mat [following]\n",
            "--2021-08-18 01:37:55--  https://github.com/natskiu/Nasa-Battery/raw/main/Data/B0005.mat\n",
            "Reusing existing connection to github.com:443.\n",
            "HTTP request sent, awaiting response... 302 Found\n",
            "Location: https://raw.githubusercontent.com/natskiu/Nasa-Battery/main/Data/B0005.mat [following]\n",
            "--2021-08-18 01:37:55--  https://raw.githubusercontent.com/natskiu/Nasa-Battery/main/Data/B0005.mat\n",
            "Resolving raw.githubusercontent.com (raw.githubusercontent.com)... 185.199.108.133, 185.199.109.133, 185.199.110.133, ...\n",
            "Connecting to raw.githubusercontent.com (raw.githubusercontent.com)|185.199.108.133|:443... connected.\n",
            "HTTP request sent, awaiting response... 200 OK\n",
            "Length: 15956874 (15M) [application/octet-stream]\n",
            "Saving to: ‘B0005.mat?raw=true’\n",
            "\n",
            "B0005.mat?raw=true  100%[===================>]  15.22M  --.-KB/s    in 0.08s   \n",
            "\n",
            "2021-08-18 01:37:56 (186 MB/s) - ‘B0005.mat?raw=true’ saved [15956874/15956874]\n",
            "\n",
            "\u001b[K     |████████████████████████████████| 28.5 MB 47 kB/s \n",
            "\u001b[31mERROR: pip's dependency resolver does not currently take into account all the packages that are installed. This behaviour is the source of the following dependency conflicts.\n",
            "albumentations 0.1.12 requires imgaug<0.2.7,>=0.2.5, but you have imgaug 0.2.9 which is incompatible.\u001b[0m\n",
            "\u001b[?25h"
          ],
          "name": "stdout"
        }
      ]
    },
    {
      "cell_type": "code",
      "metadata": {
        "colab": {
          "base_uri": "https://localhost:8080/"
        },
        "id": "DmfoQrjBI1-O",
        "outputId": "74803b5d-1866-4c0b-b438-7b78a9d37115"
      },
      "source": [
        "# This extracts the data for all cycles in the form of a nested numpy array.\n",
        "cycles = np.vstack(v['B0005'][0,0])\n",
        "type(cycles)"
      ],
      "execution_count": null,
      "outputs": [
        {
          "output_type": "execute_result",
          "data": {
            "text/plain": [
              "numpy.ndarray"
            ]
          },
          "metadata": {
            "tags": []
          },
          "execution_count": 24
        }
      ]
    },
    {
      "cell_type": "code",
      "metadata": {
        "colab": {
          "base_uri": "https://localhost:8080/"
        },
        "id": "yU3O46stLbeZ",
        "outputId": "84fc0127-a288-407c-fd48-5cb907ce0e85"
      },
      "source": [
        "#the middle index indicates the charge/discharge number. \n",
        "# For example, cycles[0,0][3] gets the data for the first charge, cycles[0,1][3] gets the data for the first discharge, etc.\n",
        "cycles[0,0][3].shape"
      ],
      "execution_count": null,
      "outputs": [
        {
          "output_type": "execute_result",
          "data": {
            "text/plain": [
              "(1, 1)"
            ]
          },
          "metadata": {
            "tags": []
          },
          "execution_count": 4
        }
      ]
    },
    {
      "cell_type": "code",
      "metadata": {
        "id": "jvVGKocr2AW8"
      },
      "source": [
        "def capacity_vectorizer(discharge_indices, cycles=cycles):\n",
        "  \"\"\"\n",
        "  inputs\n",
        "  -------------------\n",
        "  discharge_indicies: list, with indices of discharging cycles\n",
        "\n",
        "  outputs\n",
        "  -------------------\n",
        "  None (modifies cycles)\n",
        "\n",
        "  Note: only run this function ONCE\n",
        "  \"\"\"\n",
        "  for discharge_index in discharge_indices:\n",
        "    N = (cycles[0,discharge_index][3][0,0][5]).shape[1] # gets number of entries\n",
        "    capacity_scalar = cycles[0,discharge_index][3][0,0][6]\n",
        "    cycles[0,discharge_index][3][0,0][6] = np.pad(capacity_scalar.flatten().tolist(), (0, N-1), 'constant')\n",
        "    vectorized_cycles = cycles\n",
        "  return vectorized_cycles\n"
      ],
      "execution_count": null,
      "outputs": []
    },
    {
      "cell_type": "code",
      "metadata": {
        "id": "3l-xQoez9-QS"
      },
      "source": [
        "def get_indices(cycles, is_charge=True):\n",
        "  index_list =[]\n",
        "  if is_charge:\n",
        "    label = 'charge'\n",
        "  else:\n",
        "    label = 'discharge'\n",
        "  for i in range(cycles.shape[1]):\n",
        "    if cycles[0,i][0] == np.array([label]):\n",
        "      index_list.append(i)\n",
        "\n",
        "  return index_list"
      ],
      "execution_count": null,
      "outputs": []
    },
    {
      "cell_type": "code",
      "metadata": {
        "colab": {
          "base_uri": "https://localhost:8080/"
        },
        "id": "3P7UC61AAFMV",
        "outputId": "5fac0d1e-644d-41c6-ef35-2bec1ddc062e"
      },
      "source": [
        "discharge_indices = get_indices(cycles, is_charge = False)\n",
        "print(discharge_indices)\n",
        "len(discharge_indices)"
      ],
      "execution_count": null,
      "outputs": [
        {
          "output_type": "stream",
          "text": [
            "[1, 3, 5, 7, 9, 11, 13, 15, 17, 19, 21, 24, 26, 28, 30, 32, 34, 36, 38, 41, 45, 49, 53, 57, 61, 65, 69, 73, 77, 81, 85, 89, 93, 97, 101, 105, 109, 113, 117, 121, 125, 129, 133, 135, 139, 143, 147, 149, 153, 157, 161, 165, 169, 173, 177, 181, 185, 189, 193, 197, 201, 205, 209, 213, 215, 219, 223, 227, 231, 235, 239, 243, 247, 251, 255, 259, 263, 265, 269, 273, 277, 281, 285, 289, 293, 297, 301, 305, 309, 312, 315, 319, 323, 327, 331, 335, 339, 343, 347, 351, 355, 359, 363, 366, 370, 374, 378, 382, 386, 390, 394, 398, 402, 406, 410, 414, 418, 422, 426, 430, 432, 436, 440, 444, 448, 452, 456, 460, 464, 468, 472, 476, 480, 482, 484, 488, 492, 496, 500, 504, 508, 512, 516, 520, 524, 528, 532, 536, 540, 544, 547, 551, 555, 559, 563, 567, 571, 575, 579, 583, 587, 591, 595, 599, 603, 607, 611, 613]\n"
          ],
          "name": "stdout"
        },
        {
          "output_type": "execute_result",
          "data": {
            "text/plain": [
              "168"
            ]
          },
          "metadata": {
            "tags": []
          },
          "execution_count": 7
        }
      ]
    },
    {
      "cell_type": "code",
      "metadata": {
        "colab": {
          "base_uri": "https://localhost:8080/"
        },
        "id": "UiQUbkoolOe7",
        "outputId": "9cd3a712-9772-4f8a-952b-6dada8f13d91"
      },
      "source": [
        "charge_indices = get_indices(cycles, is_charge=True)\n",
        "charge_indices.remove(22)\n",
        "charge_indices.remove(615)\n",
        "print(charge_indices)\n",
        "len(charge_indices)"
      ],
      "execution_count": null,
      "outputs": [
        {
          "output_type": "stream",
          "text": [
            "[0, 2, 4, 6, 8, 10, 12, 14, 16, 18, 20, 23, 25, 27, 29, 31, 33, 35, 37, 39, 43, 47, 51, 55, 59, 63, 67, 71, 75, 79, 83, 84, 87, 91, 95, 99, 103, 107, 111, 115, 119, 123, 127, 131, 134, 137, 141, 145, 148, 151, 155, 159, 163, 167, 171, 175, 179, 183, 187, 191, 195, 199, 203, 207, 211, 214, 217, 221, 225, 229, 233, 237, 241, 245, 249, 253, 257, 261, 264, 267, 271, 275, 279, 283, 287, 291, 295, 299, 303, 307, 314, 317, 321, 325, 329, 333, 337, 341, 345, 349, 353, 357, 361, 365, 368, 372, 376, 380, 384, 388, 392, 396, 400, 404, 408, 412, 416, 420, 424, 428, 431, 434, 438, 442, 446, 450, 454, 458, 462, 466, 470, 474, 478, 481, 483, 486, 490, 494, 498, 502, 506, 510, 514, 518, 522, 526, 530, 534, 538, 542, 546, 549, 553, 557, 561, 565, 569, 573, 577, 581, 585, 589, 593, 597, 601, 605, 609, 612]\n"
          ],
          "name": "stdout"
        },
        {
          "output_type": "execute_result",
          "data": {
            "text/plain": [
              "168"
            ]
          },
          "metadata": {
            "tags": []
          },
          "execution_count": 8
        }
      ]
    },
    {
      "cell_type": "code",
      "metadata": {
        "id": "J_Utkm7IRSxw",
        "colab": {
          "base_uri": "https://localhost:8080/",
          "height": 35
        },
        "outputId": "ea2b9bb9-79ba-41c7-9d6e-0f7d7397853e"
      },
      "source": [
        "\"This is how you extract all the features from cycles\"\n",
        "#np.vstack(cycles[0,0][3][0,0])[0]"
      ],
      "execution_count": null,
      "outputs": [
        {
          "output_type": "execute_result",
          "data": {
            "application/vnd.google.colaboratory.intrinsic+json": {
              "type": "string"
            },
            "text/plain": [
              "'This is how you extract all the features from cycles'"
            ]
          },
          "metadata": {
            "tags": []
          },
          "execution_count": 9
        }
      ]
    },
    {
      "cell_type": "code",
      "metadata": {
        "id": "VoCEYoBF5HVf"
      },
      "source": [
        "new_cycles = capacity_vectorizer(discharge_indices)"
      ],
      "execution_count": null,
      "outputs": []
    },
    {
      "cell_type": "code",
      "metadata": {
        "colab": {
          "base_uri": "https://localhost:8080/"
        },
        "id": "ynC8egSG0edV",
        "outputId": "f98029cc-56af-4853-ab93-892e841edb2e"
      },
      "source": [
        "new_cycles[0,1][3][0,0][6].shape"
      ],
      "execution_count": null,
      "outputs": [
        {
          "output_type": "execute_result",
          "data": {
            "text/plain": [
              "(197,)"
            ]
          },
          "metadata": {
            "tags": []
          },
          "execution_count": 11
        }
      ]
    },
    {
      "cell_type": "code",
      "metadata": {
        "id": "DPZ0EHx0z-4x"
      },
      "source": [
        "def cycle_plotter(cycle_index):\n",
        "  features = ['voltage_measured', 'currenet_measured', 'temperature', 'current_load/charge', 'voltage_load/charge']\n",
        "  for i, label in enumerate(features):\n",
        "    y = np.vstack(new_cycles[0,cycle_index][3][0,0])[i]\n",
        "    x = np.vstack(new_cycles[0,cycle_index][3][0,0])[5]\n",
        "    f=plt.figure()\n",
        "    plt.ylabel(label)\n",
        "    plt.xlabel('time')\n",
        "    plt.title(label)\n",
        "    plt.scatter(x, y)\n",
        "  plt.show()"
      ],
      "execution_count": null,
      "outputs": []
    },
    {
      "cell_type": "markdown",
      "metadata": {
        "id": "ITu6BXod0Axb"
      },
      "source": [
        "Discharging -  temperature related features\n",
        "1. Time taken for discharging temperature to reach max value (set threshold 1000s)\n",
        "2. Max temp during discharge\n",
        "\n"
      ]
    },
    {
      "cell_type": "code",
      "metadata": {
        "id": "dLGS1OkSjn1w"
      },
      "source": [
        "# feature 1,2,6,7\n",
        "def extract_feature_1_2_6_7(indices, cycles, threshold = 1000):\n",
        "  '''\n",
        "  This function returns two lists - first is the time to reach the maximum \n",
        "  temperature for each cycle, second is the maximum temperature for each cycle.\n",
        "  This can be used for both charging and discharging cycles, just input the \n",
        "  correct list of indices. NB for charging cycles remove the extra two cycles\n",
        "  first\n",
        "  --------\n",
        "  indices: list, a list that can be generated using function get_indices \n",
        "          containing indices of discharging/ charging cycles\n",
        "  cycles: array, an array containing all the data of the battery. It has to be\n",
        "          preprocessed to be stackable and indexable.\n",
        "  threshold: int, set by default to 1000 to avoid taking in to account of \n",
        "             anomalous max temp data\n",
        "  outputs\n",
        "  --------\n",
        "  max_temp_time_list: list, a list that contains the corresponding time of the \n",
        "                      maximum temperature in every discharging/ charging cycle\n",
        "  max_temp_list: list, a list that contains the maximum temperature in every\n",
        "                 discharging/ charging cycle \n",
        "                \n",
        "  note: the lengths of the lists should be the same = the length of the input \n",
        "  list of indices.\n",
        "  '''\n",
        "  max_temp_time_list = []\n",
        "  max_temp_list = []\n",
        "  for index in indices:\n",
        "    times = new_cycles[0,index][3][0,0][5].flatten().tolist()\n",
        "    temps = new_cycles[0,index][3][0,0][2].flatten().tolist()\n",
        "    threshold_index =  next(i for i, time in enumerate(times) if time > threshold)\n",
        "    temps = temps[threshold_index:]\n",
        "    times = times[threshold_index:]\n",
        "    max_temp = max(temps)\n",
        "    max_temp_index = temps.index(max_temp)\n",
        "    max_temp_time_list.append(times[max_temp_index])\n",
        "    max_temp_list.append(max_temp)\n",
        "  return max_temp_time_list, max_temp_list\n"
      ],
      "execution_count": null,
      "outputs": []
    },
    {
      "cell_type": "code",
      "metadata": {
        "id": "h5x7bfHDOGiS"
      },
      "source": [
        "# feature 3\n",
        "def extract_feature_3(discharge_indices, cycles):\n",
        "    \"\"\"\n",
        "    Inputs\n",
        "    --------\n",
        "    indices: list, a list that can be generated using function get_indices \n",
        "          containing indices of discharging/ charging cycles\n",
        "    cycles: array, an array containing all the data of the battery. It has to be\n",
        "          preprocessed to be stackable and indexable.\n",
        "    threshold: int, set by default to 1000 to avoid taking in to account of \n",
        "             anomalous max temp data\n",
        "\n",
        "    \"\"\"\n",
        "    max_temp_times, max_temps = extract_feature_1_2_6_7(discharge_indices, cycles)\n",
        "    initial_temps = []\n",
        "    for discharge_index in discharge_indices:\n",
        "      initial_temp = new_cycles[0,discharge_index][3][0,0][2].flatten().tolist()[0]\n",
        "      initial_temps.append(initial_temp)\n",
        "    slopes = (np.array(max_temps)-np.array(initial_temps))/np.array(max_temp_times)\n",
        "    return slopes.tolist()"
      ],
      "execution_count": null,
      "outputs": []
    },
    {
      "cell_type": "code",
      "metadata": {
        "id": "6AqUghsSSLQB"
      },
      "source": [
        "def extract_feature_4(dataset=new_cycles, indices=discharge_indices, threshold=500, voltage_cutoff=3): #time for voltage_measured to drop below 3V during discharge\n",
        "  '''\n",
        "  Feature 4 is the time for voltage_measured to drop below 3V during discharge.\n",
        "  **Input**\n",
        "  data = full cycle data\n",
        "  indices = list of indices from which we would like to extract features\n",
        "  threshold = time from which to start checking (to avoid anomalous data at the start)\n",
        "\n",
        "  **Output**\n",
        "  feature_4_list = list of feature values for each cycle\n",
        "  '''\n",
        "  feature_4_list = []\n",
        "\n",
        "  for index in indices:\n",
        "    voltage_measured_list = (dataset[0,index][3][0,0][0]).flatten().tolist() #turn voltage_measured numpy array into list\n",
        "    time_list = (dataset[0,index][3][0,0][5]).flatten().tolist() #turn time vector into list\n",
        "    threshold_index = next(i for i, time in enumerate(time_list) if time > threshold) #getting index of threshold\n",
        "    voltage_measured_list = voltage_measured_list[threshold_index:] #shortening voltage_measured_list and time_list\n",
        "    time_list = time_list[threshold_index:]\n",
        "    index_3V = next(i for i, voltage in enumerate(voltage_measured_list) if voltage < voltage_cutoff) #getting index of when 3V is reached\n",
        "    feature_4_list.append(time_list[index_3V]) #getting the corresponding time\n",
        "\n",
        "  return feature_4_list\n"
      ],
      "execution_count": null,
      "outputs": []
    },
    {
      "cell_type": "code",
      "metadata": {
        "id": "O_wByksDSVKw"
      },
      "source": [
        "def extract_feature_5(dataset=new_cycles, indices=discharge_indices, N=20): #slope of first N datapoints of voltage_measured during discharge\n",
        "  '''\n",
        "  Feature 5 is the slope of voltage_measured using the first N data points.\n",
        "  **Input**\n",
        "  data = full cycle data\n",
        "  indices = list of indices from which we would like to extract features\n",
        "  N = cutoff point to measure slope\n",
        "\n",
        "  **Output**\n",
        "  feature_5_list = list of feature values for each cycle\n",
        "  '''\n",
        "  feature_5_list = []\n",
        "\n",
        "  for index in indices:\n",
        "    voltage_measured_list = (dataset[0,index][3][0,0][0]).flatten().tolist() #turn voltage_measured numpy array into list\n",
        "    time_list = (dataset[0,index][3][0,0][5]).flatten().tolist() #turn time vector into list\n",
        "    slope = (voltage_measured_list[N] - voltage_measured_list[0])/time_list[N]\n",
        "    feature_5_list.append(slope)\n",
        "  \n",
        "  return feature_5_list"
      ],
      "execution_count": null,
      "outputs": []
    },
    {
      "cell_type": "code",
      "metadata": {
        "id": "UqDhpxEVahkr"
      },
      "source": [
        "def extract_label(dataset=new_cycles, indices=discharge_indices):\n",
        "  labels = []\n",
        "  for index in indices:\n",
        "    label = (dataset[0,index][3][0,0][6]).flatten().tolist()\n",
        "    labels.append(label[0])\n",
        "  return labels"
      ],
      "execution_count": null,
      "outputs": []
    },
    {
      "cell_type": "code",
      "metadata": {
        "id": "voxvwdj6KMGk"
      },
      "source": [
        "feature_1_list, feature_2_list = extract_feature_1_2_6_7(get_indices(new_cycles, is_charge=False), new_cycles)\n",
        "feature_6_list, feature_7_list = extract_feature_1_2_6_7(charge_indices, new_cycles)\n",
        "feature_3_list = extract_feature_3(get_indices(new_cycles, is_charge=False), new_cycles)\n",
        "feature_4_list = extract_feature_4(new_cycles, get_indices(new_cycles, is_charge=False))\n",
        "feature_5_list = extract_feature_5(new_cycles, get_indices(new_cycles, is_charge=False))\n",
        "label_list = extract_label(new_cycles, get_indices(new_cycles, is_charge=False))"
      ],
      "execution_count": null,
      "outputs": []
    },
    {
      "cell_type": "code",
      "metadata": {
        "id": "h-9MeaOEVCEK"
      },
      "source": [
        "features_dict = {'time_for_max_temp_D':feature_1_list,'max_temp_D':feature_2_list,\n",
        "                 'slope_temp_D': feature_3_list, 'time_voltage_measured_below3_D':feature_4_list,\n",
        "                 'slope_voltage_measured_D':feature_5_list, 'time_for_max_temp_C':feature_6_list,\n",
        "                 'max_temp_C':feature_7_list, 'capacity/label': label_list}"
      ],
      "execution_count": null,
      "outputs": []
    },
    {
      "cell_type": "code",
      "metadata": {
        "colab": {
          "base_uri": "https://localhost:8080/",
          "height": 424
        },
        "id": "biVUPk1ZWkhi",
        "outputId": "1c5eb8a9-7191-4f39-a613-ce905d11862e"
      },
      "source": [
        "df = pd.DataFrame(data = features_dict)\n",
        "df"
      ],
      "execution_count": null,
      "outputs": [
        {
          "output_type": "execute_result",
          "data": {
            "text/html": [
              "<div>\n",
              "<style scoped>\n",
              "    .dataframe tbody tr th:only-of-type {\n",
              "        vertical-align: middle;\n",
              "    }\n",
              "\n",
              "    .dataframe tbody tr th {\n",
              "        vertical-align: top;\n",
              "    }\n",
              "\n",
              "    .dataframe thead th {\n",
              "        text-align: right;\n",
              "    }\n",
              "</style>\n",
              "<table border=\"1\" class=\"dataframe\">\n",
              "  <thead>\n",
              "    <tr style=\"text-align: right;\">\n",
              "      <th></th>\n",
              "      <th>time_for_max_temp_D</th>\n",
              "      <th>max_temp_D</th>\n",
              "      <th>slope_temp_D</th>\n",
              "      <th>time_voltage_measured_below3_D</th>\n",
              "      <th>slope_voltage_measured_D</th>\n",
              "      <th>time_for_max_temp_C</th>\n",
              "      <th>max_temp_C</th>\n",
              "      <th>capacity/label</th>\n",
              "    </tr>\n",
              "  </thead>\n",
              "  <tbody>\n",
              "    <tr>\n",
              "      <th>0</th>\n",
              "      <td>3366.781</td>\n",
              "      <td>38.982181</td>\n",
              "      <td>0.004352</td>\n",
              "      <td>3287.969</td>\n",
              "      <td>-0.001049</td>\n",
              "      <td>1006.094</td>\n",
              "      <td>27.317609</td>\n",
              "      <td>1.856487</td>\n",
              "    </tr>\n",
              "    <tr>\n",
              "      <th>1</th>\n",
              "      <td>3348.735</td>\n",
              "      <td>39.033398</td>\n",
              "      <td>0.004281</td>\n",
              "      <td>3269.688</td>\n",
              "      <td>-0.001026</td>\n",
              "      <td>3447.609</td>\n",
              "      <td>29.203048</td>\n",
              "      <td>1.846327</td>\n",
              "    </tr>\n",
              "    <tr>\n",
              "      <th>2</th>\n",
              "      <td>3329.281</td>\n",
              "      <td>38.818797</td>\n",
              "      <td>0.004231</td>\n",
              "      <td>3250.437</td>\n",
              "      <td>-0.001016</td>\n",
              "      <td>3419.156</td>\n",
              "      <td>29.334557</td>\n",
              "      <td>1.835349</td>\n",
              "    </tr>\n",
              "    <tr>\n",
              "      <th>3</th>\n",
              "      <td>3329.500</td>\n",
              "      <td>38.762305</td>\n",
              "      <td>0.004237</td>\n",
              "      <td>3250.563</td>\n",
              "      <td>-0.001010</td>\n",
              "      <td>3421.593</td>\n",
              "      <td>29.255008</td>\n",
              "      <td>1.835263</td>\n",
              "    </tr>\n",
              "    <tr>\n",
              "      <th>4</th>\n",
              "      <td>3327.531</td>\n",
              "      <td>38.665393</td>\n",
              "      <td>0.004250</td>\n",
              "      <td>3248.766</td>\n",
              "      <td>-0.001007</td>\n",
              "      <td>3395.125</td>\n",
              "      <td>29.129995</td>\n",
              "      <td>1.834646</td>\n",
              "    </tr>\n",
              "    <tr>\n",
              "      <th>...</th>\n",
              "      <td>...</td>\n",
              "      <td>...</td>\n",
              "      <td>...</td>\n",
              "      <td>...</td>\n",
              "      <td>...</td>\n",
              "      <td>...</td>\n",
              "      <td>...</td>\n",
              "      <td>...</td>\n",
              "    </tr>\n",
              "    <tr>\n",
              "      <th>163</th>\n",
              "      <td>2346.812</td>\n",
              "      <td>40.983663</td>\n",
              "      <td>0.007347</td>\n",
              "      <td>2232.203</td>\n",
              "      <td>-0.002140</td>\n",
              "      <td>1963.141</td>\n",
              "      <td>29.346694</td>\n",
              "      <td>1.293464</td>\n",
              "    </tr>\n",
              "    <tr>\n",
              "      <th>164</th>\n",
              "      <td>2327.750</td>\n",
              "      <td>40.982342</td>\n",
              "      <td>0.007380</td>\n",
              "      <td>2222.625</td>\n",
              "      <td>-0.002136</td>\n",
              "      <td>1945.328</td>\n",
              "      <td>29.392476</td>\n",
              "      <td>1.288003</td>\n",
              "    </tr>\n",
              "    <tr>\n",
              "      <th>165</th>\n",
              "      <td>2336.282</td>\n",
              "      <td>41.063751</td>\n",
              "      <td>0.007368</td>\n",
              "      <td>2222.094</td>\n",
              "      <td>-0.002141</td>\n",
              "      <td>1916.609</td>\n",
              "      <td>29.451853</td>\n",
              "      <td>1.287453</td>\n",
              "    </tr>\n",
              "    <tr>\n",
              "      <th>166</th>\n",
              "      <td>2365.219</td>\n",
              "      <td>41.047030</td>\n",
              "      <td>0.006812</td>\n",
              "      <td>2260.453</td>\n",
              "      <td>-0.002043</td>\n",
              "      <td>1912.391</td>\n",
              "      <td>29.487007</td>\n",
              "      <td>1.309015</td>\n",
              "    </tr>\n",
              "    <tr>\n",
              "      <th>167</th>\n",
              "      <td>2393.578</td>\n",
              "      <td>41.051008</td>\n",
              "      <td>0.006667</td>\n",
              "      <td>2288.687</td>\n",
              "      <td>-0.002054</td>\n",
              "      <td>1948.250</td>\n",
              "      <td>29.072716</td>\n",
              "      <td>1.325079</td>\n",
              "    </tr>\n",
              "  </tbody>\n",
              "</table>\n",
              "<p>168 rows × 8 columns</p>\n",
              "</div>"
            ],
            "text/plain": [
              "     time_for_max_temp_D  max_temp_D  ...  max_temp_C  capacity/label\n",
              "0               3366.781   38.982181  ...   27.317609        1.856487\n",
              "1               3348.735   39.033398  ...   29.203048        1.846327\n",
              "2               3329.281   38.818797  ...   29.334557        1.835349\n",
              "3               3329.500   38.762305  ...   29.255008        1.835263\n",
              "4               3327.531   38.665393  ...   29.129995        1.834646\n",
              "..                   ...         ...  ...         ...             ...\n",
              "163             2346.812   40.983663  ...   29.346694        1.293464\n",
              "164             2327.750   40.982342  ...   29.392476        1.288003\n",
              "165             2336.282   41.063751  ...   29.451853        1.287453\n",
              "166             2365.219   41.047030  ...   29.487007        1.309015\n",
              "167             2393.578   41.051008  ...   29.072716        1.325079\n",
              "\n",
              "[168 rows x 8 columns]"
            ]
          },
          "metadata": {
            "tags": []
          },
          "execution_count": 23
        }
      ]
    },
    {
      "cell_type": "code",
      "metadata": {
        "id": "K7x8qw0F-Ah9",
        "colab": {
          "base_uri": "https://localhost:8080/",
          "height": 300
        },
        "outputId": "8332c43d-36c9-46fa-a982-9fc30fea44a5"
      },
      "source": [
        "df.describe()"
      ],
      "execution_count": null,
      "outputs": [
        {
          "output_type": "execute_result",
          "data": {
            "text/html": [
              "<div>\n",
              "<style scoped>\n",
              "    .dataframe tbody tr th:only-of-type {\n",
              "        vertical-align: middle;\n",
              "    }\n",
              "\n",
              "    .dataframe tbody tr th {\n",
              "        vertical-align: top;\n",
              "    }\n",
              "\n",
              "    .dataframe thead th {\n",
              "        text-align: right;\n",
              "    }\n",
              "</style>\n",
              "<table border=\"1\" class=\"dataframe\">\n",
              "  <thead>\n",
              "    <tr style=\"text-align: right;\">\n",
              "      <th></th>\n",
              "      <th>time_for_max_temp_D</th>\n",
              "      <th>max_temp_D</th>\n",
              "      <th>slope_temp_D</th>\n",
              "      <th>time_voltage_measured_below3_D</th>\n",
              "      <th>slope_voltage_measured_D</th>\n",
              "      <th>time_for_max_temp_C</th>\n",
              "      <th>max_temp_C</th>\n",
              "      <th>capacity/label</th>\n",
              "    </tr>\n",
              "  </thead>\n",
              "  <tbody>\n",
              "    <tr>\n",
              "      <th>count</th>\n",
              "      <td>168.000000</td>\n",
              "      <td>168.000000</td>\n",
              "      <td>168.000000</td>\n",
              "      <td>168.000000</td>\n",
              "      <td>168.000000</td>\n",
              "      <td>168.000000</td>\n",
              "      <td>168.000000</td>\n",
              "      <td>168.000000</td>\n",
              "    </tr>\n",
              "    <tr>\n",
              "      <th>mean</th>\n",
              "      <td>2846.875994</td>\n",
              "      <td>39.845110</td>\n",
              "      <td>0.005613</td>\n",
              "      <td>2754.208619</td>\n",
              "      <td>-0.001715</td>\n",
              "      <td>2658.187280</td>\n",
              "      <td>29.456190</td>\n",
              "      <td>1.572502</td>\n",
              "    </tr>\n",
              "    <tr>\n",
              "      <th>std</th>\n",
              "      <td>342.720870</td>\n",
              "      <td>1.118020</td>\n",
              "      <td>0.001053</td>\n",
              "      <td>362.104457</td>\n",
              "      <td>0.000374</td>\n",
              "      <td>556.328245</td>\n",
              "      <td>0.692348</td>\n",
              "      <td>0.190413</td>\n",
              "    </tr>\n",
              "    <tr>\n",
              "      <th>min</th>\n",
              "      <td>2327.750000</td>\n",
              "      <td>37.801336</td>\n",
              "      <td>0.004146</td>\n",
              "      <td>2222.094000</td>\n",
              "      <td>-0.002141</td>\n",
              "      <td>1004.344000</td>\n",
              "      <td>23.888926</td>\n",
              "      <td>1.287453</td>\n",
              "    </tr>\n",
              "    <tr>\n",
              "      <th>25%</th>\n",
              "      <td>2520.270000</td>\n",
              "      <td>38.804674</td>\n",
              "      <td>0.004540</td>\n",
              "      <td>2408.808500</td>\n",
              "      <td>-0.001987</td>\n",
              "      <td>2174.832000</td>\n",
              "      <td>29.200590</td>\n",
              "      <td>1.390021</td>\n",
              "    </tr>\n",
              "    <tr>\n",
              "      <th>50%</th>\n",
              "      <td>2818.523500</td>\n",
              "      <td>40.080753</td>\n",
              "      <td>0.005652</td>\n",
              "      <td>2713.586000</td>\n",
              "      <td>-0.001831</td>\n",
              "      <td>2588.718500</td>\n",
              "      <td>29.465142</td>\n",
              "      <td>1.557085</td>\n",
              "    </tr>\n",
              "    <tr>\n",
              "      <th>75%</th>\n",
              "      <td>3195.621250</td>\n",
              "      <td>40.865238</td>\n",
              "      <td>0.006538</td>\n",
              "      <td>3132.226750</td>\n",
              "      <td>-0.001646</td>\n",
              "      <td>3203.429000</td>\n",
              "      <td>29.827732</td>\n",
              "      <td>1.769163</td>\n",
              "    </tr>\n",
              "    <tr>\n",
              "      <th>max</th>\n",
              "      <td>3366.781000</td>\n",
              "      <td>41.450232</td>\n",
              "      <td>0.007380</td>\n",
              "      <td>3290.750000</td>\n",
              "      <td>-0.000973</td>\n",
              "      <td>3494.703000</td>\n",
              "      <td>31.187718</td>\n",
              "      <td>1.856487</td>\n",
              "    </tr>\n",
              "  </tbody>\n",
              "</table>\n",
              "</div>"
            ],
            "text/plain": [
              "       time_for_max_temp_D  max_temp_D  ...  max_temp_C  capacity/label\n",
              "count           168.000000  168.000000  ...  168.000000      168.000000\n",
              "mean           2846.875994   39.845110  ...   29.456190        1.572502\n",
              "std             342.720870    1.118020  ...    0.692348        0.190413\n",
              "min            2327.750000   37.801336  ...   23.888926        1.287453\n",
              "25%            2520.270000   38.804674  ...   29.200590        1.390021\n",
              "50%            2818.523500   40.080753  ...   29.465142        1.557085\n",
              "75%            3195.621250   40.865238  ...   29.827732        1.769163\n",
              "max            3366.781000   41.450232  ...   31.187718        1.856487\n",
              "\n",
              "[8 rows x 8 columns]"
            ]
          },
          "metadata": {
            "tags": []
          },
          "execution_count": 31
        }
      ]
    },
    {
      "cell_type": "code",
      "metadata": {
        "colab": {
          "base_uri": "https://localhost:8080/",
          "height": 300
        },
        "id": "iPwVlZkKbrQY",
        "outputId": "0b117df5-4a8f-4f9c-9a4a-a909e3ad9979"
      },
      "source": [
        "corr_matrix = df.corr()\n",
        "corr_matrix"
      ],
      "execution_count": null,
      "outputs": [
        {
          "output_type": "execute_result",
          "data": {
            "text/html": [
              "<div>\n",
              "<style scoped>\n",
              "    .dataframe tbody tr th:only-of-type {\n",
              "        vertical-align: middle;\n",
              "    }\n",
              "\n",
              "    .dataframe tbody tr th {\n",
              "        vertical-align: top;\n",
              "    }\n",
              "\n",
              "    .dataframe thead th {\n",
              "        text-align: right;\n",
              "    }\n",
              "</style>\n",
              "<table border=\"1\" class=\"dataframe\">\n",
              "  <thead>\n",
              "    <tr style=\"text-align: right;\">\n",
              "      <th></th>\n",
              "      <th>time_for_max_temp_D</th>\n",
              "      <th>max_temp_D</th>\n",
              "      <th>slope_temp_D</th>\n",
              "      <th>time_voltage_measured_below3_D</th>\n",
              "      <th>slope_voltage_measured_D</th>\n",
              "      <th>time_for_max_temp_C</th>\n",
              "      <th>max_temp_C</th>\n",
              "      <th>capacity/label</th>\n",
              "    </tr>\n",
              "  </thead>\n",
              "  <tbody>\n",
              "    <tr>\n",
              "      <th>time_for_max_temp_D</th>\n",
              "      <td>1.000000</td>\n",
              "      <td>-0.933960</td>\n",
              "      <td>-0.994783</td>\n",
              "      <td>0.999710</td>\n",
              "      <td>0.882532</td>\n",
              "      <td>0.878305</td>\n",
              "      <td>-0.508610</td>\n",
              "      <td>0.999813</td>\n",
              "    </tr>\n",
              "    <tr>\n",
              "      <th>max_temp_D</th>\n",
              "      <td>-0.933960</td>\n",
              "      <td>1.000000</td>\n",
              "      <td>0.921307</td>\n",
              "      <td>-0.937172</td>\n",
              "      <td>-0.809807</td>\n",
              "      <td>-0.851372</td>\n",
              "      <td>0.578307</td>\n",
              "      <td>-0.935272</td>\n",
              "    </tr>\n",
              "    <tr>\n",
              "      <th>slope_temp_D</th>\n",
              "      <td>-0.994783</td>\n",
              "      <td>0.921307</td>\n",
              "      <td>1.000000</td>\n",
              "      <td>-0.994703</td>\n",
              "      <td>-0.868826</td>\n",
              "      <td>-0.883042</td>\n",
              "      <td>0.469977</td>\n",
              "      <td>-0.994994</td>\n",
              "    </tr>\n",
              "    <tr>\n",
              "      <th>time_voltage_measured_below3_D</th>\n",
              "      <td>0.999710</td>\n",
              "      <td>-0.937172</td>\n",
              "      <td>-0.994703</td>\n",
              "      <td>1.000000</td>\n",
              "      <td>0.878277</td>\n",
              "      <td>0.878788</td>\n",
              "      <td>-0.511434</td>\n",
              "      <td>0.999804</td>\n",
              "    </tr>\n",
              "    <tr>\n",
              "      <th>slope_voltage_measured_D</th>\n",
              "      <td>0.882532</td>\n",
              "      <td>-0.809807</td>\n",
              "      <td>-0.868826</td>\n",
              "      <td>0.878277</td>\n",
              "      <td>1.000000</td>\n",
              "      <td>0.783053</td>\n",
              "      <td>-0.431166</td>\n",
              "      <td>0.874517</td>\n",
              "    </tr>\n",
              "    <tr>\n",
              "      <th>time_for_max_temp_C</th>\n",
              "      <td>0.878305</td>\n",
              "      <td>-0.851372</td>\n",
              "      <td>-0.883042</td>\n",
              "      <td>0.878788</td>\n",
              "      <td>0.783053</td>\n",
              "      <td>1.000000</td>\n",
              "      <td>-0.195099</td>\n",
              "      <td>0.878075</td>\n",
              "    </tr>\n",
              "    <tr>\n",
              "      <th>max_temp_C</th>\n",
              "      <td>-0.508610</td>\n",
              "      <td>0.578307</td>\n",
              "      <td>0.469977</td>\n",
              "      <td>-0.511434</td>\n",
              "      <td>-0.431166</td>\n",
              "      <td>-0.195099</td>\n",
              "      <td>1.000000</td>\n",
              "      <td>-0.510329</td>\n",
              "    </tr>\n",
              "    <tr>\n",
              "      <th>capacity/label</th>\n",
              "      <td>0.999813</td>\n",
              "      <td>-0.935272</td>\n",
              "      <td>-0.994994</td>\n",
              "      <td>0.999804</td>\n",
              "      <td>0.874517</td>\n",
              "      <td>0.878075</td>\n",
              "      <td>-0.510329</td>\n",
              "      <td>1.000000</td>\n",
              "    </tr>\n",
              "  </tbody>\n",
              "</table>\n",
              "</div>"
            ],
            "text/plain": [
              "                                time_for_max_temp_D  ...  capacity/label\n",
              "time_for_max_temp_D                        1.000000  ...        0.999813\n",
              "max_temp_D                                -0.933960  ...       -0.935272\n",
              "slope_temp_D                              -0.994783  ...       -0.994994\n",
              "time_voltage_measured_below3_D             0.999710  ...        0.999804\n",
              "slope_voltage_measured_D                   0.882532  ...        0.874517\n",
              "time_for_max_temp_C                        0.878305  ...        0.878075\n",
              "max_temp_C                                -0.508610  ...       -0.510329\n",
              "capacity/label                             0.999813  ...        1.000000\n",
              "\n",
              "[8 rows x 8 columns]"
            ]
          },
          "metadata": {
            "tags": []
          },
          "execution_count": 25
        }
      ]
    },
    {
      "cell_type": "code",
      "metadata": {
        "id": "xcNxuHNU8l84",
        "colab": {
          "base_uri": "https://localhost:8080/",
          "height": 1000
        },
        "outputId": "9b9af1d5-9595-4ac9-b233-598bcc7654d6"
      },
      "source": [
        "from pandas.plotting import scatter_matrix\n",
        "\n",
        "attributes = [\"time_for_max_temp_D\", \"max_temp_D\", \"slope_temp_D\", \"time_voltage_measured_below3_D\", \"slope_voltage_measured_D\", \"capacity/label\"]\n",
        "scatter_matrix(df[attributes], figsize=(12,8))"
      ],
      "execution_count": null,
      "outputs": [
        {
          "output_type": "execute_result",
          "data": {
            "text/plain": [
              "array([[<matplotlib.axes._subplots.AxesSubplot object at 0x7f2300087090>,\n",
              "        <matplotlib.axes._subplots.AxesSubplot object at 0x7f2300720ed0>,\n",
              "        <matplotlib.axes._subplots.AxesSubplot object at 0x7f23005c0710>,\n",
              "        <matplotlib.axes._subplots.AxesSubplot object at 0x7f2300456510>,\n",
              "        <matplotlib.axes._subplots.AxesSubplot object at 0x7f22ffe45210>,\n",
              "        <matplotlib.axes._subplots.AxesSubplot object at 0x7f22ffd63890>],\n",
              "       [<matplotlib.axes._subplots.AxesSubplot object at 0x7f22ffcca2d0>,\n",
              "        <matplotlib.axes._subplots.AxesSubplot object at 0x7f22ffc7e910>,\n",
              "        <matplotlib.axes._subplots.AxesSubplot object at 0x7f22ffc7e950>,\n",
              "        <matplotlib.axes._subplots.AxesSubplot object at 0x7f22ffc40110>,\n",
              "        <matplotlib.axes._subplots.AxesSubplot object at 0x7f22ffbacd10>,\n",
              "        <matplotlib.axes._subplots.AxesSubplot object at 0x7f22ffb6f3d0>],\n",
              "       [<matplotlib.axes._subplots.AxesSubplot object at 0x7f22ffb25a50>,\n",
              "        <matplotlib.axes._subplots.AxesSubplot object at 0x7f22ffae8110>,\n",
              "        <matplotlib.axes._subplots.AxesSubplot object at 0x7f22ffb1b790>,\n",
              "        <matplotlib.axes._subplots.AxesSubplot object at 0x7f22ffad2e10>,\n",
              "        <matplotlib.axes._subplots.AxesSubplot object at 0x7f22ffa974d0>,\n",
              "        <matplotlib.axes._subplots.AxesSubplot object at 0x7f22ffa4bb50>],\n",
              "       [<matplotlib.axes._subplots.AxesSubplot object at 0x7f22ffa0e210>,\n",
              "        <matplotlib.axes._subplots.AxesSubplot object at 0x7f22ff9c4890>,\n",
              "        <matplotlib.axes._subplots.AxesSubplot object at 0x7f22ff97af10>,\n",
              "        <matplotlib.axes._subplots.AxesSubplot object at 0x7f22ff93c5d0>,\n",
              "        <matplotlib.axes._subplots.AxesSubplot object at 0x7f22ff8f2c50>,\n",
              "        <matplotlib.axes._subplots.AxesSubplot object at 0x7f22ff8b5310>],\n",
              "       [<matplotlib.axes._subplots.AxesSubplot object at 0x7f22ff86b990>,\n",
              "        <matplotlib.axes._subplots.AxesSubplot object at 0x7f22ff822fd0>,\n",
              "        <matplotlib.axes._subplots.AxesSubplot object at 0x7f22ff7e26d0>,\n",
              "        <matplotlib.axes._subplots.AxesSubplot object at 0x7f22ff817d50>,\n",
              "        <matplotlib.axes._subplots.AxesSubplot object at 0x7f22ff7db410>,\n",
              "        <matplotlib.axes._subplots.AxesSubplot object at 0x7f22ff791a90>],\n",
              "       [<matplotlib.axes._subplots.AxesSubplot object at 0x7f22ff753110>,\n",
              "        <matplotlib.axes._subplots.AxesSubplot object at 0x7f22ff709690>,\n",
              "        <matplotlib.axes._subplots.AxesSubplot object at 0x7f22ff6bfc10>,\n",
              "        <matplotlib.axes._subplots.AxesSubplot object at 0x7f22ff6831d0>,\n",
              "        <matplotlib.axes._subplots.AxesSubplot object at 0x7f22ff638750>,\n",
              "        <matplotlib.axes._subplots.AxesSubplot object at 0x7f22ff5edcd0>]],\n",
              "      dtype=object)"
            ]
          },
          "metadata": {
            "tags": []
          },
          "execution_count": 29
        },
        {
          "output_type": "display_data",
          "data": {
            "image/png": "[encoded data removed]",
            "text/plain": [
              "<Figure size 864x576 with 36 Axes>"
            ]
          },
          "metadata": {
            "tags": [],
            "needs_background": "light"
          }
        }
      ]
    },
    {
      "cell_type": "code",
      "metadata": {
        "colab": {
          "base_uri": "https://localhost:8080/",
          "height": 297
        },
        "id": "E8xVxz_jZAww",
        "outputId": "71dafb9b-a91e-40de-f4dc-460431f584b0"
      },
      "source": [
        "df.reset_index().plot(kind= 'scatter', x = 'index', y = 'max_temp_D')"
      ],
      "execution_count": null,
      "outputs": [
        {
          "output_type": "execute_result",
          "data": {
            "text/plain": [
              "<matplotlib.axes._subplots.AxesSubplot at 0x7f6115869cd0>"
            ]
          },
          "metadata": {
            "tags": []
          },
          "execution_count": 40
        },
        {
          "output_type": "display_data",
          "data": {
            "image/png": "[encoded data removed]",
            "text/plain": [
              "<Figure size 432x288 with 1 Axes>"
            ]
          },
          "metadata": {
            "tags": [],
            "needs_background": "light"
          }
        }
      ]
    },
    {
      "cell_type": "code",
      "metadata": {
        "colab": {
          "base_uri": "https://localhost:8080/",
          "height": 297
        },
        "id": "VtVgYaQEZnJV",
        "outputId": "29c3fbac-bba9-4d90-e82d-bfab5109fbe2"
      },
      "source": [
        "df.reset_index().plot(kind= 'scatter', x = 'index', y = 'time_for_max_temp_D')"
      ],
      "execution_count": null,
      "outputs": [
        {
          "output_type": "execute_result",
          "data": {
            "text/plain": [
              "<matplotlib.axes._subplots.AxesSubplot at 0x7f6115869c50>"
            ]
          },
          "metadata": {
            "tags": []
          },
          "execution_count": 41
        },
        {
          "output_type": "display_data",
          "data": {
            "image/png": "[encoded data removed]",
            "text/plain": [
              "<Figure size 432x288 with 1 Axes>"
            ]
          },
          "metadata": {
            "tags": [],
            "needs_background": "light"
          }
        }
      ]
    },
    {
      "cell_type": "markdown",
      "metadata": {
        "id": "5-8vdLmIM024"
      },
      "source": [
        "Github test"
      ]
    },
    {
      "cell_type": "code",
      "metadata": {
        "id": "AnmBPc9BM2R9"
      },
      "source": [
        ""
      ],
      "execution_count": null,
      "outputs": []
    }
  ]
}