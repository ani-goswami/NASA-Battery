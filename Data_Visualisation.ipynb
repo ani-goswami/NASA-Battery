{
 "cells": [
  {
   "cell_type": "markdown",
   "source": [
    "<a href=\"https://colab.research.google.com/github/natskiu/Nasa-Battery/blob/main/Data_Visualisation.ipynb\" target=\"_parent\"><img src=\"https://colab.research.google.com/assets/colab-badge.svg\" alt=\"Open In Colab\"/></a>"
   ],
   "metadata": {
    "colab_type": "text",
    "id": "view-in-github"
   }
  },
  {
   "cell_type": "markdown",
   "source": [
    "# Data and feature extraction\n",
    "\n",
    "In this notebook, we import and process the raw experimental data to extract the required features. We then store these into a Pandas dataframe which can be exported to a csv file for future use."
   ],
   "metadata": {
    "id": "kGgP-9km7Jug"
   }
  },
  {
   "cell_type": "markdown",
   "source": [
    "## Importing libraries and loading data"
   ],
   "metadata": {
    "id": "2Ry-zJLX7pqQ"
   }
  },
  {
   "cell_type": "code",
   "execution_count": 145,
   "source": [
    "import numpy as np\n",
    "import matplotlib.pyplot as plt\n",
    "#this is a comment\n",
    "import scipy.io as sio\n",
    "import pandas as pd\n",
    "import modules.utils as tools\n"
   ],
   "outputs": [],
   "metadata": {
    "id": "ia_XjIIjtbP-"
   }
  },
  {
   "cell_type": "code",
   "execution_count": 146,
   "source": [
    "import importlib\n",
    "tools = importlib.reload(tools)"
   ],
   "outputs": [],
   "metadata": {}
  },
  {
   "cell_type": "code",
   "execution_count": 125,
   "source": [
    "# raw=true is important so you download the file rather than the webpage.\n",
    "#!wget https://github.com/natskiu/Nasa-Battery/blob/main/Data/B0005.mat?raw=true\n",
    "# rename the file - we are importing the data for one battery, B0005.\n",
    "#!mv B0005.mat\\?raw\\=true B0005.mat\n",
    "# update scipy\n",
    "#!pip install -U -q scipy\n",
    "# Load the data\n",
    "from scipy import io\n",
    "import os\n",
    "datapath = 'Data/'\n",
    "v = io.loadmat(datapath + 'B0053.mat')"
   ],
   "outputs": [],
   "metadata": {
    "colab": {
     "base_uri": "https://localhost:8080/"
    },
    "id": "xByOR1S_3gvz",
    "outputId": "cfe43db3-ca3e-49e1-84da-53a7fd39e882"
   }
  },
  {
   "cell_type": "markdown",
   "source": [
    "## Preprocessing raw data\n",
    "\n",
    "### Raw data structure \n",
    "The raw battery data (defined as v) is a nested dictionary with keys = ['__header__', '__version__', '__globals__', 'B0005']"
   ],
   "metadata": {
    "id": "3FKYM23y9Awr"
   }
  },
  {
   "cell_type": "code",
   "execution_count": 43,
   "source": [
    "v.keys()"
   ],
   "outputs": [
    {
     "output_type": "execute_result",
     "data": {
      "text/plain": [
       "dict_keys(['__header__', '__version__', '__globals__', 'B0006'])"
      ]
     },
     "metadata": {},
     "execution_count": 43
    }
   ],
   "metadata": {
    "colab": {
     "base_uri": "https://localhost:8080/"
    },
    "id": "LWDdDPue9XDj",
    "outputId": "0917aafc-6863-4168-ff44-3d2aee54e355"
   }
  },
  {
   "cell_type": "code",
   "execution_count": 127,
   "source": [
    "# This extracts the data for all cycles in the form of a nested numpy array.\n",
    "raw_cycles = np.vstack(v['B0053'][0,0])\n",
    "type(raw_cycles)"
   ],
   "outputs": [
    {
     "output_type": "execute_result",
     "data": {
      "text/plain": [
       "numpy.ndarray"
      ]
     },
     "metadata": {},
     "execution_count": 127
    }
   ],
   "metadata": {
    "colab": {
     "base_uri": "https://localhost:8080/"
    },
    "id": "DmfoQrjBI1-O",
    "outputId": "bf725cc6-2198-42dc-9bba-21e7bb50443f"
   }
  },
  {
   "cell_type": "code",
   "execution_count": 128,
   "source": [
    "raw_cycles.shape"
   ],
   "outputs": [
    {
     "output_type": "execute_result",
     "data": {
      "text/plain": [
       "(1, 137)"
      ]
     },
     "metadata": {},
     "execution_count": 128
    }
   ],
   "metadata": {}
  },
  {
   "cell_type": "code",
   "execution_count": 129,
   "source": [
    "# the middle index indicates the charge/discharge number. \n",
    "# For example, cycles[0,0][3] gets the data for the first charge, cycles[0,1][3] gets the data for the first discharge, etc.\n",
    "raw_cycles[0,0][3].shape"
   ],
   "outputs": [
    {
     "output_type": "execute_result",
     "data": {
      "text/plain": [
       "(1, 1)"
      ]
     },
     "metadata": {},
     "execution_count": 129
    }
   ],
   "metadata": {
    "colab": {
     "base_uri": "https://localhost:8080/"
    },
    "id": "yU3O46stLbeZ",
    "outputId": "4c72ee1c-a981-47c1-b048-d8c6e1dd966a"
   }
  },
  {
   "cell_type": "code",
   "execution_count": 133,
   "source": [
    "discharge_indices = tools.get_indices(raw_cycles, is_charge = False)\n",
    "discharge_indices = discharge_indices[1:]\n",
    "print(discharge_indices)\n",
    "len(discharge_indices)"
   ],
   "outputs": [
    {
     "output_type": "stream",
     "name": "stdout",
     "text": [
      "[4, 6, 8, 10, 12, 16, 18, 20, 22, 24, 28, 30, 32, 34, 36, 40, 42, 44, 46, 48, 52, 56, 58, 60, 62, 64, 68, 70, 72, 74, 76, 80, 82, 84, 86, 88, 92, 94, 96, 98, 100, 104, 108, 110, 112, 114, 116, 120, 122, 124, 126, 128, 132, 134, 136]\n"
     ]
    },
    {
     "output_type": "execute_result",
     "data": {
      "text/plain": [
       "55"
      ]
     },
     "metadata": {},
     "execution_count": 133
    }
   ],
   "metadata": {
    "colab": {
     "base_uri": "https://localhost:8080/"
    },
    "id": "3P7UC61AAFMV",
    "outputId": "5b4ba1b3-b287-4250-da40-a9187c16b3da"
   }
  },
  {
   "cell_type": "code",
   "execution_count": 134,
   "source": [
    "charge_indices = tools.get_indices(raw_cycles, is_charge=True)\n",
    "# manually look through the repeated charge cycle\n",
    "#charge_indices.remove(114)\n",
    "#charge_indices.remove(137)\n",
    "print(charge_indices)\n",
    "len(charge_indices)"
   ],
   "outputs": [
    {
     "output_type": "stream",
     "name": "stdout",
     "text": [
      "[2, 5, 7, 9, 11, 14, 17, 19, 21, 23, 26, 29, 31, 33, 35, 38, 41, 43, 45, 47, 50, 54, 57, 59, 61, 63, 66, 69, 71, 73, 75, 78, 81, 83, 85, 87, 90, 93, 95, 97, 99, 102, 106, 109, 111, 113, 115, 118, 121, 123, 125, 127, 130, 133, 135]\n"
     ]
    },
    {
     "output_type": "execute_result",
     "data": {
      "text/plain": [
       "55"
      ]
     },
     "metadata": {},
     "execution_count": 134
    }
   ],
   "metadata": {
    "colab": {
     "base_uri": "https://localhost:8080/"
    },
    "id": "UiQUbkoolOe7",
    "outputId": "d7c20027-11a4-4fcf-b582-532802fe773c"
   }
  },
  {
   "cell_type": "code",
   "execution_count": 9,
   "source": [
    "\"This is how you extract all the features from cycles\"\n",
    "#np.vstack(cycles[0,0][3][0,0])[0]"
   ],
   "outputs": [
    {
     "output_type": "execute_result",
     "data": {
      "text/plain": [
       "'This is how you extract all the features from cycles'"
      ]
     },
     "metadata": {},
     "execution_count": 9
    }
   ],
   "metadata": {
    "colab": {
     "base_uri": "https://localhost:8080/",
     "height": 35
    },
    "id": "J_Utkm7IRSxw",
    "outputId": "0859293d-15bb-43ea-fe63-cfd9b4b2e1b5"
   }
  },
  {
   "cell_type": "code",
   "execution_count": 135,
   "source": [
    "new_cycles = tools.capacity_vectorizer(discharge_indices, raw_cycles)"
   ],
   "outputs": [],
   "metadata": {}
  },
  {
   "cell_type": "code",
   "execution_count": 136,
   "source": [
    "new_cycles.shape"
   ],
   "outputs": [
    {
     "output_type": "execute_result",
     "data": {
      "text/plain": [
       "(1, 137)"
      ]
     },
     "metadata": {},
     "execution_count": 136
    }
   ],
   "metadata": {}
  },
  {
   "cell_type": "code",
   "execution_count": 140,
   "source": [
    "new_cycles[0,4][3][0,0][6].shape"
   ],
   "outputs": [
    {
     "output_type": "execute_result",
     "data": {
      "text/plain": [
       "(233,)"
      ]
     },
     "metadata": {},
     "execution_count": 140
    }
   ],
   "metadata": {
    "colab": {
     "base_uri": "https://localhost:8080/"
    },
    "id": "ynC8egSG0edV",
    "outputId": "60762b8f-6810-4ac3-c763-be184a3f9834"
   }
  },
  {
   "cell_type": "markdown",
   "source": [
    "## Functions to extract features from original dataset\n",
    "\n",
    "### Features\n",
    "#### Discharging cycle\n",
    "\n",
    "1. Time taken for discharging temperature to reach max value (set threshold ~ 1000s)\n",
    "2. Max. temperature during discharge\n",
    "3. Slope for temperature during discharge \n",
    "(max_temp - initial_temp)/(time_at_max_temp)\n",
    "4. Time for voltage_measured to drop below 3 Volts\n",
    "5. Slope for first 20 data points of voltage_measured\n",
    "\n",
    "#### Charging cycle\n",
    "\n",
    "6. Time  taken for charging temperature to reach max value (set threshold ~ 1000s)\n",
    "7. Max. temperature during charge\n",
    "\n",
    "### Label\n",
    "* Capacity recorded for each discharging cycle\n"
   ],
   "metadata": {
    "id": "ITu6BXod0Axb"
   }
  },
  {
   "cell_type": "markdown",
   "source": [
    "## Data Exploration"
   ],
   "metadata": {
    "id": "cfwlCc9J8eVr"
   }
  },
  {
   "cell_type": "code",
   "execution_count": 153,
   "source": [
    "feature_1_list, feature_2_list = tools.extract_feature_1_2_6_7(discharge_indices, new_cycles, threshold=0)\n",
    "feature_6_list, feature_7_list = tools.extract_feature_1_2_6_7(charge_indices, new_cycles)\n",
    "feature_3_list = tools.extract_feature_3(discharge_indices, new_cycles, threshold=0)\n",
    "feature_4_list = tools.extract_feature_4(new_cycles, discharge_indices, voltage_cutoff=4, threshold=1)\n",
    "feature_5_list = tools.extract_feature_5(new_cycles, discharge_indices, start_time=1, end_time=20)\n",
    "label_list = tools.extract_label(new_cycles, discharge_indices)\n",
    "remaining_cycles_list = tools.remaining_cycles(new_cycles, discharge_indices, threshold=0.7)"
   ],
   "outputs": [],
   "metadata": {
    "id": "voxvwdj6KMGk"
   }
  },
  {
   "cell_type": "code",
   "execution_count": 154,
   "source": [
    "print(remaining_cycles_list)"
   ],
   "outputs": [
    {
     "output_type": "stream",
     "name": "stdout",
     "text": [
      "[53, 52, 51, 50, 49, 48, 47, 46, 45, 44, 43, 42, 41, 40, 39, 38, 37, 36, 35, 34, 33, 32, 31, 30, 29, 28, 27, 26, 25, 24, 23, 22, 21, 20, 19, 18, 17, 16, 15, 14, 13, 12, 11, 10, 9, 8, 7, 6, 5, 4, 3, 2, 1, 0, -1]\n"
     ]
    }
   ],
   "metadata": {}
  },
  {
   "cell_type": "code",
   "execution_count": 95,
   "source": [
    "tools.cycle_plotter(new_cycles,[])"
   ],
   "outputs": [],
   "metadata": {}
  },
  {
   "cell_type": "code",
   "execution_count": 155,
   "source": [
    "features_dict = {'time_for_max_temp_D':feature_1_list,'max_temp_D':feature_2_list,\n",
    "                 'slope_temp_D': feature_3_list, 'time_voltage_measured_below3_D':feature_4_list,\n",
    "                 'slope_voltage_measured_D':feature_5_list, 'time_for_max_temp_C':feature_6_list,\n",
    "                 'max_temp_C':feature_7_list, 'capacity': label_list, 'remaining_cycles': remaining_cycles_list}"
   ],
   "outputs": [],
   "metadata": {
    "id": "h-9MeaOEVCEK"
   }
  },
  {
   "cell_type": "code",
   "execution_count": 156,
   "source": [
    "df = pd.DataFrame(data = features_dict)\n",
    "df"
   ],
   "outputs": [
    {
     "output_type": "execute_result",
     "data": {
      "text/plain": [
       "    time_for_max_temp_D  max_temp_D  slope_temp_D  \\\n",
       "0              2560.688   18.304754      0.004983   \n",
       "1              2522.375   19.339428      0.005227   \n",
       "2              2488.719   18.729143      0.005156   \n",
       "3              2474.844   18.709412      0.005152   \n",
       "4              2255.234   18.635706      0.005671   \n",
       "5              2495.500   21.292306      0.006565   \n",
       "6              2481.078   21.011600      0.006700   \n",
       "7              2460.125   20.939939      0.005845   \n",
       "8              2277.390   19.283837      0.005866   \n",
       "9              2449.922   21.101392      0.006781   \n",
       "10             2408.781   18.643407      0.005186   \n",
       "11             2442.547   21.313678      0.006931   \n",
       "12             2420.671   20.928120      0.005905   \n",
       "13             2302.984   19.930787      0.006073   \n",
       "14             2416.672   21.022057      0.006428   \n",
       "15             2204.875   19.091623      0.005924   \n",
       "16             2410.688   21.305705      0.007008   \n",
       "17             2402.125   21.068855      0.005892   \n",
       "18             2355.265   19.040383      0.005444   \n",
       "19             2396.719   21.229883      0.006508   \n",
       "20             2442.344   20.949810      0.006443   \n",
       "21             2347.125   20.122997      0.006095   \n",
       "22             2412.250   20.906313      0.005825   \n",
       "23             2378.578   21.200763      0.006457   \n",
       "24             2361.047   20.016695      0.005710   \n",
       "25             2392.468   21.300889      0.006691   \n",
       "26             2238.109   19.859104      0.006156   \n",
       "27             2383.234   21.371063      0.007224   \n",
       "28             2342.453   20.121474      0.005767   \n",
       "29             2359.296   21.375505      0.006778   \n",
       "30             2345.453   20.755199      0.005978   \n",
       "31             2360.172   21.495109      0.007493   \n",
       "32             2315.407   19.650976      0.005645   \n",
       "33             2322.156   18.856014      0.005473   \n",
       "34             2175.891   19.669437      0.006271   \n",
       "35             2335.000   21.138846      0.006909   \n",
       "36             2127.218   19.288048      0.006196   \n",
       "37             2333.875   21.326801      0.007150   \n",
       "38             2317.453   20.842607      0.006101   \n",
       "39             2053.766   18.560109      0.005980   \n",
       "40             2326.657   21.592401      0.006948   \n",
       "41             2415.063   20.679962      0.006308   \n",
       "42             2195.703   18.987481      0.005867   \n",
       "43             2458.812   21.621997      0.006367   \n",
       "44             2400.672   18.973653      0.005338   \n",
       "45             2396.407   20.978900      0.005973   \n",
       "46             2392.375   21.790166      0.006921   \n",
       "47             2373.687   21.259687      0.006066   \n",
       "48             2385.922   22.113676      0.006988   \n",
       "49             2345.000   20.512664      0.005945   \n",
       "50             2363.047   21.838243      0.007343   \n",
       "51             2316.687   19.198412      0.005526   \n",
       "52             2322.000   19.947939      0.005802   \n",
       "53             2357.687   22.111677      0.007165   \n",
       "54                9.360    6.072575     -0.054493   \n",
       "\n",
       "    time_voltage_measured_below3_D  slope_voltage_measured_D  \\\n",
       "0                           21.204                 -0.018511   \n",
       "1                           21.156                 -0.018336   \n",
       "2                           21.281                 -0.018318   \n",
       "3                           21.281                 -0.018320   \n",
       "4                           21.344                 -0.018338   \n",
       "5                           21.282                 -0.018488   \n",
       "6                           21.359                 -0.018166   \n",
       "7                           21.437                 -0.018003   \n",
       "8                           21.500                 -0.018212   \n",
       "9                           21.562                 -0.018030   \n",
       "10                          21.562                 -0.018077   \n",
       "11                          21.610                 -0.018339   \n",
       "12                          21.546                 -0.017936   \n",
       "13                          21.609                 -0.018171   \n",
       "14                          21.750                 -0.017757   \n",
       "15                          21.766                 -0.017978   \n",
       "16                          21.735                 -0.018256   \n",
       "17                          21.781                 -0.017692   \n",
       "18                          21.859                 -0.017883   \n",
       "19                          21.891                 -0.018079   \n",
       "20                          21.844                 -0.017950   \n",
       "21                          21.938                 -0.017930   \n",
       "22                          22.266                 -0.017336   \n",
       "23                          22.047                 -0.017894   \n",
       "24                          22.047                 -0.017613   \n",
       "25                          22.156                 -0.017967   \n",
       "26                          22.203                 -0.017712   \n",
       "27                          22.125                 -0.017967   \n",
       "28                          22.172                 -0.017558   \n",
       "29                          22.218                 -0.017959   \n",
       "30                          22.219                 -0.017475   \n",
       "31                          22.203                 -0.017905   \n",
       "32                          22.282                 -0.017524   \n",
       "33                          22.437                 -0.017559   \n",
       "34                          22.422                 -0.017636   \n",
       "35                          22.484                 -0.017840   \n",
       "36                          22.500                 -0.017523   \n",
       "37                          22.453                 -0.017826   \n",
       "38                          22.500                 -0.017341   \n",
       "39                          22.609                 -0.017447   \n",
       "40                          22.782                 -0.017596   \n",
       "41                          22.516                 -0.018258   \n",
       "42                          22.688                 -0.017296   \n",
       "43                          22.687                 -0.017017   \n",
       "44                          22.687                 -0.017287   \n",
       "45                          22.750                 -0.017071   \n",
       "46                          22.781                 -0.017063   \n",
       "47                          22.781                 -0.016986   \n",
       "48                          22.750                 -0.017553   \n",
       "49                          22.875                 -0.017100   \n",
       "50                          22.875                 -0.017499   \n",
       "51                          22.969                 -0.017114   \n",
       "52                          22.984                 -0.017040   \n",
       "53                          23.062                 -0.017425   \n",
       "54                          23.000                 -0.016916   \n",
       "\n",
       "    time_for_max_temp_C  max_temp_C  capacity  remaining_cycles  \n",
       "0              2102.016    8.673290  1.154073                53  \n",
       "1              1005.985    9.278409  1.150153                52  \n",
       "2              1008.718    9.444375  1.130586                51  \n",
       "3              1068.641    9.394873  1.121790                50  \n",
       "4              1014.969    9.405621  1.113598                49  \n",
       "5              2016.016    8.589623  1.086465                48  \n",
       "6              1039.282    9.070302  1.064749                47  \n",
       "7              1720.875    8.907676  1.080929                46  \n",
       "8              2249.125    8.597463  1.085275                45  \n",
       "9              1023.360    9.293888  1.050480                44  \n",
       "10             1259.781    8.669310  1.085355                43  \n",
       "11             1021.390    9.472358  1.050840                42  \n",
       "12             1719.313    8.936924  1.060907                41  \n",
       "13             2256.812    8.545095  1.070582                40  \n",
       "14             1004.375    9.366326  1.024037                39  \n",
       "15             1418.672    8.661077  1.067096                38  \n",
       "16             1039.719    9.454602  1.027924                37  \n",
       "17             1064.766    9.002914  1.032543                36  \n",
       "18             2171.047    8.701702  1.055949                35  \n",
       "19             1042.000    9.636541  1.044531                34  \n",
       "20             2526.891    8.349094  1.035314                33  \n",
       "21             1378.547    8.778331  1.076341                32  \n",
       "22             1006.500    9.365137  1.035222                31  \n",
       "23             2162.390    8.642649  1.051429                30  \n",
       "24             1003.281    9.243331  1.060333                29  \n",
       "25             1000.141    9.596998  1.023697                28  \n",
       "26             1176.859    8.760833  1.046588                27  \n",
       "27             1023.235    9.458718  1.003112                26  \n",
       "28             1804.453    8.916658  1.046158                25  \n",
       "29             1005.344    9.665904  1.015626                24  \n",
       "30             1031.766    9.189496  1.025005                23  \n",
       "31             1880.297    8.592266  0.980133                22  \n",
       "32             1861.875    8.883320  1.036778                21  \n",
       "33             1000.734    9.696469  1.026830                20  \n",
       "34             1002.438    9.684375  1.015038                19  \n",
       "35             1020.406    9.544972  0.990461                18  \n",
       "36             1148.719    8.680379  1.014577                17  \n",
       "37             1003.094    9.490475  0.981131                16  \n",
       "38             1199.921    8.961793  1.004169                15  \n",
       "39             2313.219    8.441761  1.007820                14  \n",
       "40             1011.375    9.685456  0.982454                13  \n",
       "41             1000.922    8.689035  1.109678                12  \n",
       "42             2466.125    8.638870  1.113680                11  \n",
       "43             1096.078    9.687250  1.038501                10  \n",
       "44             1913.157    8.974289  1.076882                 9  \n",
       "45             1005.735    9.706338  1.072171                 8  \n",
       "46             2569.687    8.372177  1.012459                 7  \n",
       "47             1585.234    8.790992  1.027994                 6  \n",
       "48             2331.328    8.674205  1.030415                 5  \n",
       "49             1035.719    9.498870  1.055616                 4  \n",
       "50             1003.813    9.915666  1.001112                 3  \n",
       "51             1209.015    9.080214  1.046684                 2  \n",
       "52             2258.907    8.539617  1.047182                 1  \n",
       "53             1014.485   10.065537  1.010274                 0  \n",
       "54             1023.891    9.502855  0.000000                -1  "
      ],
      "text/html": [
       "<div>\n",
       "<style scoped>\n",
       "    .dataframe tbody tr th:only-of-type {\n",
       "        vertical-align: middle;\n",
       "    }\n",
       "\n",
       "    .dataframe tbody tr th {\n",
       "        vertical-align: top;\n",
       "    }\n",
       "\n",
       "    .dataframe thead th {\n",
       "        text-align: right;\n",
       "    }\n",
       "</style>\n",
       "<table border=\"1\" class=\"dataframe\">\n",
       "  <thead>\n",
       "    <tr style=\"text-align: right;\">\n",
       "      <th></th>\n",
       "      <th>time_for_max_temp_D</th>\n",
       "      <th>max_temp_D</th>\n",
       "      <th>slope_temp_D</th>\n",
       "      <th>time_voltage_measured_below3_D</th>\n",
       "      <th>slope_voltage_measured_D</th>\n",
       "      <th>time_for_max_temp_C</th>\n",
       "      <th>max_temp_C</th>\n",
       "      <th>capacity</th>\n",
       "      <th>remaining_cycles</th>\n",
       "    </tr>\n",
       "  </thead>\n",
       "  <tbody>\n",
       "    <tr>\n",
       "      <th>0</th>\n",
       "      <td>2560.688</td>\n",
       "      <td>18.304754</td>\n",
       "      <td>0.004983</td>\n",
       "      <td>21.204</td>\n",
       "      <td>-0.018511</td>\n",
       "      <td>2102.016</td>\n",
       "      <td>8.673290</td>\n",
       "      <td>1.154073</td>\n",
       "      <td>53</td>\n",
       "    </tr>\n",
       "    <tr>\n",
       "      <th>1</th>\n",
       "      <td>2522.375</td>\n",
       "      <td>19.339428</td>\n",
       "      <td>0.005227</td>\n",
       "      <td>21.156</td>\n",
       "      <td>-0.018336</td>\n",
       "      <td>1005.985</td>\n",
       "      <td>9.278409</td>\n",
       "      <td>1.150153</td>\n",
       "      <td>52</td>\n",
       "    </tr>\n",
       "    <tr>\n",
       "      <th>2</th>\n",
       "      <td>2488.719</td>\n",
       "      <td>18.729143</td>\n",
       "      <td>0.005156</td>\n",
       "      <td>21.281</td>\n",
       "      <td>-0.018318</td>\n",
       "      <td>1008.718</td>\n",
       "      <td>9.444375</td>\n",
       "      <td>1.130586</td>\n",
       "      <td>51</td>\n",
       "    </tr>\n",
       "    <tr>\n",
       "      <th>3</th>\n",
       "      <td>2474.844</td>\n",
       "      <td>18.709412</td>\n",
       "      <td>0.005152</td>\n",
       "      <td>21.281</td>\n",
       "      <td>-0.018320</td>\n",
       "      <td>1068.641</td>\n",
       "      <td>9.394873</td>\n",
       "      <td>1.121790</td>\n",
       "      <td>50</td>\n",
       "    </tr>\n",
       "    <tr>\n",
       "      <th>4</th>\n",
       "      <td>2255.234</td>\n",
       "      <td>18.635706</td>\n",
       "      <td>0.005671</td>\n",
       "      <td>21.344</td>\n",
       "      <td>-0.018338</td>\n",
       "      <td>1014.969</td>\n",
       "      <td>9.405621</td>\n",
       "      <td>1.113598</td>\n",
       "      <td>49</td>\n",
       "    </tr>\n",
       "    <tr>\n",
       "      <th>5</th>\n",
       "      <td>2495.500</td>\n",
       "      <td>21.292306</td>\n",
       "      <td>0.006565</td>\n",
       "      <td>21.282</td>\n",
       "      <td>-0.018488</td>\n",
       "      <td>2016.016</td>\n",
       "      <td>8.589623</td>\n",
       "      <td>1.086465</td>\n",
       "      <td>48</td>\n",
       "    </tr>\n",
       "    <tr>\n",
       "      <th>6</th>\n",
       "      <td>2481.078</td>\n",
       "      <td>21.011600</td>\n",
       "      <td>0.006700</td>\n",
       "      <td>21.359</td>\n",
       "      <td>-0.018166</td>\n",
       "      <td>1039.282</td>\n",
       "      <td>9.070302</td>\n",
       "      <td>1.064749</td>\n",
       "      <td>47</td>\n",
       "    </tr>\n",
       "    <tr>\n",
       "      <th>7</th>\n",
       "      <td>2460.125</td>\n",
       "      <td>20.939939</td>\n",
       "      <td>0.005845</td>\n",
       "      <td>21.437</td>\n",
       "      <td>-0.018003</td>\n",
       "      <td>1720.875</td>\n",
       "      <td>8.907676</td>\n",
       "      <td>1.080929</td>\n",
       "      <td>46</td>\n",
       "    </tr>\n",
       "    <tr>\n",
       "      <th>8</th>\n",
       "      <td>2277.390</td>\n",
       "      <td>19.283837</td>\n",
       "      <td>0.005866</td>\n",
       "      <td>21.500</td>\n",
       "      <td>-0.018212</td>\n",
       "      <td>2249.125</td>\n",
       "      <td>8.597463</td>\n",
       "      <td>1.085275</td>\n",
       "      <td>45</td>\n",
       "    </tr>\n",
       "    <tr>\n",
       "      <th>9</th>\n",
       "      <td>2449.922</td>\n",
       "      <td>21.101392</td>\n",
       "      <td>0.006781</td>\n",
       "      <td>21.562</td>\n",
       "      <td>-0.018030</td>\n",
       "      <td>1023.360</td>\n",
       "      <td>9.293888</td>\n",
       "      <td>1.050480</td>\n",
       "      <td>44</td>\n",
       "    </tr>\n",
       "    <tr>\n",
       "      <th>10</th>\n",
       "      <td>2408.781</td>\n",
       "      <td>18.643407</td>\n",
       "      <td>0.005186</td>\n",
       "      <td>21.562</td>\n",
       "      <td>-0.018077</td>\n",
       "      <td>1259.781</td>\n",
       "      <td>8.669310</td>\n",
       "      <td>1.085355</td>\n",
       "      <td>43</td>\n",
       "    </tr>\n",
       "    <tr>\n",
       "      <th>11</th>\n",
       "      <td>2442.547</td>\n",
       "      <td>21.313678</td>\n",
       "      <td>0.006931</td>\n",
       "      <td>21.610</td>\n",
       "      <td>-0.018339</td>\n",
       "      <td>1021.390</td>\n",
       "      <td>9.472358</td>\n",
       "      <td>1.050840</td>\n",
       "      <td>42</td>\n",
       "    </tr>\n",
       "    <tr>\n",
       "      <th>12</th>\n",
       "      <td>2420.671</td>\n",
       "      <td>20.928120</td>\n",
       "      <td>0.005905</td>\n",
       "      <td>21.546</td>\n",
       "      <td>-0.017936</td>\n",
       "      <td>1719.313</td>\n",
       "      <td>8.936924</td>\n",
       "      <td>1.060907</td>\n",
       "      <td>41</td>\n",
       "    </tr>\n",
       "    <tr>\n",
       "      <th>13</th>\n",
       "      <td>2302.984</td>\n",
       "      <td>19.930787</td>\n",
       "      <td>0.006073</td>\n",
       "      <td>21.609</td>\n",
       "      <td>-0.018171</td>\n",
       "      <td>2256.812</td>\n",
       "      <td>8.545095</td>\n",
       "      <td>1.070582</td>\n",
       "      <td>40</td>\n",
       "    </tr>\n",
       "    <tr>\n",
       "      <th>14</th>\n",
       "      <td>2416.672</td>\n",
       "      <td>21.022057</td>\n",
       "      <td>0.006428</td>\n",
       "      <td>21.750</td>\n",
       "      <td>-0.017757</td>\n",
       "      <td>1004.375</td>\n",
       "      <td>9.366326</td>\n",
       "      <td>1.024037</td>\n",
       "      <td>39</td>\n",
       "    </tr>\n",
       "    <tr>\n",
       "      <th>15</th>\n",
       "      <td>2204.875</td>\n",
       "      <td>19.091623</td>\n",
       "      <td>0.005924</td>\n",
       "      <td>21.766</td>\n",
       "      <td>-0.017978</td>\n",
       "      <td>1418.672</td>\n",
       "      <td>8.661077</td>\n",
       "      <td>1.067096</td>\n",
       "      <td>38</td>\n",
       "    </tr>\n",
       "    <tr>\n",
       "      <th>16</th>\n",
       "      <td>2410.688</td>\n",
       "      <td>21.305705</td>\n",
       "      <td>0.007008</td>\n",
       "      <td>21.735</td>\n",
       "      <td>-0.018256</td>\n",
       "      <td>1039.719</td>\n",
       "      <td>9.454602</td>\n",
       "      <td>1.027924</td>\n",
       "      <td>37</td>\n",
       "    </tr>\n",
       "    <tr>\n",
       "      <th>17</th>\n",
       "      <td>2402.125</td>\n",
       "      <td>21.068855</td>\n",
       "      <td>0.005892</td>\n",
       "      <td>21.781</td>\n",
       "      <td>-0.017692</td>\n",
       "      <td>1064.766</td>\n",
       "      <td>9.002914</td>\n",
       "      <td>1.032543</td>\n",
       "      <td>36</td>\n",
       "    </tr>\n",
       "    <tr>\n",
       "      <th>18</th>\n",
       "      <td>2355.265</td>\n",
       "      <td>19.040383</td>\n",
       "      <td>0.005444</td>\n",
       "      <td>21.859</td>\n",
       "      <td>-0.017883</td>\n",
       "      <td>2171.047</td>\n",
       "      <td>8.701702</td>\n",
       "      <td>1.055949</td>\n",
       "      <td>35</td>\n",
       "    </tr>\n",
       "    <tr>\n",
       "      <th>19</th>\n",
       "      <td>2396.719</td>\n",
       "      <td>21.229883</td>\n",
       "      <td>0.006508</td>\n",
       "      <td>21.891</td>\n",
       "      <td>-0.018079</td>\n",
       "      <td>1042.000</td>\n",
       "      <td>9.636541</td>\n",
       "      <td>1.044531</td>\n",
       "      <td>34</td>\n",
       "    </tr>\n",
       "    <tr>\n",
       "      <th>20</th>\n",
       "      <td>2442.344</td>\n",
       "      <td>20.949810</td>\n",
       "      <td>0.006443</td>\n",
       "      <td>21.844</td>\n",
       "      <td>-0.017950</td>\n",
       "      <td>2526.891</td>\n",
       "      <td>8.349094</td>\n",
       "      <td>1.035314</td>\n",
       "      <td>33</td>\n",
       "    </tr>\n",
       "    <tr>\n",
       "      <th>21</th>\n",
       "      <td>2347.125</td>\n",
       "      <td>20.122997</td>\n",
       "      <td>0.006095</td>\n",
       "      <td>21.938</td>\n",
       "      <td>-0.017930</td>\n",
       "      <td>1378.547</td>\n",
       "      <td>8.778331</td>\n",
       "      <td>1.076341</td>\n",
       "      <td>32</td>\n",
       "    </tr>\n",
       "    <tr>\n",
       "      <th>22</th>\n",
       "      <td>2412.250</td>\n",
       "      <td>20.906313</td>\n",
       "      <td>0.005825</td>\n",
       "      <td>22.266</td>\n",
       "      <td>-0.017336</td>\n",
       "      <td>1006.500</td>\n",
       "      <td>9.365137</td>\n",
       "      <td>1.035222</td>\n",
       "      <td>31</td>\n",
       "    </tr>\n",
       "    <tr>\n",
       "      <th>23</th>\n",
       "      <td>2378.578</td>\n",
       "      <td>21.200763</td>\n",
       "      <td>0.006457</td>\n",
       "      <td>22.047</td>\n",
       "      <td>-0.017894</td>\n",
       "      <td>2162.390</td>\n",
       "      <td>8.642649</td>\n",
       "      <td>1.051429</td>\n",
       "      <td>30</td>\n",
       "    </tr>\n",
       "    <tr>\n",
       "      <th>24</th>\n",
       "      <td>2361.047</td>\n",
       "      <td>20.016695</td>\n",
       "      <td>0.005710</td>\n",
       "      <td>22.047</td>\n",
       "      <td>-0.017613</td>\n",
       "      <td>1003.281</td>\n",
       "      <td>9.243331</td>\n",
       "      <td>1.060333</td>\n",
       "      <td>29</td>\n",
       "    </tr>\n",
       "    <tr>\n",
       "      <th>25</th>\n",
       "      <td>2392.468</td>\n",
       "      <td>21.300889</td>\n",
       "      <td>0.006691</td>\n",
       "      <td>22.156</td>\n",
       "      <td>-0.017967</td>\n",
       "      <td>1000.141</td>\n",
       "      <td>9.596998</td>\n",
       "      <td>1.023697</td>\n",
       "      <td>28</td>\n",
       "    </tr>\n",
       "    <tr>\n",
       "      <th>26</th>\n",
       "      <td>2238.109</td>\n",
       "      <td>19.859104</td>\n",
       "      <td>0.006156</td>\n",
       "      <td>22.203</td>\n",
       "      <td>-0.017712</td>\n",
       "      <td>1176.859</td>\n",
       "      <td>8.760833</td>\n",
       "      <td>1.046588</td>\n",
       "      <td>27</td>\n",
       "    </tr>\n",
       "    <tr>\n",
       "      <th>27</th>\n",
       "      <td>2383.234</td>\n",
       "      <td>21.371063</td>\n",
       "      <td>0.007224</td>\n",
       "      <td>22.125</td>\n",
       "      <td>-0.017967</td>\n",
       "      <td>1023.235</td>\n",
       "      <td>9.458718</td>\n",
       "      <td>1.003112</td>\n",
       "      <td>26</td>\n",
       "    </tr>\n",
       "    <tr>\n",
       "      <th>28</th>\n",
       "      <td>2342.453</td>\n",
       "      <td>20.121474</td>\n",
       "      <td>0.005767</td>\n",
       "      <td>22.172</td>\n",
       "      <td>-0.017558</td>\n",
       "      <td>1804.453</td>\n",
       "      <td>8.916658</td>\n",
       "      <td>1.046158</td>\n",
       "      <td>25</td>\n",
       "    </tr>\n",
       "    <tr>\n",
       "      <th>29</th>\n",
       "      <td>2359.296</td>\n",
       "      <td>21.375505</td>\n",
       "      <td>0.006778</td>\n",
       "      <td>22.218</td>\n",
       "      <td>-0.017959</td>\n",
       "      <td>1005.344</td>\n",
       "      <td>9.665904</td>\n",
       "      <td>1.015626</td>\n",
       "      <td>24</td>\n",
       "    </tr>\n",
       "    <tr>\n",
       "      <th>30</th>\n",
       "      <td>2345.453</td>\n",
       "      <td>20.755199</td>\n",
       "      <td>0.005978</td>\n",
       "      <td>22.219</td>\n",
       "      <td>-0.017475</td>\n",
       "      <td>1031.766</td>\n",
       "      <td>9.189496</td>\n",
       "      <td>1.025005</td>\n",
       "      <td>23</td>\n",
       "    </tr>\n",
       "    <tr>\n",
       "      <th>31</th>\n",
       "      <td>2360.172</td>\n",
       "      <td>21.495109</td>\n",
       "      <td>0.007493</td>\n",
       "      <td>22.203</td>\n",
       "      <td>-0.017905</td>\n",
       "      <td>1880.297</td>\n",
       "      <td>8.592266</td>\n",
       "      <td>0.980133</td>\n",
       "      <td>22</td>\n",
       "    </tr>\n",
       "    <tr>\n",
       "      <th>32</th>\n",
       "      <td>2315.407</td>\n",
       "      <td>19.650976</td>\n",
       "      <td>0.005645</td>\n",
       "      <td>22.282</td>\n",
       "      <td>-0.017524</td>\n",
       "      <td>1861.875</td>\n",
       "      <td>8.883320</td>\n",
       "      <td>1.036778</td>\n",
       "      <td>21</td>\n",
       "    </tr>\n",
       "    <tr>\n",
       "      <th>33</th>\n",
       "      <td>2322.156</td>\n",
       "      <td>18.856014</td>\n",
       "      <td>0.005473</td>\n",
       "      <td>22.437</td>\n",
       "      <td>-0.017559</td>\n",
       "      <td>1000.734</td>\n",
       "      <td>9.696469</td>\n",
       "      <td>1.026830</td>\n",
       "      <td>20</td>\n",
       "    </tr>\n",
       "    <tr>\n",
       "      <th>34</th>\n",
       "      <td>2175.891</td>\n",
       "      <td>19.669437</td>\n",
       "      <td>0.006271</td>\n",
       "      <td>22.422</td>\n",
       "      <td>-0.017636</td>\n",
       "      <td>1002.438</td>\n",
       "      <td>9.684375</td>\n",
       "      <td>1.015038</td>\n",
       "      <td>19</td>\n",
       "    </tr>\n",
       "    <tr>\n",
       "      <th>35</th>\n",
       "      <td>2335.000</td>\n",
       "      <td>21.138846</td>\n",
       "      <td>0.006909</td>\n",
       "      <td>22.484</td>\n",
       "      <td>-0.017840</td>\n",
       "      <td>1020.406</td>\n",
       "      <td>9.544972</td>\n",
       "      <td>0.990461</td>\n",
       "      <td>18</td>\n",
       "    </tr>\n",
       "    <tr>\n",
       "      <th>36</th>\n",
       "      <td>2127.218</td>\n",
       "      <td>19.288048</td>\n",
       "      <td>0.006196</td>\n",
       "      <td>22.500</td>\n",
       "      <td>-0.017523</td>\n",
       "      <td>1148.719</td>\n",
       "      <td>8.680379</td>\n",
       "      <td>1.014577</td>\n",
       "      <td>17</td>\n",
       "    </tr>\n",
       "    <tr>\n",
       "      <th>37</th>\n",
       "      <td>2333.875</td>\n",
       "      <td>21.326801</td>\n",
       "      <td>0.007150</td>\n",
       "      <td>22.453</td>\n",
       "      <td>-0.017826</td>\n",
       "      <td>1003.094</td>\n",
       "      <td>9.490475</td>\n",
       "      <td>0.981131</td>\n",
       "      <td>16</td>\n",
       "    </tr>\n",
       "    <tr>\n",
       "      <th>38</th>\n",
       "      <td>2317.453</td>\n",
       "      <td>20.842607</td>\n",
       "      <td>0.006101</td>\n",
       "      <td>22.500</td>\n",
       "      <td>-0.017341</td>\n",
       "      <td>1199.921</td>\n",
       "      <td>8.961793</td>\n",
       "      <td>1.004169</td>\n",
       "      <td>15</td>\n",
       "    </tr>\n",
       "    <tr>\n",
       "      <th>39</th>\n",
       "      <td>2053.766</td>\n",
       "      <td>18.560109</td>\n",
       "      <td>0.005980</td>\n",
       "      <td>22.609</td>\n",
       "      <td>-0.017447</td>\n",
       "      <td>2313.219</td>\n",
       "      <td>8.441761</td>\n",
       "      <td>1.007820</td>\n",
       "      <td>14</td>\n",
       "    </tr>\n",
       "    <tr>\n",
       "      <th>40</th>\n",
       "      <td>2326.657</td>\n",
       "      <td>21.592401</td>\n",
       "      <td>0.006948</td>\n",
       "      <td>22.782</td>\n",
       "      <td>-0.017596</td>\n",
       "      <td>1011.375</td>\n",
       "      <td>9.685456</td>\n",
       "      <td>0.982454</td>\n",
       "      <td>13</td>\n",
       "    </tr>\n",
       "    <tr>\n",
       "      <th>41</th>\n",
       "      <td>2415.063</td>\n",
       "      <td>20.679962</td>\n",
       "      <td>0.006308</td>\n",
       "      <td>22.516</td>\n",
       "      <td>-0.018258</td>\n",
       "      <td>1000.922</td>\n",
       "      <td>8.689035</td>\n",
       "      <td>1.109678</td>\n",
       "      <td>12</td>\n",
       "    </tr>\n",
       "    <tr>\n",
       "      <th>42</th>\n",
       "      <td>2195.703</td>\n",
       "      <td>18.987481</td>\n",
       "      <td>0.005867</td>\n",
       "      <td>22.688</td>\n",
       "      <td>-0.017296</td>\n",
       "      <td>2466.125</td>\n",
       "      <td>8.638870</td>\n",
       "      <td>1.113680</td>\n",
       "      <td>11</td>\n",
       "    </tr>\n",
       "    <tr>\n",
       "      <th>43</th>\n",
       "      <td>2458.812</td>\n",
       "      <td>21.621997</td>\n",
       "      <td>0.006367</td>\n",
       "      <td>22.687</td>\n",
       "      <td>-0.017017</td>\n",
       "      <td>1096.078</td>\n",
       "      <td>9.687250</td>\n",
       "      <td>1.038501</td>\n",
       "      <td>10</td>\n",
       "    </tr>\n",
       "    <tr>\n",
       "      <th>44</th>\n",
       "      <td>2400.672</td>\n",
       "      <td>18.973653</td>\n",
       "      <td>0.005338</td>\n",
       "      <td>22.687</td>\n",
       "      <td>-0.017287</td>\n",
       "      <td>1913.157</td>\n",
       "      <td>8.974289</td>\n",
       "      <td>1.076882</td>\n",
       "      <td>9</td>\n",
       "    </tr>\n",
       "    <tr>\n",
       "      <th>45</th>\n",
       "      <td>2396.407</td>\n",
       "      <td>20.978900</td>\n",
       "      <td>0.005973</td>\n",
       "      <td>22.750</td>\n",
       "      <td>-0.017071</td>\n",
       "      <td>1005.735</td>\n",
       "      <td>9.706338</td>\n",
       "      <td>1.072171</td>\n",
       "      <td>8</td>\n",
       "    </tr>\n",
       "    <tr>\n",
       "      <th>46</th>\n",
       "      <td>2392.375</td>\n",
       "      <td>21.790166</td>\n",
       "      <td>0.006921</td>\n",
       "      <td>22.781</td>\n",
       "      <td>-0.017063</td>\n",
       "      <td>2569.687</td>\n",
       "      <td>8.372177</td>\n",
       "      <td>1.012459</td>\n",
       "      <td>7</td>\n",
       "    </tr>\n",
       "    <tr>\n",
       "      <th>47</th>\n",
       "      <td>2373.687</td>\n",
       "      <td>21.259687</td>\n",
       "      <td>0.006066</td>\n",
       "      <td>22.781</td>\n",
       "      <td>-0.016986</td>\n",
       "      <td>1585.234</td>\n",
       "      <td>8.790992</td>\n",
       "      <td>1.027994</td>\n",
       "      <td>6</td>\n",
       "    </tr>\n",
       "    <tr>\n",
       "      <th>48</th>\n",
       "      <td>2385.922</td>\n",
       "      <td>22.113676</td>\n",
       "      <td>0.006988</td>\n",
       "      <td>22.750</td>\n",
       "      <td>-0.017553</td>\n",
       "      <td>2331.328</td>\n",
       "      <td>8.674205</td>\n",
       "      <td>1.030415</td>\n",
       "      <td>5</td>\n",
       "    </tr>\n",
       "    <tr>\n",
       "      <th>49</th>\n",
       "      <td>2345.000</td>\n",
       "      <td>20.512664</td>\n",
       "      <td>0.005945</td>\n",
       "      <td>22.875</td>\n",
       "      <td>-0.017100</td>\n",
       "      <td>1035.719</td>\n",
       "      <td>9.498870</td>\n",
       "      <td>1.055616</td>\n",
       "      <td>4</td>\n",
       "    </tr>\n",
       "    <tr>\n",
       "      <th>50</th>\n",
       "      <td>2363.047</td>\n",
       "      <td>21.838243</td>\n",
       "      <td>0.007343</td>\n",
       "      <td>22.875</td>\n",
       "      <td>-0.017499</td>\n",
       "      <td>1003.813</td>\n",
       "      <td>9.915666</td>\n",
       "      <td>1.001112</td>\n",
       "      <td>3</td>\n",
       "    </tr>\n",
       "    <tr>\n",
       "      <th>51</th>\n",
       "      <td>2316.687</td>\n",
       "      <td>19.198412</td>\n",
       "      <td>0.005526</td>\n",
       "      <td>22.969</td>\n",
       "      <td>-0.017114</td>\n",
       "      <td>1209.015</td>\n",
       "      <td>9.080214</td>\n",
       "      <td>1.046684</td>\n",
       "      <td>2</td>\n",
       "    </tr>\n",
       "    <tr>\n",
       "      <th>52</th>\n",
       "      <td>2322.000</td>\n",
       "      <td>19.947939</td>\n",
       "      <td>0.005802</td>\n",
       "      <td>22.984</td>\n",
       "      <td>-0.017040</td>\n",
       "      <td>2258.907</td>\n",
       "      <td>8.539617</td>\n",
       "      <td>1.047182</td>\n",
       "      <td>1</td>\n",
       "    </tr>\n",
       "    <tr>\n",
       "      <th>53</th>\n",
       "      <td>2357.687</td>\n",
       "      <td>22.111677</td>\n",
       "      <td>0.007165</td>\n",
       "      <td>23.062</td>\n",
       "      <td>-0.017425</td>\n",
       "      <td>1014.485</td>\n",
       "      <td>10.065537</td>\n",
       "      <td>1.010274</td>\n",
       "      <td>0</td>\n",
       "    </tr>\n",
       "    <tr>\n",
       "      <th>54</th>\n",
       "      <td>9.360</td>\n",
       "      <td>6.072575</td>\n",
       "      <td>-0.054493</td>\n",
       "      <td>23.000</td>\n",
       "      <td>-0.016916</td>\n",
       "      <td>1023.891</td>\n",
       "      <td>9.502855</td>\n",
       "      <td>0.000000</td>\n",
       "      <td>-1</td>\n",
       "    </tr>\n",
       "  </tbody>\n",
       "</table>\n",
       "</div>"
      ]
     },
     "metadata": {},
     "execution_count": 156
    }
   ],
   "metadata": {
    "colab": {
     "base_uri": "https://localhost:8080/",
     "height": 441
    },
    "id": "biVUPk1ZWkhi",
    "outputId": "53b11153-e7a1-4280-bb59-d593c9a04917"
   }
  },
  {
   "cell_type": "code",
   "execution_count": 119,
   "source": [
    "filepath = 'processed_csv/'\n",
    "name = 'B0018_processed.csv'\n",
    "df.to_csv(filepath+name)"
   ],
   "outputs": [],
   "metadata": {}
  },
  {
   "cell_type": "code",
   "execution_count": 37,
   "source": [
    "df.describe()"
   ],
   "outputs": [
    {
     "output_type": "execute_result",
     "data": {
      "text/plain": [
       "       time_for_max_temp_D  max_temp_D  slope_temp_D  \\\n",
       "count           168.000000  168.000000    168.000000   \n",
       "mean           2846.875994   39.845110      0.005613   \n",
       "std             342.720870    1.118020      0.001053   \n",
       "min            2327.750000   37.801336      0.004146   \n",
       "25%            2520.270000   38.804674      0.004540   \n",
       "50%            2818.523500   40.080753      0.005652   \n",
       "75%            3195.621250   40.865238      0.006538   \n",
       "max            3366.781000   41.450232      0.007380   \n",
       "\n",
       "       time_voltage_measured_below3_D  slope_voltage_measured_D  \\\n",
       "count                      168.000000                168.000000   \n",
       "mean                      2754.208619                 -0.000397   \n",
       "std                        362.104457                  0.000046   \n",
       "min                       2222.094000                 -0.000474   \n",
       "25%                       2408.808500                 -0.000439   \n",
       "50%                       2713.586000                 -0.000397   \n",
       "75%                       3132.226750                 -0.000348   \n",
       "max                       3290.750000                 -0.000332   \n",
       "\n",
       "       time_for_max_temp_C  max_temp_C    capacity  remaining_cycles  \n",
       "count           168.000000  168.000000  168.000000        168.000000  \n",
       "mean           2658.187280   29.456190    1.572502         76.500000  \n",
       "std             556.328245    0.692348    0.190413         48.641546  \n",
       "min            1004.344000   23.888926    1.287453         -7.000000  \n",
       "25%            2174.832000   29.200590    1.390021         34.750000  \n",
       "50%            2588.718500   29.465142    1.557085         76.500000  \n",
       "75%            3203.429000   29.827732    1.769163        118.250000  \n",
       "max            3494.703000   31.187718    1.856487        160.000000  "
      ],
      "text/html": [
       "<div>\n",
       "<style scoped>\n",
       "    .dataframe tbody tr th:only-of-type {\n",
       "        vertical-align: middle;\n",
       "    }\n",
       "\n",
       "    .dataframe tbody tr th {\n",
       "        vertical-align: top;\n",
       "    }\n",
       "\n",
       "    .dataframe thead th {\n",
       "        text-align: right;\n",
       "    }\n",
       "</style>\n",
       "<table border=\"1\" class=\"dataframe\">\n",
       "  <thead>\n",
       "    <tr style=\"text-align: right;\">\n",
       "      <th></th>\n",
       "      <th>time_for_max_temp_D</th>\n",
       "      <th>max_temp_D</th>\n",
       "      <th>slope_temp_D</th>\n",
       "      <th>time_voltage_measured_below3_D</th>\n",
       "      <th>slope_voltage_measured_D</th>\n",
       "      <th>time_for_max_temp_C</th>\n",
       "      <th>max_temp_C</th>\n",
       "      <th>capacity</th>\n",
       "      <th>remaining_cycles</th>\n",
       "    </tr>\n",
       "  </thead>\n",
       "  <tbody>\n",
       "    <tr>\n",
       "      <th>count</th>\n",
       "      <td>168.000000</td>\n",
       "      <td>168.000000</td>\n",
       "      <td>168.000000</td>\n",
       "      <td>168.000000</td>\n",
       "      <td>168.000000</td>\n",
       "      <td>168.000000</td>\n",
       "      <td>168.000000</td>\n",
       "      <td>168.000000</td>\n",
       "      <td>168.000000</td>\n",
       "    </tr>\n",
       "    <tr>\n",
       "      <th>mean</th>\n",
       "      <td>2846.875994</td>\n",
       "      <td>39.845110</td>\n",
       "      <td>0.005613</td>\n",
       "      <td>2754.208619</td>\n",
       "      <td>-0.000397</td>\n",
       "      <td>2658.187280</td>\n",
       "      <td>29.456190</td>\n",
       "      <td>1.572502</td>\n",
       "      <td>76.500000</td>\n",
       "    </tr>\n",
       "    <tr>\n",
       "      <th>std</th>\n",
       "      <td>342.720870</td>\n",
       "      <td>1.118020</td>\n",
       "      <td>0.001053</td>\n",
       "      <td>362.104457</td>\n",
       "      <td>0.000046</td>\n",
       "      <td>556.328245</td>\n",
       "      <td>0.692348</td>\n",
       "      <td>0.190413</td>\n",
       "      <td>48.641546</td>\n",
       "    </tr>\n",
       "    <tr>\n",
       "      <th>min</th>\n",
       "      <td>2327.750000</td>\n",
       "      <td>37.801336</td>\n",
       "      <td>0.004146</td>\n",
       "      <td>2222.094000</td>\n",
       "      <td>-0.000474</td>\n",
       "      <td>1004.344000</td>\n",
       "      <td>23.888926</td>\n",
       "      <td>1.287453</td>\n",
       "      <td>-7.000000</td>\n",
       "    </tr>\n",
       "    <tr>\n",
       "      <th>25%</th>\n",
       "      <td>2520.270000</td>\n",
       "      <td>38.804674</td>\n",
       "      <td>0.004540</td>\n",
       "      <td>2408.808500</td>\n",
       "      <td>-0.000439</td>\n",
       "      <td>2174.832000</td>\n",
       "      <td>29.200590</td>\n",
       "      <td>1.390021</td>\n",
       "      <td>34.750000</td>\n",
       "    </tr>\n",
       "    <tr>\n",
       "      <th>50%</th>\n",
       "      <td>2818.523500</td>\n",
       "      <td>40.080753</td>\n",
       "      <td>0.005652</td>\n",
       "      <td>2713.586000</td>\n",
       "      <td>-0.000397</td>\n",
       "      <td>2588.718500</td>\n",
       "      <td>29.465142</td>\n",
       "      <td>1.557085</td>\n",
       "      <td>76.500000</td>\n",
       "    </tr>\n",
       "    <tr>\n",
       "      <th>75%</th>\n",
       "      <td>3195.621250</td>\n",
       "      <td>40.865238</td>\n",
       "      <td>0.006538</td>\n",
       "      <td>3132.226750</td>\n",
       "      <td>-0.000348</td>\n",
       "      <td>3203.429000</td>\n",
       "      <td>29.827732</td>\n",
       "      <td>1.769163</td>\n",
       "      <td>118.250000</td>\n",
       "    </tr>\n",
       "    <tr>\n",
       "      <th>max</th>\n",
       "      <td>3366.781000</td>\n",
       "      <td>41.450232</td>\n",
       "      <td>0.007380</td>\n",
       "      <td>3290.750000</td>\n",
       "      <td>-0.000332</td>\n",
       "      <td>3494.703000</td>\n",
       "      <td>31.187718</td>\n",
       "      <td>1.856487</td>\n",
       "      <td>160.000000</td>\n",
       "    </tr>\n",
       "  </tbody>\n",
       "</table>\n",
       "</div>"
      ]
     },
     "metadata": {},
     "execution_count": 37
    }
   ],
   "metadata": {
    "colab": {
     "base_uri": "https://localhost:8080/",
     "height": 319
    },
    "id": "K7x8qw0F-Ah9",
    "outputId": "8be91906-909a-4144-bce1-3241901cda69"
   }
  },
  {
   "cell_type": "code",
   "execution_count": 29,
   "source": [
    "discharge_indices[30]"
   ],
   "outputs": [
    {
     "output_type": "execute_result",
     "data": {
      "text/plain": [
       "85"
      ]
     },
     "metadata": {},
     "execution_count": 29
    }
   ],
   "metadata": {
    "colab": {
     "base_uri": "https://localhost:8080/"
    },
    "id": "dTVZFzmvDxx7",
    "outputId": "5327fb8f-bb5e-49cd-9795-a73d7523027d"
   }
  },
  {
   "cell_type": "code",
   "execution_count": 30,
   "source": [
    "df['slope_voltage_measured_D'].hist(bins=30)"
   ],
   "outputs": [
    {
     "output_type": "execute_result",
     "data": {
      "text/plain": [
       "<matplotlib.axes._subplots.AxesSubplot at 0x104121310>"
      ]
     },
     "metadata": {},
     "execution_count": 30
    },
    {
     "output_type": "display_data",
     "data": {
      "text/plain": [
       "<Figure size 432x288 with 1 Axes>"
      ],
      "image/png": "[encoded data removed]"
     },
     "metadata": {
      "needs_background": "light"
     }
    }
   ],
   "metadata": {
    "colab": {
     "base_uri": "https://localhost:8080/",
     "height": 283
    },
    "id": "u_vJ05Qz-J6U",
    "outputId": "2b46e1ce-8cad-45cd-ac66-eb94d16ef29b"
   }
  },
  {
   "cell_type": "code",
   "execution_count": 61,
   "source": [
    "corr_matrix = df.corr()\n",
    "corr_matrix"
   ],
   "outputs": [
    {
     "output_type": "execute_result",
     "data": {
      "text/plain": [
       "                                time_for_max_temp_D  max_temp_D  slope_temp_D  \\\n",
       "time_for_max_temp_D                        1.000000   -0.851005     -0.981657   \n",
       "max_temp_D                                -0.851005    1.000000      0.890961   \n",
       "slope_temp_D                              -0.981657    0.890961      1.000000   \n",
       "time_voltage_measured_below3_D             0.999841   -0.852979     -0.982063   \n",
       "slope_voltage_measured_D                   0.967714   -0.846441     -0.985759   \n",
       "time_for_max_temp_C                        0.899845   -0.806442     -0.900880   \n",
       "max_temp_C                                -0.256983    0.479673      0.257822   \n",
       "capacity                                   0.999871   -0.850417     -0.981949   \n",
       "remaining_cycles                           0.981540   -0.838338     -0.978361   \n",
       "\n",
       "                                time_voltage_measured_below3_D  \\\n",
       "time_for_max_temp_D                                   0.999841   \n",
       "max_temp_D                                           -0.852979   \n",
       "slope_temp_D                                         -0.982063   \n",
       "time_voltage_measured_below3_D                        1.000000   \n",
       "slope_voltage_measured_D                              0.967194   \n",
       "time_for_max_temp_C                                   0.900654   \n",
       "max_temp_C                                           -0.259000   \n",
       "capacity                                              0.999847   \n",
       "remaining_cycles                                      0.980568   \n",
       "\n",
       "                                slope_voltage_measured_D  time_for_max_temp_C  \\\n",
       "time_for_max_temp_D                             0.967714             0.899845   \n",
       "max_temp_D                                     -0.846441            -0.806442   \n",
       "slope_temp_D                                   -0.985759            -0.900880   \n",
       "time_voltage_measured_below3_D                  0.967194             0.900654   \n",
       "slope_voltage_measured_D                        1.000000             0.892016   \n",
       "time_for_max_temp_C                             0.892016             1.000000   \n",
       "max_temp_C                                     -0.207489            -0.025735   \n",
       "capacity                                        0.968128             0.898956   \n",
       "remaining_cycles                                0.988475             0.900037   \n",
       "\n",
       "                                max_temp_C  capacity  remaining_cycles  \n",
       "time_for_max_temp_D              -0.256983  0.999871          0.981540  \n",
       "max_temp_D                        0.479673 -0.850417         -0.838338  \n",
       "slope_temp_D                      0.257822 -0.981949         -0.978361  \n",
       "time_voltage_measured_below3_D   -0.259000  0.999847          0.980568  \n",
       "slope_voltage_measured_D         -0.207489  0.968128          0.988475  \n",
       "time_for_max_temp_C              -0.025735  0.898956          0.900037  \n",
       "max_temp_C                        1.000000 -0.257526         -0.224656  \n",
       "capacity                         -0.257526  1.000000          0.981681  \n",
       "remaining_cycles                 -0.224656  0.981681          1.000000  "
      ],
      "text/html": [
       "<div>\n",
       "<style scoped>\n",
       "    .dataframe tbody tr th:only-of-type {\n",
       "        vertical-align: middle;\n",
       "    }\n",
       "\n",
       "    .dataframe tbody tr th {\n",
       "        vertical-align: top;\n",
       "    }\n",
       "\n",
       "    .dataframe thead th {\n",
       "        text-align: right;\n",
       "    }\n",
       "</style>\n",
       "<table border=\"1\" class=\"dataframe\">\n",
       "  <thead>\n",
       "    <tr style=\"text-align: right;\">\n",
       "      <th></th>\n",
       "      <th>time_for_max_temp_D</th>\n",
       "      <th>max_temp_D</th>\n",
       "      <th>slope_temp_D</th>\n",
       "      <th>time_voltage_measured_below3_D</th>\n",
       "      <th>slope_voltage_measured_D</th>\n",
       "      <th>time_for_max_temp_C</th>\n",
       "      <th>max_temp_C</th>\n",
       "      <th>capacity</th>\n",
       "      <th>remaining_cycles</th>\n",
       "    </tr>\n",
       "  </thead>\n",
       "  <tbody>\n",
       "    <tr>\n",
       "      <th>time_for_max_temp_D</th>\n",
       "      <td>1.000000</td>\n",
       "      <td>-0.851005</td>\n",
       "      <td>-0.981657</td>\n",
       "      <td>0.999841</td>\n",
       "      <td>0.967714</td>\n",
       "      <td>0.899845</td>\n",
       "      <td>-0.256983</td>\n",
       "      <td>0.999871</td>\n",
       "      <td>0.981540</td>\n",
       "    </tr>\n",
       "    <tr>\n",
       "      <th>max_temp_D</th>\n",
       "      <td>-0.851005</td>\n",
       "      <td>1.000000</td>\n",
       "      <td>0.890961</td>\n",
       "      <td>-0.852979</td>\n",
       "      <td>-0.846441</td>\n",
       "      <td>-0.806442</td>\n",
       "      <td>0.479673</td>\n",
       "      <td>-0.850417</td>\n",
       "      <td>-0.838338</td>\n",
       "    </tr>\n",
       "    <tr>\n",
       "      <th>slope_temp_D</th>\n",
       "      <td>-0.981657</td>\n",
       "      <td>0.890961</td>\n",
       "      <td>1.000000</td>\n",
       "      <td>-0.982063</td>\n",
       "      <td>-0.985759</td>\n",
       "      <td>-0.900880</td>\n",
       "      <td>0.257822</td>\n",
       "      <td>-0.981949</td>\n",
       "      <td>-0.978361</td>\n",
       "    </tr>\n",
       "    <tr>\n",
       "      <th>time_voltage_measured_below3_D</th>\n",
       "      <td>0.999841</td>\n",
       "      <td>-0.852979</td>\n",
       "      <td>-0.982063</td>\n",
       "      <td>1.000000</td>\n",
       "      <td>0.967194</td>\n",
       "      <td>0.900654</td>\n",
       "      <td>-0.259000</td>\n",
       "      <td>0.999847</td>\n",
       "      <td>0.980568</td>\n",
       "    </tr>\n",
       "    <tr>\n",
       "      <th>slope_voltage_measured_D</th>\n",
       "      <td>0.967714</td>\n",
       "      <td>-0.846441</td>\n",
       "      <td>-0.985759</td>\n",
       "      <td>0.967194</td>\n",
       "      <td>1.000000</td>\n",
       "      <td>0.892016</td>\n",
       "      <td>-0.207489</td>\n",
       "      <td>0.968128</td>\n",
       "      <td>0.988475</td>\n",
       "    </tr>\n",
       "    <tr>\n",
       "      <th>time_for_max_temp_C</th>\n",
       "      <td>0.899845</td>\n",
       "      <td>-0.806442</td>\n",
       "      <td>-0.900880</td>\n",
       "      <td>0.900654</td>\n",
       "      <td>0.892016</td>\n",
       "      <td>1.000000</td>\n",
       "      <td>-0.025735</td>\n",
       "      <td>0.898956</td>\n",
       "      <td>0.900037</td>\n",
       "    </tr>\n",
       "    <tr>\n",
       "      <th>max_temp_C</th>\n",
       "      <td>-0.256983</td>\n",
       "      <td>0.479673</td>\n",
       "      <td>0.257822</td>\n",
       "      <td>-0.259000</td>\n",
       "      <td>-0.207489</td>\n",
       "      <td>-0.025735</td>\n",
       "      <td>1.000000</td>\n",
       "      <td>-0.257526</td>\n",
       "      <td>-0.224656</td>\n",
       "    </tr>\n",
       "    <tr>\n",
       "      <th>capacity</th>\n",
       "      <td>0.999871</td>\n",
       "      <td>-0.850417</td>\n",
       "      <td>-0.981949</td>\n",
       "      <td>0.999847</td>\n",
       "      <td>0.968128</td>\n",
       "      <td>0.898956</td>\n",
       "      <td>-0.257526</td>\n",
       "      <td>1.000000</td>\n",
       "      <td>0.981681</td>\n",
       "    </tr>\n",
       "    <tr>\n",
       "      <th>remaining_cycles</th>\n",
       "      <td>0.981540</td>\n",
       "      <td>-0.838338</td>\n",
       "      <td>-0.978361</td>\n",
       "      <td>0.980568</td>\n",
       "      <td>0.988475</td>\n",
       "      <td>0.900037</td>\n",
       "      <td>-0.224656</td>\n",
       "      <td>0.981681</td>\n",
       "      <td>1.000000</td>\n",
       "    </tr>\n",
       "  </tbody>\n",
       "</table>\n",
       "</div>"
      ]
     },
     "metadata": {},
     "execution_count": 61
    }
   ],
   "metadata": {
    "colab": {
     "base_uri": "https://localhost:8080/",
     "height": 300
    },
    "id": "iPwVlZkKbrQY",
    "outputId": "0b117df5-4a8f-4f9c-9a4a-a909e3ad9979"
   }
  },
  {
   "cell_type": "code",
   "execution_count": 157,
   "source": [
    "from pandas.plotting import scatter_matrix\n",
    "\n",
    "attributes = df.columns\n",
    "scatter_matrix(df[attributes], figsize=(12,8))\n",
    "plt.show()"
   ],
   "outputs": [
    {
     "output_type": "display_data",
     "data": {
      "text/plain": [
       "<Figure size 864x576 with 81 Axes>"
      ],
      "image/png": "[encoded data removed]"
     },
     "metadata": {
      "needs_background": "light"
     }
    }
   ],
   "metadata": {
    "colab": {
     "base_uri": "https://localhost:8080/",
     "height": 1000
    },
    "id": "xcNxuHNU8l84",
    "outputId": "9b9af1d5-9595-4ac9-b233-598bcc7654d6"
   }
  },
  {
   "cell_type": "code",
   "execution_count": 159,
   "source": [
    "tools.cycle_plotter(new_cycles, [4,132])"
   ],
   "outputs": [
    {
     "output_type": "display_data",
     "data": {
      "text/plain": [
       "<Figure size 432x288 with 1 Axes>"
      ],
      "image/png": "[encoded data removed]"
     },
     "metadata": {
      "needs_background": "light"
     }
    },
    {
     "output_type": "display_data",
     "data": {
      "text/plain": [
       "<Figure size 432x288 with 1 Axes>"
      ],
      "image/png": "[encoded data removed]"
     },
     "metadata": {
      "needs_background": "light"
     }
    },
    {
     "output_type": "display_data",
     "data": {
      "text/plain": [
       "<Figure size 432x288 with 1 Axes>"
      ],
      "image/png": "[encoded data removed]"
     },
     "metadata": {
      "needs_background": "light"
     }
    },
    {
     "output_type": "display_data",
     "data": {
      "text/plain": [
       "<Figure size 432x288 with 1 Axes>"
      ],
      "image/png": "[encoded data removed]"
     },
     "metadata": {
      "needs_background": "light"
     }
    },
    {
     "output_type": "display_data",
     "data": {
      "text/plain": [
       "<Figure size 432x288 with 1 Axes>"
      ],
      "image/png": "[encoded data removed]"
     },
     "metadata": {
      "needs_background": "light"
     }
    }
   ],
   "metadata": {}
  },
  {
   "cell_type": "code",
   "execution_count": null,
   "source": [],
   "outputs": [],
   "metadata": {}
  }
 ],
 "metadata": {
  "colab": {
   "collapsed_sections": [],
   "include_colab_link": true,
   "name": "Data_Visualisation.ipynb",
   "provenance": [],
   "toc_visible": true
  },
  "interpreter": {
   "hash": "97926ce3678dbc6879c995df57bc8fa6031122dcbb317b9de82cd194815f7dd2"
  },
  "kernelspec": {
   "name": "python3",
   "display_name": "Python 3.9.5 64-bit ('base': conda)"
  },
  "language_info": {
   "codemirror_mode": {
    "name": "ipython",
    "version": 3
   },
   "file_extension": ".py",
   "mimetype": "text/x-python",
   "name": "python",
   "nbconvert_exporter": "python",
   "pygments_lexer": "ipython3",
   "version": "3.9.5"
  }
 },
 "nbformat": 4,
 "nbformat_minor": 2
}