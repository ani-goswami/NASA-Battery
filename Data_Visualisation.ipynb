{
  "nbformat": 4,
  "nbformat_minor": 0,
  "metadata": {
    "colab": {
      "name": "Data_Visualisation.ipynb",
      "provenance": [],
      "collapsed_sections": [],
      "include_colab_link": true
    },
    "kernelspec": {
      "display_name": "Python 3",
      "name": "python3"
    },
    "language_info": {
      "name": "python"
    }
  },
  "cells": [
    {
      "cell_type": "markdown",
      "metadata": {
        "id": "view-in-github",
        "colab_type": "text"
      },
      "source": [
        "<a href=\"https://colab.research.google.com/github/natskiu/Nasa-Battery/blob/main/Data_Visualisation.ipynb\" target=\"_parent\"><img src=\"https://colab.research.google.com/assets/colab-badge.svg\" alt=\"Open In Colab\"/></a>"
      ]
    },
    {
      "cell_type": "code",
      "metadata": {
        "id": "ia_XjIIjtbP-"
      },
      "source": [
        "import numpy as np\n",
        "import matplotlib.pyplot as plt\n",
        "#this is a comment\n",
        "import scipy.io as sio"
      ],
      "execution_count": null,
      "outputs": []
    },
    {
      "cell_type": "code",
      "metadata": {
        "colab": {
          "base_uri": "https://localhost:8080/"
        },
        "id": "xByOR1S_3gvz",
        "outputId": "2079b1e1-a99a-48c3-80d9-4c6bf7370b7f"
      },
      "source": [
        "# raw=true is important so you download the file rather than the webpage.\n",
        "!wget https://github.com/natskiu/Nasa-Battery/blob/main/Data/B0005.mat?raw=true\n",
        "# rename the file\n",
        "!mv B0005.mat\\?raw\\=true B0005.mat\n",
        "# update scipy\n",
        "!pip install -U -q scipy\n",
        "# Load the data\n",
        "from scipy import io\n",
        "v = io.loadmat('B0005.mat')"
      ],
      "execution_count": null,
      "outputs": [
        {
          "output_type": "stream",
          "text": [
            "--2021-08-17 06:02:19--  https://github.com/natskiu/Nasa-Battery/blob/main/Data/B0005.mat?raw=true\n",
            "Resolving github.com (github.com)... 140.82.112.4\n",
            "Connecting to github.com (github.com)|140.82.112.4|:443... connected.\n",
            "HTTP request sent, awaiting response... 302 Found\n",
            "Location: https://github.com/natskiu/Nasa-Battery/raw/main/Data/B0005.mat [following]\n",
            "--2021-08-17 06:02:19--  https://github.com/natskiu/Nasa-Battery/raw/main/Data/B0005.mat\n",
            "Reusing existing connection to github.com:443.\n",
            "HTTP request sent, awaiting response... 302 Found\n",
            "Location: https://raw.githubusercontent.com/natskiu/Nasa-Battery/main/Data/B0005.mat [following]\n",
            "--2021-08-17 06:02:19--  https://raw.githubusercontent.com/natskiu/Nasa-Battery/main/Data/B0005.mat\n",
            "Resolving raw.githubusercontent.com (raw.githubusercontent.com)... 185.199.108.133, 185.199.110.133, 185.199.111.133, ...\n",
            "Connecting to raw.githubusercontent.com (raw.githubusercontent.com)|185.199.108.133|:443... connected.\n",
            "HTTP request sent, awaiting response... 200 OK\n",
            "Length: 15956874 (15M) [application/octet-stream]\n",
            "Saving to: ‘B0005.mat?raw=true’\n",
            "\n",
            "B0005.mat?raw=true  100%[===================>]  15.22M  --.-KB/s    in 0.09s   \n",
            "\n",
            "2021-08-17 06:02:19 (177 MB/s) - ‘B0005.mat?raw=true’ saved [15956874/15956874]\n",
            "\n"
          ],
          "name": "stdout"
        }
      ]
    },
    {
      "cell_type": "code",
      "metadata": {
        "colab": {
          "base_uri": "https://localhost:8080/"
        },
        "id": "TjxeL5hX4D0M",
        "outputId": "25a5c883-2f8e-48d5-bc60-35ea49162386"
      },
      "source": [
        "v.keys()"
      ],
      "execution_count": null,
      "outputs": [
        {
          "output_type": "execute_result",
          "data": {
            "text/plain": [
              "dict_keys(['__header__', '__version__', '__globals__', 'B0005'])"
            ]
          },
          "metadata": {
            "tags": []
          },
          "execution_count": 4
        }
      ]
    },
    {
      "cell_type": "code",
      "metadata": {
        "colab": {
          "base_uri": "https://localhost:8080/"
        },
        "id": "if77MRmG49m8",
        "outputId": "b46c5c0d-7b7c-4be5-d07b-1605e2c8f21a"
      },
      "source": [
        "np.vstack(v['B0005'][0,0]).shape"
      ],
      "execution_count": null,
      "outputs": [
        {
          "output_type": "execute_result",
          "data": {
            "text/plain": [
              "(1, 616)"
            ]
          },
          "metadata": {
            "tags": []
          },
          "execution_count": 7
        }
      ]
    },
    {
      "cell_type": "code",
      "metadata": {
        "colab": {
          "base_uri": "https://localhost:8080/"
        },
        "id": "yU3O46stLbeZ",
        "outputId": "3db1d3b3-8c40-4a69-be30-526b75a610fc"
      },
      "source": [
        "\"only change the middle index i.e. cycles[0,1][3], cycles[0,2][3]\"\n",
        "cycles[0,0][3].shape"
      ],
      "execution_count": null,
      "outputs": [
        {
          "output_type": "execute_result",
          "data": {
            "text/plain": [
              "(1, 1)"
            ]
          },
          "metadata": {
            "tags": []
          },
          "execution_count": 9
        }
      ]
    },
    {
      "cell_type": "code",
      "metadata": {
        "colab": {
          "base_uri": "https://localhost:8080/"
        },
        "id": "DmfoQrjBI1-O",
        "outputId": "16d3341b-81da-4bef-e117-4542f037639f"
      },
      "source": [
        "# important!!!\n",
        "cycles = np.vstack(v['B0005'][0,0])\n",
        "cycles.shape"
      ],
      "execution_count": null,
      "outputs": [
        {
          "output_type": "execute_result",
          "data": {
            "text/plain": [
              "(1, 616)"
            ]
          },
          "metadata": {
            "tags": []
          },
          "execution_count": 67
        }
      ]
    },
    {
      "cell_type": "code",
      "metadata": {
        "id": "jvVGKocr2AW8"
      },
      "source": [
        "def capacity_vectorizer(discharge_indices, cycles=cycles):\n",
        "  \"\"\"\n",
        "  inputs\n",
        "  -------------------\n",
        "  discharge_indicies: list, with indices of discharging cycles\n",
        "\n",
        "  outputs\n",
        "  -------------------\n",
        "  None (modifies cycles)\n",
        "\n",
        "  Note: only run this function ONCE\n",
        "  \"\"\"\n",
        "  for discharge_index in discharge_indices:\n",
        "    N = (cycles[0,discharge_index][3][0,0][5]).shape[1] # gets number of entries\n",
        "    capacity_scalar = cycles[0,discharge_index][3][0,0][6]\n",
        "    cycles[0,discharge_index][3][0,0][6] = np.pad(capacity_scalar.flatten().tolist(), (0, N-1), 'constant')\n",
        "    vectorized_cycles = cycles\n",
        "  return vectorized_cycles\n"
      ],
      "execution_count": null,
      "outputs": []
    },
    {
      "cell_type": "code",
      "metadata": {
        "id": "3l-xQoez9-QS"
      },
      "source": [
        "def get_indices(cycles, is_charge=True):\n",
        "  index_list =[]\n",
        "  if is_charge:\n",
        "    label = 'charge'\n",
        "  else:\n",
        "    label = 'discharge'\n",
        "  for i in range(cycles.shape[1]):\n",
        "    if cycles[0,i][0] == np.array([label]):\n",
        "      index_list.append(i)\n",
        "\n",
        "  return index_list"
      ],
      "execution_count": null,
      "outputs": []
    },
    {
      "cell_type": "code",
      "metadata": {
        "id": "umvX9u7ZmorL"
      },
      "source": [
        "cycles[0,25]"
      ],
      "execution_count": null,
      "outputs": []
    },
    {
      "cell_type": "code",
      "metadata": {
        "colab": {
          "base_uri": "https://localhost:8080/"
        },
        "id": "3P7UC61AAFMV",
        "outputId": "f918225c-cb26-4da8-890e-6ed24859a27b"
      },
      "source": [
        "discharge_indices = get_indices(cycles, is_charge = False)\n",
        "print(discharge_indices)\n",
        "len(discharge_indices)"
      ],
      "execution_count": null,
      "outputs": [
        {
          "output_type": "stream",
          "text": [
            "[1, 3, 5, 7, 9, 11, 13, 15, 17, 19, 21, 24, 26, 28, 30, 32, 34, 36, 38, 41, 45, 49, 53, 57, 61, 65, 69, 73, 77, 81, 85, 89, 93, 97, 101, 105, 109, 113, 117, 121, 125, 129, 133, 135, 139, 143, 147, 149, 153, 157, 161, 165, 169, 173, 177, 181, 185, 189, 193, 197, 201, 205, 209, 213, 215, 219, 223, 227, 231, 235, 239, 243, 247, 251, 255, 259, 263, 265, 269, 273, 277, 281, 285, 289, 293, 297, 301, 305, 309, 312, 315, 319, 323, 327, 331, 335, 339, 343, 347, 351, 355, 359, 363, 366, 370, 374, 378, 382, 386, 390, 394, 398, 402, 406, 410, 414, 418, 422, 426, 430, 432, 436, 440, 444, 448, 452, 456, 460, 464, 468, 472, 476, 480, 482, 484, 488, 492, 496, 500, 504, 508, 512, 516, 520, 524, 528, 532, 536, 540, 544, 547, 551, 555, 559, 563, 567, 571, 575, 579, 583, 587, 591, 595, 599, 603, 607, 611, 613]\n"
          ],
          "name": "stdout"
        },
        {
          "output_type": "execute_result",
          "data": {
            "text/plain": [
              "168"
            ]
          },
          "metadata": {
            "tags": []
          },
          "execution_count": 78
        }
      ]
    },
    {
      "cell_type": "code",
      "metadata": {
        "colab": {
          "base_uri": "https://localhost:8080/"
        },
        "id": "UiQUbkoolOe7",
        "outputId": "5cfa6f5d-f959-4df6-f69a-806952100175"
      },
      "source": [
        "charge_indices = get_indices(cycles, is_charge=True)\n",
        "charge_indices.remove(22)\n",
        "charge_indices.remove(615)\n",
        "print(charge_indices)\n",
        "len(charge_indices)"
      ],
      "execution_count": null,
      "outputs": [
        {
          "output_type": "stream",
          "text": [
            "[0, 2, 4, 6, 8, 10, 12, 14, 16, 18, 20, 23, 25, 27, 29, 31, 33, 35, 37, 39, 43, 47, 51, 55, 59, 63, 67, 71, 75, 79, 83, 84, 87, 91, 95, 99, 103, 107, 111, 115, 119, 123, 127, 131, 134, 137, 141, 145, 148, 151, 155, 159, 163, 167, 171, 175, 179, 183, 187, 191, 195, 199, 203, 207, 211, 214, 217, 221, 225, 229, 233, 237, 241, 245, 249, 253, 257, 261, 264, 267, 271, 275, 279, 283, 287, 291, 295, 299, 303, 307, 314, 317, 321, 325, 329, 333, 337, 341, 345, 349, 353, 357, 361, 365, 368, 372, 376, 380, 384, 388, 392, 396, 400, 404, 408, 412, 416, 420, 424, 428, 431, 434, 438, 442, 446, 450, 454, 458, 462, 466, 470, 474, 478, 481, 483, 486, 490, 494, 498, 502, 506, 510, 514, 518, 522, 526, 530, 534, 538, 542, 546, 549, 553, 557, 561, 565, 569, 573, 577, 581, 585, 589, 593, 597, 601, 605, 609, 612]\n"
          ],
          "name": "stdout"
        },
        {
          "output_type": "execute_result",
          "data": {
            "text/plain": [
              "168"
            ]
          },
          "metadata": {
            "tags": []
          },
          "execution_count": 84
        }
      ]
    },
    {
      "cell_type": "code",
      "metadata": {
        "id": "J_Utkm7IRSxw"
      },
      "source": [
        "\"This is how you extract all the features from cycles\"\n",
        "np.vstack(cycles[0,0][3][0,0])[0]"
      ],
      "execution_count": null,
      "outputs": []
    },
    {
      "cell_type": "code",
      "metadata": {
        "id": "VoCEYoBF5HVf"
      },
      "source": [
        "new_cycles = capacity_vectorizer(discharge_indices)"
      ],
      "execution_count": null,
      "outputs": []
    },
    {
      "cell_type": "code",
      "metadata": {
        "colab": {
          "base_uri": "https://localhost:8080/"
        },
        "id": "ynC8egSG0edV",
        "outputId": "cfeec313-5ced-40c6-d011-54fa30dde3d8"
      },
      "source": [
        "new_cycles[0,1][3][0,0][6].shape"
      ],
      "execution_count": null,
      "outputs": [
        {
          "output_type": "execute_result",
          "data": {
            "text/plain": [
              "(197,)"
            ]
          },
          "metadata": {
            "tags": []
          },
          "execution_count": 14
        }
      ]
    },
    {
      "cell_type": "code",
      "metadata": {
        "id": "rRfbBxfsSNtQ"
      },
      "source": [
        "y = np.vstack(new_cycles[0,1][3][0,0])[4]\n",
        "x = np.vstack(new_cycles[0,1][3][0,0])[5]\n",
        "plt.ylabel('voltage load')\n",
        "plt.xlabel('time')\n",
        "plt.scatter(x, y)"
      ],
      "execution_count": null,
      "outputs": []
    },
    {
      "cell_type": "code",
      "metadata": {
        "id": "7rk_iKwQK9zO"
      },
      "source": [
        "np.vstack(new_cycles[0,1][3][0,0])[2]"
      ],
      "execution_count": null,
      "outputs": []
    },
    {
      "cell_type": "code",
      "metadata": {
        "id": "DPZ0EHx0z-4x"
      },
      "source": [
        "def cycle_plotter(cycle_index):\n",
        "  features = ['voltage_measured', 'currenet_measured', 'temperature', 'current_load/charge', 'voltage_load/charge']\n",
        "  for i, label in enumerate(features):\n",
        "    y = np.vstack(new_cycles[0,cycle_index][3][0,0])[i]\n",
        "    x = np.vstack(new_cycles[0,cycle_index][3][0,0])[5]\n",
        "    f=plt.figure()\n",
        "    plt.ylabel(label)\n",
        "    plt.xlabel('time')\n",
        "    plt.title(label)\n",
        "    plt.scatter(x, y)\n",
        "  plt.show()"
      ],
      "execution_count": null,
      "outputs": []
    },
    {
      "cell_type": "code",
      "metadata": {
        "colab": {
          "base_uri": "https://localhost:8080/"
        },
        "id": "SKMHu-3Q48bT",
        "outputId": "92f6403e-dd0f-4c96-e919-ba50a9d3307f"
      },
      "source": [
        "temp = new_cycles[0,1][3][0,0][2].flatten().tolist()\n",
        "len(temp)"
      ],
      "execution_count": null,
      "outputs": [
        {
          "output_type": "execute_result",
          "data": {
            "text/plain": [
              "197"
            ]
          },
          "metadata": {
            "tags": []
          },
          "execution_count": 94
        }
      ]
    },
    {
      "cell_type": "markdown",
      "metadata": {
        "id": "ITu6BXod0Axb"
      },
      "source": [
        "Discharging -  temperature related features\n",
        "1. Time taken for discharging temperature to reach max value (set threshold 1000s)\n",
        "2. Max temp during discharge\n",
        "\n"
      ]
    },
    {
      "cell_type": "code",
      "metadata": {
        "id": "wFpSgDpwNvBx"
      },
      "source": [
        "cycle_plotter(21)"
      ],
      "execution_count": null,
      "outputs": []
    },
    {
      "cell_type": "code",
      "metadata": {
        "id": "dLGS1OkSjn1w"
      },
      "source": [
        "# feature 1,2,6,7\n",
        "def time_list_maxtemp_list(indices, cycles, threshold = 1000):\n",
        "  '''\n",
        "  This function returns two lists - first is the time to reach the maximum \n",
        "  temperature for each cycle, second is the maximum temperature for each cycle.\n",
        "  This can be used for both charging and discharging cycles, just input the \n",
        "  correct list of indices. NB for charging cycles remove the extra two cycles\n",
        "  first\n",
        "  --------\n",
        "  indices: list, a list that can be generated using function get_indices \n",
        "          containing indices of discharging/ charging cycles\n",
        "  cycles: array, an array containing all the data of the battery. It has to be\n",
        "          preprocessed to be stackable and indexable.\n",
        "  threshold: int, set by default to 1000 to avoid taking in to account of \n",
        "             anomalous max temp data\n",
        "  outputs\n",
        "  --------\n",
        "  max_temp_time_list: list, a list that contains the corresponding time of the \n",
        "                      maximum temperature in every discharging/ charging cycle\n",
        "  max_temp_list: list, a list that contains the maximum temperature in every\n",
        "                 discharging/ charging cycle \n",
        "                \n",
        "  note: the lengths of the lists should be the same = the length of the input \n",
        "  list of indices.\n",
        "  '''\n",
        "  max_temp_time_list = []\n",
        "  max_temp_list = []\n",
        "  for index in indices:\n",
        "    times = new_cycles[0,index][3][0,0][5].flatten().tolist()\n",
        "    temps = new_cycles[0,index][3][0,0][2].flatten().tolist()\n",
        "    threshold_index =  next(i for i, time in enumerate(times) if time > threshold)\n",
        "    temps = temps[threshold_index:]\n",
        "    max_temp = max(temps)\n",
        "    max_temp_index = temps.index(max_temp)\n",
        "    max_temp_time_list.append(times[max_temp_index])\n",
        "    max_temp_list.append(max_temp)\n",
        "  return max_temp_time_list, max_temp_list\n"
      ],
      "execution_count": null,
      "outputs": []
    },
    {
      "cell_type": "code",
      "metadata": {
        "id": "h5x7bfHDOGiS"
      },
      "source": [
        "# feature 3\n",
        "def discharge_temperature_slopes(discharge_indices, cycles):\n",
        "    \"\"\"\n",
        "    Inputs\n",
        "    --------\n",
        "    indices: list, a list that can be generated using function get_indices \n",
        "          containing indices of discharging/ charging cycles\n",
        "    cycles: array, an array containing all the data of the battery. It has to be\n",
        "          preprocessed to be stackable and indexable.\n",
        "    threshold: int, set by default to 1000 to avoid taking in to account of \n",
        "             anomalous max temp data\n",
        "\n",
        "    \"\"\"\n",
        "    max_temp_times, max_temps = time_list_maxtemp_list(discharge_indices, cycles)\n",
        "    initial_temps = []\n",
        "    for discharge_index in discharge_indices:\n",
        "      initial_temp = new_cycles[0,discharge_index][3][0,0][2].flatten().tolist()[0]\n",
        "      initial_temps.append(initial_temp)\n",
        "    slopes = (np.array(max_temps)-np.array(initial_temps))/np.array(max_temp_times)\n",
        "    return slopes.tolist()"
      ],
      "execution_count": null,
      "outputs": []
    },
    {
      "cell_type": "code",
      "metadata": {
        "id": "6AqUghsSSLQB"
      },
      "source": [
        "def extract_feature_4(dataset=new_cycles, indices=discharge_indices, threshold=500, voltage_cutoff=3): #time for voltage_measured to drop below 3V during discharge\n",
        "  '''\n",
        "  Feature 4 is the time for voltage_measured to drop below 3V during discharge.\n",
        "  **Input**\n",
        "  data = full cycle data\n",
        "  indices = list of indices from which we would like to extract features\n",
        "  threshold = time from which to start checking (to avoid anomalous data at the start)\n",
        "\n",
        "  **Output**\n",
        "  feature_4_list = list of feature values for each cycle\n",
        "  '''\n",
        "  feature_4_list = []\n",
        "\n",
        "  for index in indices:\n",
        "    voltage_measured_list = (dataset[0,index][3][0,0][0]).flatten().tolist() #turn voltage_measured numpy array into list\n",
        "    time_list = (dataset[0,index][3][0,0][5]).flatten().tolist() #turn time vector into list\n",
        "    threshold_index = next(i for i, time in enumerate(time_list) if time > threshold) #getting index of threshold\n",
        "    voltage_measured_list = voltage_measured_list[threshold_index:] #shortening voltage_measured_list and time_list\n",
        "    time_list = time_list[threshold_index:]\n",
        "    index_3V = next(i for i, voltage in enumerate(voltage_measured_list) if voltage < voltage_cutoff) #getting index of when 3V is reached\n",
        "    feature_4_list.append(time_list[index_3V]) #getting the corresponding time\n",
        "\n",
        "  return feature_4_list\n"
      ],
      "execution_count": null,
      "outputs": []
    },
    {
      "cell_type": "code",
      "metadata": {
        "id": "O_wByksDSVKw"
      },
      "source": [
        "def extract_feature_5(dataset=new_cycles, indices=discharge_indices, N=20): #slope of first N datapoints of voltage_measured during discharge\n",
        "  '''\n",
        "  Feature 5 is the slope of voltage_measured using the first N data points.\n",
        "  **Input**\n",
        "  data = full cycle data\n",
        "  indices = list of indices from which we would like to extract features\n",
        "  N = cutoff point to measure slope\n",
        "\n",
        "  **Output**\n",
        "  feature_5_list = list of feature values for each cycle\n",
        "  '''\n",
        "  feature_5_list = []\n",
        "\n",
        "  for index in indices:\n",
        "    voltage_measured_list = (dataset[0,index][3][0,0][0]).flatten().tolist() #turn voltage_measured numpy array into list\n",
        "    time_list = (dataset[0,index][3][0,0][5]).flatten().tolist() #turn time vector into list\n",
        "    slope = (voltage_measured_list[N] - voltage_measured_list[0])/time_list[N]\n",
        "    feature_5_list.append(slope)\n",
        "  \n",
        "  return feature_5_list"
      ],
      "execution_count": null,
      "outputs": []
    },
    {
      "cell_type": "code",
      "metadata": {
        "id": "voxvwdj6KMGk"
      },
      "source": [
        ""
      ],
      "execution_count": null,
      "outputs": []
    }
  ]
}