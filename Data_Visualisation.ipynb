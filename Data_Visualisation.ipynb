{
 "cells": [
  {
   "cell_type": "markdown",
   "source": [
    "<a href=\"https://colab.research.google.com/github/natskiu/Nasa-Battery/blob/main/Data_Visualisation.ipynb\" target=\"_parent\"><img src=\"https://colab.research.google.com/assets/colab-badge.svg\" alt=\"Open In Colab\"/></a>"
   ],
   "metadata": {
    "colab_type": "text",
    "id": "view-in-github"
   }
  },
  {
   "cell_type": "markdown",
   "source": [
    "# Data and feature extraction\n",
    "\n",
    "In this notebook, we import and process the raw experimental data to extract the required features. We then store these into a Pandas dataframe which can be exported to a csv file for future use."
   ],
   "metadata": {
    "id": "kGgP-9km7Jug"
   }
  },
  {
   "cell_type": "markdown",
   "source": [
    "## Importing libraries and loading data"
   ],
   "metadata": {
    "id": "2Ry-zJLX7pqQ"
   }
  },
  {
   "cell_type": "code",
   "execution_count": 10,
   "source": [
    "import numpy as np\n",
    "import matplotlib.pyplot as plt\n",
    "#this is a comment\n",
    "import scipy.io as sio\n",
    "import pandas as pd\n",
    "import modules.utils as tools\n"
   ],
   "outputs": [],
   "metadata": {
    "id": "ia_XjIIjtbP-"
   }
  },
  {
   "cell_type": "code",
   "execution_count": 11,
   "source": [
    "import importlib\n",
    "tools = importlib.reload(tools)"
   ],
   "outputs": [],
   "metadata": {}
  },
  {
   "cell_type": "code",
   "execution_count": 65,
   "source": [
    "# raw=true is important so you download the file rather than the webpage.\n",
    "#!wget https://github.com/natskiu/Nasa-Battery/blob/main/Data/B0005.mat?raw=true\n",
    "# rename the file - we are importing the data for one battery, B0005.\n",
    "#!mv B0005.mat\\?raw\\=true B0005.mat\n",
    "# update scipy\n",
    "#!pip install -U -q scipy\n",
    "# Load the data\n",
    "from scipy import io\n",
    "import os\n",
    "datapath = 'Data/'\n",
    "v = io.loadmat(datapath + 'B0056.mat')"
   ],
   "outputs": [],
   "metadata": {
    "colab": {
     "base_uri": "https://localhost:8080/"
    },
    "id": "xByOR1S_3gvz",
    "outputId": "cfe43db3-ca3e-49e1-84da-53a7fd39e882"
   }
  },
  {
   "cell_type": "markdown",
   "source": [
    "## Preprocessing raw data\n",
    "\n",
    "### Raw data structure \n",
    "The raw battery data (defined as v) is a nested dictionary with keys = ['__header__', '__version__', '__globals__', 'B0005']"
   ],
   "metadata": {
    "id": "3FKYM23y9Awr"
   }
  },
  {
   "cell_type": "code",
   "execution_count": 66,
   "source": [
    "v.keys()"
   ],
   "outputs": [
    {
     "output_type": "execute_result",
     "data": {
      "text/plain": [
       "dict_keys(['__header__', '__version__', '__globals__', 'B0056'])"
      ]
     },
     "metadata": {},
     "execution_count": 66
    }
   ],
   "metadata": {
    "colab": {
     "base_uri": "https://localhost:8080/"
    },
    "id": "LWDdDPue9XDj",
    "outputId": "0917aafc-6863-4168-ff44-3d2aee54e355"
   }
  },
  {
   "cell_type": "code",
   "execution_count": 67,
   "source": [
    "# This extracts the data for all cycles in the form of a nested numpy array.\n",
    "raw_cycles = np.vstack(v['B0056'][0,0])\n",
    "type(raw_cycles)"
   ],
   "outputs": [
    {
     "output_type": "execute_result",
     "data": {
      "text/plain": [
       "numpy.ndarray"
      ]
     },
     "metadata": {},
     "execution_count": 67
    }
   ],
   "metadata": {
    "colab": {
     "base_uri": "https://localhost:8080/"
    },
    "id": "DmfoQrjBI1-O",
    "outputId": "bf725cc6-2198-42dc-9bba-21e7bb50443f"
   }
  },
  {
   "cell_type": "code",
   "execution_count": 68,
   "source": [
    "raw_cycles.shape"
   ],
   "outputs": [
    {
     "output_type": "execute_result",
     "data": {
      "text/plain": [
       "(1, 252)"
      ]
     },
     "metadata": {},
     "execution_count": 68
    }
   ],
   "metadata": {}
  },
  {
   "cell_type": "code",
   "execution_count": 69,
   "source": [
    "# the middle index indicates the charge/discharge number. \n",
    "# For example, cycles[0,0][3] gets the data for the first charge, cycles[0,1][3] gets the data for the first discharge, etc.\n",
    "raw_cycles[0,0][3].shape"
   ],
   "outputs": [
    {
     "output_type": "execute_result",
     "data": {
      "text/plain": [
       "(1, 1)"
      ]
     },
     "metadata": {},
     "execution_count": 69
    }
   ],
   "metadata": {
    "colab": {
     "base_uri": "https://localhost:8080/"
    },
    "id": "yU3O46stLbeZ",
    "outputId": "4c72ee1c-a981-47c1-b048-d8c6e1dd966a"
   }
  },
  {
   "cell_type": "code",
   "execution_count": 70,
   "source": [
    "discharge_indices = tools.get_indices(raw_cycles, is_charge = False)\n",
    "discharge_indices = discharge_indices\n",
    "#discharge_indices.remove(8)\n",
    "#discharge_indices.pop()\n",
    "print(discharge_indices)\n",
    "len(discharge_indices)"
   ],
   "outputs": [
    {
     "output_type": "stream",
     "name": "stdout",
     "text": [
      "[0, 4, 6, 8, 10, 12, 16, 18, 20, 22, 24, 28, 30, 32, 34, 36, 40, 42, 44, 46, 48, 52, 56, 58, 60, 62, 64, 68, 70, 72, 74, 76, 80, 82, 84, 86, 88, 92, 94, 96, 98, 100, 104, 108, 110, 112, 114, 116, 120, 122, 124, 126, 128, 132, 134, 136, 138, 140, 144, 146, 148, 150, 152, 156, 158, 160, 162, 164, 168, 172, 174, 176, 178, 180, 184, 186, 188, 190, 192, 196, 198, 200, 202, 204, 208, 210, 212, 214, 216, 220, 224, 226, 228, 230, 232, 236, 238, 240, 242, 244, 248, 250]\n"
     ]
    },
    {
     "output_type": "execute_result",
     "data": {
      "text/plain": [
       "102"
      ]
     },
     "metadata": {},
     "execution_count": 70
    }
   ],
   "metadata": {
    "colab": {
     "base_uri": "https://localhost:8080/"
    },
    "id": "3P7UC61AAFMV",
    "outputId": "5b4ba1b3-b287-4250-da40-a9187c16b3da"
   }
  },
  {
   "cell_type": "code",
   "execution_count": 71,
   "source": [
    "charge_indices = tools.get_indices(raw_cycles, is_charge=True)\n",
    "# manually look through the repeated charge cycle\n",
    "#charge_indices.remove(9)\n",
    "#charge_indices.remove(41)\n",
    "print(charge_indices)\n",
    "len(charge_indices)"
   ],
   "outputs": [
    {
     "output_type": "stream",
     "name": "stdout",
     "text": [
      "[2, 5, 7, 9, 11, 14, 17, 19, 21, 23, 26, 29, 31, 33, 35, 38, 41, 43, 45, 47, 50, 54, 57, 59, 61, 63, 66, 69, 71, 73, 75, 78, 81, 83, 85, 87, 90, 93, 95, 97, 99, 102, 106, 109, 111, 113, 115, 118, 121, 123, 125, 127, 130, 133, 135, 137, 139, 142, 145, 147, 149, 151, 154, 157, 159, 161, 163, 166, 170, 173, 175, 177, 179, 182, 185, 187, 189, 191, 194, 197, 199, 201, 203, 206, 209, 211, 213, 215, 218, 222, 225, 227, 229, 231, 234, 237, 239, 241, 243, 246, 249, 251]\n"
     ]
    },
    {
     "output_type": "execute_result",
     "data": {
      "text/plain": [
       "102"
      ]
     },
     "metadata": {},
     "execution_count": 71
    }
   ],
   "metadata": {
    "colab": {
     "base_uri": "https://localhost:8080/"
    },
    "id": "UiQUbkoolOe7",
    "outputId": "d7c20027-11a4-4fcf-b582-532802fe773c"
   }
  },
  {
   "cell_type": "code",
   "execution_count": 9,
   "source": [
    "\"This is how you extract all the features from cycles\"\n",
    "#np.vstack(cycles[0,0][3][0,0])[0]"
   ],
   "outputs": [
    {
     "output_type": "execute_result",
     "data": {
      "text/plain": [
       "'This is how you extract all the features from cycles'"
      ]
     },
     "metadata": {},
     "execution_count": 9
    }
   ],
   "metadata": {
    "colab": {
     "base_uri": "https://localhost:8080/",
     "height": 35
    },
    "id": "J_Utkm7IRSxw",
    "outputId": "0859293d-15bb-43ea-fe63-cfd9b4b2e1b5"
   }
  },
  {
   "cell_type": "code",
   "execution_count": 72,
   "source": [
    "new_cycles = tools.capacity_vectorizer(discharge_indices, raw_cycles)"
   ],
   "outputs": [],
   "metadata": {}
  },
  {
   "cell_type": "code",
   "execution_count": 73,
   "source": [
    "new_cycles.shape"
   ],
   "outputs": [
    {
     "output_type": "execute_result",
     "data": {
      "text/plain": [
       "(1, 252)"
      ]
     },
     "metadata": {},
     "execution_count": 73
    }
   ],
   "metadata": {}
  },
  {
   "cell_type": "code",
   "execution_count": 74,
   "source": [
    "\n",
    "new_cycles[0,0][3][0,0][6].shape"
   ],
   "outputs": [
    {
     "output_type": "execute_result",
     "data": {
      "text/plain": [
       "(280,)"
      ]
     },
     "metadata": {},
     "execution_count": 74
    }
   ],
   "metadata": {
    "colab": {
     "base_uri": "https://localhost:8080/"
    },
    "id": "ynC8egSG0edV",
    "outputId": "60762b8f-6810-4ac3-c763-be184a3f9834"
   }
  },
  {
   "cell_type": "code",
   "execution_count": 301,
   "source": [
    "for discharge_index in discharge_indices:\n",
    "    times = new_cycles[0,discharge_index][3][0,0][5].flatten().tolist()\n",
    "    print(times[-1], discharge_index)\n"
   ],
   "outputs": [
    {
     "output_type": "stream",
     "name": "stdout",
     "text": [
      "2349.64 0\n",
      "2560.688 4\n",
      "2522.375 6\n",
      "2488.719 8\n",
      "2474.844 10\n",
      "2473.875 12\n",
      "2495.5 16\n",
      "2481.078 18\n",
      "2460.125 20\n",
      "2440.547 22\n",
      "2449.922 24\n",
      "2408.781 28\n",
      "2442.547 30\n",
      "2420.671 32\n",
      "2409.906 34\n",
      "2416.672 36\n",
      "2395.75 40\n",
      "2410.688 42\n",
      "2402.125 44\n",
      "2355.265 46\n",
      "2396.719 48\n",
      "2442.344 52\n",
      "2444.703 56\n",
      "2412.25 58\n",
      "2403.234 60\n",
      "2361.047 62\n",
      "2392.468 64\n",
      "2373.89 68\n",
      "2383.234 70\n",
      "2342.453 72\n",
      "2359.296 74\n",
      "2345.453 76\n",
      "2360.172 80\n",
      "2315.407 82\n",
      "2322.156 84\n",
      "2327.1570000000065 86\n",
      "2335.0 88\n",
      "2329.375 92\n",
      "2333.875 94\n",
      "2317.453 96\n",
      "2295.109 98\n",
      "2326.657 100\n",
      "2479.297 104\n",
      "2463.578 108\n",
      "2458.812 110\n",
      "2400.672 112\n",
      "2396.407 114\n",
      "2392.375 116\n",
      "2373.687 120\n",
      "2385.922 122\n",
      "2345.0 124\n",
      "2363.047000000006 126\n",
      "2316.687 128\n",
      "2322.0 132\n",
      "2357.687 134\n"
     ]
    }
   ],
   "metadata": {}
  },
  {
   "cell_type": "code",
   "execution_count": 302,
   "source": [
    "for charge_index in charge_indices:\n",
    "    times = new_cycles[0,charge_index][3][0,0][5].flatten().tolist()\n",
    "    print(times[-1], charge_index)\n"
   ],
   "outputs": [
    {
     "output_type": "stream",
     "name": "stdout",
     "text": [
      "10802.156 2\n",
      "10806.281 5\n",
      "10801.937 7\n",
      "10805.094 9\n",
      "10803.594 11\n",
      "10803.532 14\n",
      "10802.266 17\n",
      "10802.11 19\n",
      "10805.265 21\n",
      "10805.157 23\n",
      "10805.312 26\n",
      "10806.578 29\n",
      "10803.172 31\n",
      "10803.625 33\n",
      "10802.39 35\n",
      "10802.406 38\n",
      "10802.516 41\n",
      "10804.938 43\n",
      "10806.828 45\n",
      "10804.5 47\n",
      "10802.858999999997 50\n",
      "10804.594 54\n",
      "10806.172000000006 57\n",
      "10803.406 59\n",
      "10803.828 61\n",
      "10803.063 63\n",
      "10803.437 66\n",
      "10806.938 69\n",
      "10804.875 71\n",
      "10806.891 73\n",
      "10802.0 75\n",
      "10803.469 78\n",
      "10806.938 81\n",
      "10805.312 83\n",
      "10804.609 85\n",
      "10803.234 87\n",
      "10805.313 90\n",
      "10806.375 93\n",
      "10803.187 95\n",
      "10806.031 97\n",
      "10807.141 99\n",
      "10803.141 102\n",
      "10806.86 106\n",
      "10807.406 109\n",
      "10803.157000000007 111\n",
      "10802.203 113\n",
      "10803.094 115\n",
      "10804.547 118\n",
      "10805.813 121\n",
      "10808.032 123\n",
      "10803.219 125\n",
      "10803.406 127\n",
      "10802.032 130\n",
      "10804.016 133\n",
      "10803.422 135\n"
     ]
    }
   ],
   "metadata": {}
  },
  {
   "cell_type": "code",
   "execution_count": null,
   "source": [
    "tools.cycle_plotter(new_cycles, discharge_indices)"
   ],
   "outputs": [],
   "metadata": {}
  },
  {
   "cell_type": "markdown",
   "source": [
    "## Functions to extract features from original dataset\n",
    "\n",
    "### Features\n",
    "#### Discharging cycle\n",
    "\n",
    "1. Time taken for discharging temperature to reach max value (set threshold ~ 1000s)\n",
    "2. Max. temperature during discharge\n",
    "3. Slope for temperature during discharge \n",
    "(max_temp - initial_temp)/(time_at_max_temp)\n",
    "4. Time for voltage_measured to drop below 3 Volts\n",
    "5. Slope for first 20 data points of voltage_measured\n",
    "\n",
    "#### Charging cycle\n",
    "\n",
    "6. Time  taken for charging temperature to reach max value (set threshold ~ 1000s)\n",
    "7. Max. temperature during charge\n",
    "\n",
    "### Label\n",
    "* Capacity recorded for each discharging cycle\n"
   ],
   "metadata": {
    "id": "ITu6BXod0Axb"
   }
  },
  {
   "cell_type": "markdown",
   "source": [
    "## Data Exploration"
   ],
   "metadata": {
    "id": "cfwlCc9J8eVr"
   }
  },
  {
   "cell_type": "code",
   "execution_count": 372,
   "source": [
    "import importlib\n",
    "tools = importlib.reload(tools)"
   ],
   "outputs": [],
   "metadata": {}
  },
  {
   "cell_type": "code",
   "execution_count": 75,
   "source": [
    "feature_1_list, feature_2_list = tools.extract_feature_1_2_6_7(discharge_indices, new_cycles, l_threshold=10, r_threshold=1200, peak_width=3)\n",
    "feature_6_list, feature_7_list = tools.extract_feature_1_2_6_7(charge_indices, new_cycles, l_threshold=100, r_threshold=1500)\n",
    "feature_3_list = tools.extract_feature_3(discharge_indices, new_cycles, l_threshold=10, r_threshold=1200, peak_width=3)\n",
    "feature_4_list = tools.extract_feature_4(new_cycles, discharge_indices)\n",
    "feature_5_list = tools.extract_feature_5(new_cycles, discharge_indices)\n",
    "label_list = tools.extract_label(new_cycles, discharge_indices)\n",
    "remaining_cycles_list = tools.remaining_cycles(new_cycles, discharge_indices, threshold=0.7)"
   ],
   "outputs": [],
   "metadata": {
    "id": "voxvwdj6KMGk"
   }
  },
  {
   "cell_type": "code",
   "execution_count": 76,
   "source": [
    "features_dict = {'time_for_max_temp_D':feature_1_list,'max_temp_D':feature_2_list,\n",
    "                 'slope_temp_D': feature_3_list, 'time_voltage_measured_below3_D':feature_4_list,\n",
    "                 'slope_voltage_measured_D':feature_5_list, 'time_for_max_temp_C':feature_6_list,\n",
    "                 'max_temp_C':feature_7_list, 'capacity': label_list, 'remaining_cycles': remaining_cycles_list}"
   ],
   "outputs": [],
   "metadata": {
    "id": "h-9MeaOEVCEK"
   }
  },
  {
   "cell_type": "code",
   "execution_count": 77,
   "source": [
    "df = pd.DataFrame(data = features_dict)\n",
    "df"
   ],
   "outputs": [
    {
     "output_type": "execute_result",
     "data": {
      "text/plain": [
       "     time_for_max_temp_D  max_temp_D  slope_temp_D  \\\n",
       "0                262.891    9.910653      0.013760   \n",
       "1                942.516   11.741920      0.007010   \n",
       "2                266.344    8.584972      0.008543   \n",
       "3                925.515   11.411268      0.006699   \n",
       "4                374.719    9.150559      0.007930   \n",
       "..                   ...         ...           ...   \n",
       "97               328.187    8.905384      0.007373   \n",
       "98                   NaN         NaN           NaN   \n",
       "99               470.609    9.601768      0.006927   \n",
       "100              435.406    9.474135      0.007005   \n",
       "101             1103.328   11.038290      0.005173   \n",
       "\n",
       "     time_voltage_measured_below3_D  slope_voltage_measured_D  \\\n",
       "0                           993.094                 -0.000051   \n",
       "1                          2101.594                 -0.000352   \n",
       "2                          2039.578                 -0.000659   \n",
       "3                          2080.594                 -0.000536   \n",
       "4                          1996.141                 -0.000583   \n",
       "..                              ...                       ...   \n",
       "97                         1828.187                 -0.000570   \n",
       "98                         1730.437                 -0.000521   \n",
       "99                         1799.062                 -0.000531   \n",
       "100                        1812.281                 -0.000524   \n",
       "101                        1746.234                 -0.000521   \n",
       "\n",
       "     time_for_max_temp_C  max_temp_C  capacity  remaining_cycles  \n",
       "0                115.219    6.403115  0.785278               101  \n",
       "1                116.890    8.446219  1.344356               100  \n",
       "2                116.813    5.977690  1.317503                99  \n",
       "3                103.610    8.528743  1.297365                98  \n",
       "4                105.094    7.049554  1.263960                97  \n",
       "..                   ...         ...       ...               ...  \n",
       "97               107.250    8.743739  1.130219                 4  \n",
       "98               107.968    9.308852  1.125872                 3  \n",
       "99               684.313    7.952919  1.143011                 2  \n",
       "100              110.094    8.857151  1.137273                 1  \n",
       "101              109.625    9.447414  1.129059                 0  \n",
       "\n",
       "[102 rows x 9 columns]"
      ],
      "text/html": [
       "<div>\n",
       "<style scoped>\n",
       "    .dataframe tbody tr th:only-of-type {\n",
       "        vertical-align: middle;\n",
       "    }\n",
       "\n",
       "    .dataframe tbody tr th {\n",
       "        vertical-align: top;\n",
       "    }\n",
       "\n",
       "    .dataframe thead th {\n",
       "        text-align: right;\n",
       "    }\n",
       "</style>\n",
       "<table border=\"1\" class=\"dataframe\">\n",
       "  <thead>\n",
       "    <tr style=\"text-align: right;\">\n",
       "      <th></th>\n",
       "      <th>time_for_max_temp_D</th>\n",
       "      <th>max_temp_D</th>\n",
       "      <th>slope_temp_D</th>\n",
       "      <th>time_voltage_measured_below3_D</th>\n",
       "      <th>slope_voltage_measured_D</th>\n",
       "      <th>time_for_max_temp_C</th>\n",
       "      <th>max_temp_C</th>\n",
       "      <th>capacity</th>\n",
       "      <th>remaining_cycles</th>\n",
       "    </tr>\n",
       "  </thead>\n",
       "  <tbody>\n",
       "    <tr>\n",
       "      <th>0</th>\n",
       "      <td>262.891</td>\n",
       "      <td>9.910653</td>\n",
       "      <td>0.013760</td>\n",
       "      <td>993.094</td>\n",
       "      <td>-0.000051</td>\n",
       "      <td>115.219</td>\n",
       "      <td>6.403115</td>\n",
       "      <td>0.785278</td>\n",
       "      <td>101</td>\n",
       "    </tr>\n",
       "    <tr>\n",
       "      <th>1</th>\n",
       "      <td>942.516</td>\n",
       "      <td>11.741920</td>\n",
       "      <td>0.007010</td>\n",
       "      <td>2101.594</td>\n",
       "      <td>-0.000352</td>\n",
       "      <td>116.890</td>\n",
       "      <td>8.446219</td>\n",
       "      <td>1.344356</td>\n",
       "      <td>100</td>\n",
       "    </tr>\n",
       "    <tr>\n",
       "      <th>2</th>\n",
       "      <td>266.344</td>\n",
       "      <td>8.584972</td>\n",
       "      <td>0.008543</td>\n",
       "      <td>2039.578</td>\n",
       "      <td>-0.000659</td>\n",
       "      <td>116.813</td>\n",
       "      <td>5.977690</td>\n",
       "      <td>1.317503</td>\n",
       "      <td>99</td>\n",
       "    </tr>\n",
       "    <tr>\n",
       "      <th>3</th>\n",
       "      <td>925.515</td>\n",
       "      <td>11.411268</td>\n",
       "      <td>0.006699</td>\n",
       "      <td>2080.594</td>\n",
       "      <td>-0.000536</td>\n",
       "      <td>103.610</td>\n",
       "      <td>8.528743</td>\n",
       "      <td>1.297365</td>\n",
       "      <td>98</td>\n",
       "    </tr>\n",
       "    <tr>\n",
       "      <th>4</th>\n",
       "      <td>374.719</td>\n",
       "      <td>9.150559</td>\n",
       "      <td>0.007930</td>\n",
       "      <td>1996.141</td>\n",
       "      <td>-0.000583</td>\n",
       "      <td>105.094</td>\n",
       "      <td>7.049554</td>\n",
       "      <td>1.263960</td>\n",
       "      <td>97</td>\n",
       "    </tr>\n",
       "    <tr>\n",
       "      <th>...</th>\n",
       "      <td>...</td>\n",
       "      <td>...</td>\n",
       "      <td>...</td>\n",
       "      <td>...</td>\n",
       "      <td>...</td>\n",
       "      <td>...</td>\n",
       "      <td>...</td>\n",
       "      <td>...</td>\n",
       "      <td>...</td>\n",
       "    </tr>\n",
       "    <tr>\n",
       "      <th>97</th>\n",
       "      <td>328.187</td>\n",
       "      <td>8.905384</td>\n",
       "      <td>0.007373</td>\n",
       "      <td>1828.187</td>\n",
       "      <td>-0.000570</td>\n",
       "      <td>107.250</td>\n",
       "      <td>8.743739</td>\n",
       "      <td>1.130219</td>\n",
       "      <td>4</td>\n",
       "    </tr>\n",
       "    <tr>\n",
       "      <th>98</th>\n",
       "      <td>NaN</td>\n",
       "      <td>NaN</td>\n",
       "      <td>NaN</td>\n",
       "      <td>1730.437</td>\n",
       "      <td>-0.000521</td>\n",
       "      <td>107.968</td>\n",
       "      <td>9.308852</td>\n",
       "      <td>1.125872</td>\n",
       "      <td>3</td>\n",
       "    </tr>\n",
       "    <tr>\n",
       "      <th>99</th>\n",
       "      <td>470.609</td>\n",
       "      <td>9.601768</td>\n",
       "      <td>0.006927</td>\n",
       "      <td>1799.062</td>\n",
       "      <td>-0.000531</td>\n",
       "      <td>684.313</td>\n",
       "      <td>7.952919</td>\n",
       "      <td>1.143011</td>\n",
       "      <td>2</td>\n",
       "    </tr>\n",
       "    <tr>\n",
       "      <th>100</th>\n",
       "      <td>435.406</td>\n",
       "      <td>9.474135</td>\n",
       "      <td>0.007005</td>\n",
       "      <td>1812.281</td>\n",
       "      <td>-0.000524</td>\n",
       "      <td>110.094</td>\n",
       "      <td>8.857151</td>\n",
       "      <td>1.137273</td>\n",
       "      <td>1</td>\n",
       "    </tr>\n",
       "    <tr>\n",
       "      <th>101</th>\n",
       "      <td>1103.328</td>\n",
       "      <td>11.038290</td>\n",
       "      <td>0.005173</td>\n",
       "      <td>1746.234</td>\n",
       "      <td>-0.000521</td>\n",
       "      <td>109.625</td>\n",
       "      <td>9.447414</td>\n",
       "      <td>1.129059</td>\n",
       "      <td>0</td>\n",
       "    </tr>\n",
       "  </tbody>\n",
       "</table>\n",
       "<p>102 rows × 9 columns</p>\n",
       "</div>"
      ]
     },
     "metadata": {},
     "execution_count": 77
    }
   ],
   "metadata": {
    "colab": {
     "base_uri": "https://localhost:8080/",
     "height": 441
    },
    "id": "biVUPk1ZWkhi",
    "outputId": "53b11153-e7a1-4280-bb59-d593c9a04917"
   }
  },
  {
   "cell_type": "code",
   "execution_count": 64,
   "source": [
    "filepath = 'processed_csv/'\n",
    "name = 'B0056_processed.csv'\n",
    "df.to_csv(filepath+name)"
   ],
   "outputs": [],
   "metadata": {}
  },
  {
   "cell_type": "code",
   "execution_count": 78,
   "source": [
    "df.describe()"
   ],
   "outputs": [
    {
     "output_type": "execute_result",
     "data": {
      "text/plain": [
       "       time_for_max_temp_D  max_temp_D  slope_temp_D  \\\n",
       "count            84.000000   84.000000     84.000000   \n",
       "mean            647.605786    9.873511      0.006109   \n",
       "std             307.627618    1.288280      0.002417   \n",
       "min              44.859000    4.564048     -0.010421   \n",
       "25%             372.816500    9.209036      0.005635   \n",
       "50%             686.164000   10.201501      0.006221   \n",
       "75%             899.640750   10.749767      0.007012   \n",
       "max            1175.125000   11.741920      0.013760   \n",
       "\n",
       "       time_voltage_measured_below3_D  slope_voltage_measured_D  \\\n",
       "count                      102.000000                102.000000   \n",
       "mean                      1868.598775                 -0.000517   \n",
       "std                        128.777064                  0.000067   \n",
       "min                        993.094000                 -0.000659   \n",
       "25%                       1800.191000                 -0.000541   \n",
       "50%                       1869.734500                 -0.000513   \n",
       "75%                       1938.511750                 -0.000497   \n",
       "max                       2111.828000                 -0.000051   \n",
       "\n",
       "       time_for_max_temp_C  max_temp_C    capacity  remaining_cycles  \n",
       "count            99.000000   99.000000  102.000000        102.000000  \n",
       "mean            210.478737    8.161598    1.177000         50.500000  \n",
       "std             197.950083    0.765902    0.066266         29.588849  \n",
       "min             103.610000    5.977690    0.785278          0.000000  \n",
       "25%             107.515500    7.697284    1.137595         25.250000  \n",
       "50%             115.563000    8.350593    1.174039         50.500000  \n",
       "75%             158.554500    8.655604    1.213981         75.750000  \n",
       "max             970.828000    9.447414    1.344356        101.000000  "
      ],
      "text/html": [
       "<div>\n",
       "<style scoped>\n",
       "    .dataframe tbody tr th:only-of-type {\n",
       "        vertical-align: middle;\n",
       "    }\n",
       "\n",
       "    .dataframe tbody tr th {\n",
       "        vertical-align: top;\n",
       "    }\n",
       "\n",
       "    .dataframe thead th {\n",
       "        text-align: right;\n",
       "    }\n",
       "</style>\n",
       "<table border=\"1\" class=\"dataframe\">\n",
       "  <thead>\n",
       "    <tr style=\"text-align: right;\">\n",
       "      <th></th>\n",
       "      <th>time_for_max_temp_D</th>\n",
       "      <th>max_temp_D</th>\n",
       "      <th>slope_temp_D</th>\n",
       "      <th>time_voltage_measured_below3_D</th>\n",
       "      <th>slope_voltage_measured_D</th>\n",
       "      <th>time_for_max_temp_C</th>\n",
       "      <th>max_temp_C</th>\n",
       "      <th>capacity</th>\n",
       "      <th>remaining_cycles</th>\n",
       "    </tr>\n",
       "  </thead>\n",
       "  <tbody>\n",
       "    <tr>\n",
       "      <th>count</th>\n",
       "      <td>84.000000</td>\n",
       "      <td>84.000000</td>\n",
       "      <td>84.000000</td>\n",
       "      <td>102.000000</td>\n",
       "      <td>102.000000</td>\n",
       "      <td>99.000000</td>\n",
       "      <td>99.000000</td>\n",
       "      <td>102.000000</td>\n",
       "      <td>102.000000</td>\n",
       "    </tr>\n",
       "    <tr>\n",
       "      <th>mean</th>\n",
       "      <td>647.605786</td>\n",
       "      <td>9.873511</td>\n",
       "      <td>0.006109</td>\n",
       "      <td>1868.598775</td>\n",
       "      <td>-0.000517</td>\n",
       "      <td>210.478737</td>\n",
       "      <td>8.161598</td>\n",
       "      <td>1.177000</td>\n",
       "      <td>50.500000</td>\n",
       "    </tr>\n",
       "    <tr>\n",
       "      <th>std</th>\n",
       "      <td>307.627618</td>\n",
       "      <td>1.288280</td>\n",
       "      <td>0.002417</td>\n",
       "      <td>128.777064</td>\n",
       "      <td>0.000067</td>\n",
       "      <td>197.950083</td>\n",
       "      <td>0.765902</td>\n",
       "      <td>0.066266</td>\n",
       "      <td>29.588849</td>\n",
       "    </tr>\n",
       "    <tr>\n",
       "      <th>min</th>\n",
       "      <td>44.859000</td>\n",
       "      <td>4.564048</td>\n",
       "      <td>-0.010421</td>\n",
       "      <td>993.094000</td>\n",
       "      <td>-0.000659</td>\n",
       "      <td>103.610000</td>\n",
       "      <td>5.977690</td>\n",
       "      <td>0.785278</td>\n",
       "      <td>0.000000</td>\n",
       "    </tr>\n",
       "    <tr>\n",
       "      <th>25%</th>\n",
       "      <td>372.816500</td>\n",
       "      <td>9.209036</td>\n",
       "      <td>0.005635</td>\n",
       "      <td>1800.191000</td>\n",
       "      <td>-0.000541</td>\n",
       "      <td>107.515500</td>\n",
       "      <td>7.697284</td>\n",
       "      <td>1.137595</td>\n",
       "      <td>25.250000</td>\n",
       "    </tr>\n",
       "    <tr>\n",
       "      <th>50%</th>\n",
       "      <td>686.164000</td>\n",
       "      <td>10.201501</td>\n",
       "      <td>0.006221</td>\n",
       "      <td>1869.734500</td>\n",
       "      <td>-0.000513</td>\n",
       "      <td>115.563000</td>\n",
       "      <td>8.350593</td>\n",
       "      <td>1.174039</td>\n",
       "      <td>50.500000</td>\n",
       "    </tr>\n",
       "    <tr>\n",
       "      <th>75%</th>\n",
       "      <td>899.640750</td>\n",
       "      <td>10.749767</td>\n",
       "      <td>0.007012</td>\n",
       "      <td>1938.511750</td>\n",
       "      <td>-0.000497</td>\n",
       "      <td>158.554500</td>\n",
       "      <td>8.655604</td>\n",
       "      <td>1.213981</td>\n",
       "      <td>75.750000</td>\n",
       "    </tr>\n",
       "    <tr>\n",
       "      <th>max</th>\n",
       "      <td>1175.125000</td>\n",
       "      <td>11.741920</td>\n",
       "      <td>0.013760</td>\n",
       "      <td>2111.828000</td>\n",
       "      <td>-0.000051</td>\n",
       "      <td>970.828000</td>\n",
       "      <td>9.447414</td>\n",
       "      <td>1.344356</td>\n",
       "      <td>101.000000</td>\n",
       "    </tr>\n",
       "  </tbody>\n",
       "</table>\n",
       "</div>"
      ]
     },
     "metadata": {},
     "execution_count": 78
    }
   ],
   "metadata": {
    "colab": {
     "base_uri": "https://localhost:8080/",
     "height": 319
    },
    "id": "K7x8qw0F-Ah9",
    "outputId": "8be91906-909a-4144-bce1-3241901cda69"
   }
  },
  {
   "cell_type": "code",
   "execution_count": 79,
   "source": [
    "corr_matrix = df.corr()\n",
    "corr_matrix"
   ],
   "outputs": [
    {
     "output_type": "execute_result",
     "data": {
      "text/plain": [
       "                                time_for_max_temp_D  max_temp_D  slope_temp_D  \\\n",
       "time_for_max_temp_D                        1.000000    0.909685      0.041615   \n",
       "max_temp_D                                 0.909685    1.000000      0.395650   \n",
       "slope_temp_D                               0.041615    0.395650      1.000000   \n",
       "time_voltage_measured_below3_D             0.210207    0.215604     -0.053666   \n",
       "slope_voltage_measured_D                   0.362673    0.494671      0.314340   \n",
       "time_for_max_temp_C                        0.102250   -0.044665     -0.276371   \n",
       "max_temp_C                                -0.068934   -0.049024     -0.085148   \n",
       "capacity                                   0.352937    0.339640     -0.049817   \n",
       "remaining_cycles                           0.029521    0.154444      0.262621   \n",
       "\n",
       "                                time_voltage_measured_below3_D  \\\n",
       "time_for_max_temp_D                                   0.210207   \n",
       "max_temp_D                                            0.215604   \n",
       "slope_temp_D                                         -0.053666   \n",
       "time_voltage_measured_below3_D                        1.000000   \n",
       "slope_voltage_measured_D                             -0.281438   \n",
       "time_for_max_temp_C                                  -0.035454   \n",
       "max_temp_C                                            0.046299   \n",
       "capacity                                              0.942903   \n",
       "remaining_cycles                                      0.455631   \n",
       "\n",
       "                                slope_voltage_measured_D  time_for_max_temp_C  \\\n",
       "time_for_max_temp_D                             0.362673             0.102250   \n",
       "max_temp_D                                      0.494671            -0.044665   \n",
       "slope_temp_D                                    0.314340            -0.276371   \n",
       "time_voltage_measured_below3_D                 -0.281438            -0.035454   \n",
       "slope_voltage_measured_D                        1.000000             0.045662   \n",
       "time_for_max_temp_C                             0.045662             1.000000   \n",
       "max_temp_C                                     -0.160543            -0.385116   \n",
       "capacity                                       -0.133795             0.043565   \n",
       "remaining_cycles                                0.234254            -0.073940   \n",
       "\n",
       "                                max_temp_C  capacity  remaining_cycles  \n",
       "time_for_max_temp_D              -0.068934  0.352937          0.029521  \n",
       "max_temp_D                       -0.049024  0.339640          0.154444  \n",
       "slope_temp_D                     -0.085148 -0.049817          0.262621  \n",
       "time_voltage_measured_below3_D    0.046299  0.942903          0.455631  \n",
       "slope_voltage_measured_D         -0.160543 -0.133795          0.234254  \n",
       "time_for_max_temp_C              -0.385116  0.043565         -0.073940  \n",
       "max_temp_C                        1.000000 -0.005761         -0.298344  \n",
       "capacity                         -0.005761  1.000000          0.445989  \n",
       "remaining_cycles                 -0.298344  0.445989          1.000000  "
      ],
      "text/html": [
       "<div>\n",
       "<style scoped>\n",
       "    .dataframe tbody tr th:only-of-type {\n",
       "        vertical-align: middle;\n",
       "    }\n",
       "\n",
       "    .dataframe tbody tr th {\n",
       "        vertical-align: top;\n",
       "    }\n",
       "\n",
       "    .dataframe thead th {\n",
       "        text-align: right;\n",
       "    }\n",
       "</style>\n",
       "<table border=\"1\" class=\"dataframe\">\n",
       "  <thead>\n",
       "    <tr style=\"text-align: right;\">\n",
       "      <th></th>\n",
       "      <th>time_for_max_temp_D</th>\n",
       "      <th>max_temp_D</th>\n",
       "      <th>slope_temp_D</th>\n",
       "      <th>time_voltage_measured_below3_D</th>\n",
       "      <th>slope_voltage_measured_D</th>\n",
       "      <th>time_for_max_temp_C</th>\n",
       "      <th>max_temp_C</th>\n",
       "      <th>capacity</th>\n",
       "      <th>remaining_cycles</th>\n",
       "    </tr>\n",
       "  </thead>\n",
       "  <tbody>\n",
       "    <tr>\n",
       "      <th>time_for_max_temp_D</th>\n",
       "      <td>1.000000</td>\n",
       "      <td>0.909685</td>\n",
       "      <td>0.041615</td>\n",
       "      <td>0.210207</td>\n",
       "      <td>0.362673</td>\n",
       "      <td>0.102250</td>\n",
       "      <td>-0.068934</td>\n",
       "      <td>0.352937</td>\n",
       "      <td>0.029521</td>\n",
       "    </tr>\n",
       "    <tr>\n",
       "      <th>max_temp_D</th>\n",
       "      <td>0.909685</td>\n",
       "      <td>1.000000</td>\n",
       "      <td>0.395650</td>\n",
       "      <td>0.215604</td>\n",
       "      <td>0.494671</td>\n",
       "      <td>-0.044665</td>\n",
       "      <td>-0.049024</td>\n",
       "      <td>0.339640</td>\n",
       "      <td>0.154444</td>\n",
       "    </tr>\n",
       "    <tr>\n",
       "      <th>slope_temp_D</th>\n",
       "      <td>0.041615</td>\n",
       "      <td>0.395650</td>\n",
       "      <td>1.000000</td>\n",
       "      <td>-0.053666</td>\n",
       "      <td>0.314340</td>\n",
       "      <td>-0.276371</td>\n",
       "      <td>-0.085148</td>\n",
       "      <td>-0.049817</td>\n",
       "      <td>0.262621</td>\n",
       "    </tr>\n",
       "    <tr>\n",
       "      <th>time_voltage_measured_below3_D</th>\n",
       "      <td>0.210207</td>\n",
       "      <td>0.215604</td>\n",
       "      <td>-0.053666</td>\n",
       "      <td>1.000000</td>\n",
       "      <td>-0.281438</td>\n",
       "      <td>-0.035454</td>\n",
       "      <td>0.046299</td>\n",
       "      <td>0.942903</td>\n",
       "      <td>0.455631</td>\n",
       "    </tr>\n",
       "    <tr>\n",
       "      <th>slope_voltage_measured_D</th>\n",
       "      <td>0.362673</td>\n",
       "      <td>0.494671</td>\n",
       "      <td>0.314340</td>\n",
       "      <td>-0.281438</td>\n",
       "      <td>1.000000</td>\n",
       "      <td>0.045662</td>\n",
       "      <td>-0.160543</td>\n",
       "      <td>-0.133795</td>\n",
       "      <td>0.234254</td>\n",
       "    </tr>\n",
       "    <tr>\n",
       "      <th>time_for_max_temp_C</th>\n",
       "      <td>0.102250</td>\n",
       "      <td>-0.044665</td>\n",
       "      <td>-0.276371</td>\n",
       "      <td>-0.035454</td>\n",
       "      <td>0.045662</td>\n",
       "      <td>1.000000</td>\n",
       "      <td>-0.385116</td>\n",
       "      <td>0.043565</td>\n",
       "      <td>-0.073940</td>\n",
       "    </tr>\n",
       "    <tr>\n",
       "      <th>max_temp_C</th>\n",
       "      <td>-0.068934</td>\n",
       "      <td>-0.049024</td>\n",
       "      <td>-0.085148</td>\n",
       "      <td>0.046299</td>\n",
       "      <td>-0.160543</td>\n",
       "      <td>-0.385116</td>\n",
       "      <td>1.000000</td>\n",
       "      <td>-0.005761</td>\n",
       "      <td>-0.298344</td>\n",
       "    </tr>\n",
       "    <tr>\n",
       "      <th>capacity</th>\n",
       "      <td>0.352937</td>\n",
       "      <td>0.339640</td>\n",
       "      <td>-0.049817</td>\n",
       "      <td>0.942903</td>\n",
       "      <td>-0.133795</td>\n",
       "      <td>0.043565</td>\n",
       "      <td>-0.005761</td>\n",
       "      <td>1.000000</td>\n",
       "      <td>0.445989</td>\n",
       "    </tr>\n",
       "    <tr>\n",
       "      <th>remaining_cycles</th>\n",
       "      <td>0.029521</td>\n",
       "      <td>0.154444</td>\n",
       "      <td>0.262621</td>\n",
       "      <td>0.455631</td>\n",
       "      <td>0.234254</td>\n",
       "      <td>-0.073940</td>\n",
       "      <td>-0.298344</td>\n",
       "      <td>0.445989</td>\n",
       "      <td>1.000000</td>\n",
       "    </tr>\n",
       "  </tbody>\n",
       "</table>\n",
       "</div>"
      ]
     },
     "metadata": {},
     "execution_count": 79
    }
   ],
   "metadata": {
    "colab": {
     "base_uri": "https://localhost:8080/",
     "height": 300
    },
    "id": "iPwVlZkKbrQY",
    "outputId": "0b117df5-4a8f-4f9c-9a4a-a909e3ad9979"
   }
  },
  {
   "cell_type": "code",
   "execution_count": 80,
   "source": [
    "from pandas.plotting import scatter_matrix\n",
    "\n",
    "attributes = df.columns\n",
    "scatter_matrix(df[attributes], figsize=(12,8))\n",
    "plt.show()"
   ],
   "outputs": [
    {
     "output_type": "display_data",
     "data": {
      "text/plain": [
       "<Figure size 864x576 with 81 Axes>"
      ],
      "image/png": "[encoded data removed]"
     },
     "metadata": {
      "needs_background": "light"
     }
    }
   ],
   "metadata": {
    "colab": {
     "base_uri": "https://localhost:8080/",
     "height": 1000
    },
    "id": "xcNxuHNU8l84",
    "outputId": "9b9af1d5-9595-4ac9-b233-598bcc7654d6"
   }
  },
  {
   "cell_type": "code",
   "execution_count": null,
   "source": [
    "tools.cycle_plotter(new_cycles, discharge_indices)"
   ],
   "outputs": [],
   "metadata": {}
  },
  {
   "cell_type": "code",
   "execution_count": null,
   "source": [],
   "outputs": [],
   "metadata": {}
  }
 ],
 "metadata": {
  "colab": {
   "collapsed_sections": [],
   "include_colab_link": true,
   "name": "Data_Visualisation.ipynb",
   "provenance": [],
   "toc_visible": true
  },
  "interpreter": {
   "hash": "97926ce3678dbc6879c995df57bc8fa6031122dcbb317b9de82cd194815f7dd2"
  },
  "kernelspec": {
   "name": "python3",
   "display_name": "Python 3.9.5 64-bit ('base': conda)"
  },
  "language_info": {
   "codemirror_mode": {
    "name": "ipython",
    "version": 3
   },
   "file_extension": ".py",
   "mimetype": "text/x-python",
   "name": "python",
   "nbconvert_exporter": "python",
   "pygments_lexer": "ipython3",
   "version": "3.9.5"
  }
 },
 "nbformat": 4,
 "nbformat_minor": 2
}