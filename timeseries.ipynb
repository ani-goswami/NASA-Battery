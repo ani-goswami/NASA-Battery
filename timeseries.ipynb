{
 "cells": [
  {
   "cell_type": "code",
   "execution_count": 1,
   "source": [
    "import tensorflow as tf \n",
    "from tensorflow import keras\n",
    "import pandas as pd \n",
    "import numpy as np \n",
    "import matplotlib.pyplot as plt \n",
    "import modules.utils as tools\n",
    "from sklearn.preprocessing import MinMaxScaler"
   ],
   "outputs": [],
   "metadata": {}
  },
  {
   "cell_type": "code",
   "execution_count": 323,
   "source": [
    "import pickle\n",
    "with open('Data/pickles/interpolated_data.pkl', 'rb') as f:\n",
    "    interpolated_data = pickle.load(f)\n",
    "    #times =interpolated_data[battery_no][cycle_no][:,0]"
   ],
   "outputs": [],
   "metadata": {}
  },
  {
   "cell_type": "markdown",
   "source": [
    "## Sequence-to-Vector"
   ],
   "metadata": {}
  },
  {
   "cell_type": "code",
   "execution_count": 324,
   "source": [
    "window_size = 50\n",
    "forecasting_range = 10"
   ],
   "outputs": [],
   "metadata": {}
  },
  {
   "cell_type": "code",
   "execution_count": 325,
   "source": [
    "def preprocess_data(interpolated_data, window_size = 50, forecasting_range = 10):\n",
    "    X = []\n",
    "    y = []\n",
    "    for battery_no in range(len(interpolated_data)):\n",
    "        for cycle_no in range(len(interpolated_data[battery_no])):\n",
    "            for step in range(len(interpolated_data[battery_no][cycle_no])- window_size - forecasting_range):\n",
    "                x_row = interpolated_data[battery_no][cycle_no][step:step+window_size,1].tolist()\n",
    "                y_row = interpolated_data[battery_no][cycle_no][step+window_size:step+window_size+forecasting_range,1]\n",
    "                X.append(x_row)\n",
    "                y.append(y_row)\n",
    "\n",
    "    X = np.array(X).reshape(-1, window_size)\n",
    "    y = np.array(y).reshape(-1, forecasting_range)\n",
    "    return X, y\n",
    "\n"
   ],
   "outputs": [],
   "metadata": {}
  },
  {
   "cell_type": "code",
   "execution_count": 326,
   "source": [
    "X, y = preprocess_data(interpolated_data)"
   ],
   "outputs": [],
   "metadata": {}
  },
  {
   "cell_type": "code",
   "execution_count": 327,
   "source": [
    "print(X.shape, y.shape)"
   ],
   "outputs": [
    {
     "output_type": "stream",
     "name": "stdout",
     "text": [
      "(127758, 50) (127758, 10)\n"
     ]
    }
   ],
   "metadata": {}
  },
  {
   "cell_type": "code",
   "execution_count": 328,
   "source": [
    "all_data = np.concatenate((X, y), axis=1)"
   ],
   "outputs": [],
   "metadata": {}
  },
  {
   "cell_type": "code",
   "execution_count": 329,
   "source": [
    "def min_max_scaling(all_data):\n",
    "    minimum = all_data.min()\n",
    "    maximum = all_data.max()\n",
    "    return (all_data - minimum)/(maximum-minimum)\n",
    "\n",
    "    \n"
   ],
   "outputs": [],
   "metadata": {}
  },
  {
   "cell_type": "code",
   "execution_count": 330,
   "source": [
    "all_data_scaled = min_max_scaling(all_data)\n",
    "X = all_data_scaled[:, :window_size]\n",
    "y = all_data_scaled[:,window_size:]"
   ],
   "outputs": [],
   "metadata": {}
  },
  {
   "cell_type": "code",
   "execution_count": 284,
   "source": [
    "X[0,:]"
   ],
   "outputs": [
    {
     "output_type": "execute_result",
     "data": {
      "text/plain": [
       "array([0.98318768, 0.98300903, 0.96806514, 0.92201743, 0.89353511,\n",
       "       0.88836564, 0.88400847, 0.88014515, 0.876838  , 0.87366318,\n",
       "       0.87096122, 0.8683125 , 0.86589868, 0.86358862, 0.86146733,\n",
       "       0.85947069, 0.857582  , 0.85578246, 0.85401835, 0.85233787,\n",
       "       0.85067906, 0.84916447, 0.84766052, 0.8461867 , 0.84475775,\n",
       "       0.84338576, 0.8420199 , 0.84065772, 0.83936292, 0.83808481,\n",
       "       0.83686026, 0.83564311, 0.83445977, 0.83328816, 0.83213834,\n",
       "       0.83098531, 0.82982936, 0.82872647, 0.82764531, 0.82659271,\n",
       "       0.8255412 , 0.82446413, 0.82338786, 0.82231376, 0.82124125,\n",
       "       0.8201707 , 0.81913531, 0.81812032, 0.81705813, 0.8159855 ])"
      ]
     },
     "metadata": {},
     "execution_count": 284
    }
   ],
   "metadata": {}
  },
  {
   "cell_type": "code",
   "execution_count": 285,
   "source": [
    "X = X.reshape(-1, window_size, 1)"
   ],
   "outputs": [],
   "metadata": {}
  },
  {
   "cell_type": "code",
   "execution_count": 286,
   "source": [
    "from sklearn.model_selection import train_test_split\n",
    "\n",
    "X_train, X_val_test,y_train, y_val_test = train_test_split(X, y, random_state=42, train_size=0.6)"
   ],
   "outputs": [],
   "metadata": {}
  },
  {
   "cell_type": "code",
   "execution_count": 287,
   "source": [
    "X_val, X_test, y_val, y_test = train_test_split(X_val_test, y_val_test, random_state=42, train_size=0.5)"
   ],
   "outputs": [],
   "metadata": {}
  },
  {
   "cell_type": "code",
   "execution_count": 288,
   "source": [
    "epochs = 20\n",
    "baseline_model = keras.models.Sequential()\n",
    "baseline_model.add(keras.layers.Flatten(input_shape= [window_size, 1]))\n",
    "baseline_model.add(keras.layers.Dense(10))\n",
    "baseline_model.compile(optimizer='Adam', loss='mse')\n",
    "history = baseline_model.fit(X_train, y_train, epochs=epochs, validation_data = (X_val, y_val))\n"
   ],
   "outputs": [
    {
     "output_type": "stream",
     "name": "stdout",
     "text": [
      "Epoch 1/20\n",
      "2396/2396 [==============================] - 1s 424us/step - loss: 0.1521 - val_loss: 0.0020\n",
      "Epoch 2/20\n",
      "2396/2396 [==============================] - 1s 455us/step - loss: 0.0019 - val_loss: 0.0016\n",
      "Epoch 3/20\n",
      "2396/2396 [==============================] - 1s 410us/step - loss: 0.0016 - val_loss: 0.0014\n",
      "Epoch 4/20\n",
      "2396/2396 [==============================] - 1s 430us/step - loss: 0.0015 - val_loss: 0.0015\n",
      "Epoch 5/20\n",
      "2396/2396 [==============================] - 1s 381us/step - loss: 0.0014 - val_loss: 0.0013\n",
      "Epoch 6/20\n",
      "2396/2396 [==============================] - 1s 400us/step - loss: 0.0014 - val_loss: 0.0013\n",
      "Epoch 7/20\n",
      "2396/2396 [==============================] - 1s 379us/step - loss: 0.0013 - val_loss: 0.0013\n",
      "Epoch 8/20\n",
      "2396/2396 [==============================] - 1s 451us/step - loss: 0.0013 - val_loss: 0.0012\n",
      "Epoch 9/20\n",
      "2396/2396 [==============================] - 1s 321us/step - loss: 0.0013 - val_loss: 0.0014\n",
      "Epoch 10/20\n",
      "2396/2396 [==============================] - 1s 298us/step - loss: 0.0013 - val_loss: 0.0012\n",
      "Epoch 11/20\n",
      "2396/2396 [==============================] - 1s 299us/step - loss: 0.0012 - val_loss: 0.0012\n",
      "Epoch 12/20\n",
      "2396/2396 [==============================] - 1s 298us/step - loss: 0.0013 - val_loss: 0.0012\n",
      "Epoch 13/20\n",
      "2396/2396 [==============================] - 1s 297us/step - loss: 0.0013 - val_loss: 0.0012\n",
      "Epoch 14/20\n",
      "2396/2396 [==============================] - 1s 296us/step - loss: 0.0013 - val_loss: 0.0014\n",
      "Epoch 15/20\n",
      "2396/2396 [==============================] - 1s 299us/step - loss: 0.0012 - val_loss: 0.0013\n",
      "Epoch 16/20\n",
      "2396/2396 [==============================] - 1s 296us/step - loss: 0.0012 - val_loss: 0.0012\n",
      "Epoch 17/20\n",
      "2396/2396 [==============================] - 1s 375us/step - loss: 0.0013 - val_loss: 0.0012\n",
      "Epoch 18/20\n",
      "2396/2396 [==============================] - 1s 485us/step - loss: 0.0012 - val_loss: 0.0012\n",
      "Epoch 19/20\n",
      "2396/2396 [==============================] - 1s 453us/step - loss: 0.0012 - val_loss: 0.0012\n",
      "Epoch 20/20\n",
      "2396/2396 [==============================] - 1s 370us/step - loss: 0.0012 - val_loss: 0.0012\n"
     ]
    }
   ],
   "metadata": {}
  },
  {
   "cell_type": "code",
   "execution_count": 289,
   "source": [
    "baseline_model.summary()"
   ],
   "outputs": [
    {
     "output_type": "stream",
     "name": "stdout",
     "text": [
      "Model: \"sequential_37\"\n",
      "_________________________________________________________________\n",
      "Layer (type)                 Output Shape              Param #   \n",
      "=================================================================\n",
      "flatten_1 (Flatten)          (None, 50)                0         \n",
      "_________________________________________________________________\n",
      "dense_34 (Dense)             (None, 10)                510       \n",
      "=================================================================\n",
      "Total params: 510\n",
      "Trainable params: 510\n",
      "Non-trainable params: 0\n",
      "_________________________________________________________________\n"
     ]
    }
   ],
   "metadata": {}
  },
  {
   "cell_type": "code",
   "execution_count": 290,
   "source": [
    "base_pred = baseline_model.predict(X_val)"
   ],
   "outputs": [],
   "metadata": {}
  },
  {
   "cell_type": "code",
   "execution_count": 291,
   "source": [
    "plt.scatter(base_pred, y_val)\n",
    "x = np.linspace(start=0, stop=1, num=50)\n",
    "plt.plot(x, x)\n",
    "plt.show()"
   ],
   "outputs": [
    {
     "output_type": "display_data",
     "data": {
      "text/plain": [
       "<Figure size 640x480 with 1 Axes>"
      ],
      "image/png": "[encoded data removed]"
     },
     "metadata": {}
    }
   ],
   "metadata": {}
  },
  {
   "cell_type": "code",
   "execution_count": 292,
   "source": [
    "y_pred = baseline_model.predict(X_val)\n",
    "print(y_val[5], y_pred[5])"
   ],
   "outputs": [
    {
     "output_type": "stream",
     "name": "stdout",
     "text": [
      "[0.77632587 0.7750789  0.77392814 0.77271816 0.77163752 0.77036916\n",
      " 0.76915794 0.76807154 0.76690048 0.76583681] [0.784873   0.779246   0.77859694 0.77420324 0.7629733  0.75763243\n",
      " 0.754927   0.75522476 0.7523939  0.75424695]\n"
     ]
    }
   ],
   "metadata": {}
  },
  {
   "cell_type": "code",
   "execution_count": 294,
   "source": [
    "# Simple RNN\n",
    "simple_rnn_model = keras.models.Sequential()\n",
    "#simple_rnn_model.add(keras.layers.Flatten(input_shape= [window_size, 1]))\n",
    "simple_rnn_model.add(keras.layers.SimpleRNN(20, input_shape=[None, 1], activation='sigmoid', return_sequences=True))\n",
    "simple_rnn_model.add(keras.layers.SimpleRNN(20, activation='sigmoid'))\n",
    "simple_rnn_model.add(keras.layers.Dense(10))\n",
    "simple_rnn_model.compile(optimizer='Adam', loss='mse')\n",
    "simple_rnn_model.summary()\n",
    "history = simple_rnn_model.fit(X_train, y_train, epochs=8, validation_data = (X_val, y_val))\n"
   ],
   "outputs": [
    {
     "output_type": "stream",
     "name": "stdout",
     "text": [
      "Model: \"sequential_39\"\n",
      "_________________________________________________________________\n",
      "Layer (type)                 Output Shape              Param #   \n",
      "=================================================================\n",
      "simple_rnn_6 (SimpleRNN)     (None, None, 20)          440       \n",
      "_________________________________________________________________\n",
      "simple_rnn_7 (SimpleRNN)     (None, 20)                820       \n",
      "_________________________________________________________________\n",
      "dense_36 (Dense)             (None, 10)                210       \n",
      "=================================================================\n",
      "Total params: 1,470\n",
      "Trainable params: 1,470\n",
      "Non-trainable params: 0\n",
      "_________________________________________________________________\n",
      "Epoch 1/8\n",
      "2396/2396 [==============================] - 17s 7ms/step - loss: 0.0725 - val_loss: 0.0065\n",
      "Epoch 2/8\n",
      "2396/2396 [==============================] - 17s 7ms/step - loss: 0.0041 - val_loss: 0.0012\n",
      "Epoch 3/8\n",
      "2396/2396 [==============================] - 16s 7ms/step - loss: 0.0012 - val_loss: 0.0011\n",
      "Epoch 4/8\n",
      "2396/2396 [==============================] - 15s 6ms/step - loss: 0.0011 - val_loss: 0.0011\n",
      "Epoch 5/8\n",
      "2396/2396 [==============================] - 14s 6ms/step - loss: 0.0011 - val_loss: 0.0010\n",
      "Epoch 6/8\n",
      "2396/2396 [==============================] - 16s 7ms/step - loss: 0.0010 - val_loss: 9.6487e-04\n",
      "Epoch 7/8\n",
      "2396/2396 [==============================] - 16s 7ms/step - loss: 9.4606e-04 - val_loss: 6.7121e-04\n",
      "Epoch 8/8\n",
      "2396/2396 [==============================] - 14s 6ms/step - loss: 6.0884e-04 - val_loss: 4.9300e-04\n"
     ]
    }
   ],
   "metadata": {}
  },
  {
   "cell_type": "code",
   "execution_count": 295,
   "source": [
    "y_pred = simple_rnn_model.predict(X_val)"
   ],
   "outputs": [],
   "metadata": {}
  },
  {
   "cell_type": "code",
   "execution_count": 296,
   "source": [
    "print(y_pred[5], y_val[5])"
   ],
   "outputs": [
    {
     "output_type": "stream",
     "name": "stdout",
     "text": [
      "[0.7754543  0.77210504 0.7674009  0.7682192  0.7648749  0.76843935\n",
      " 0.76692235 0.7635124  0.76599663 0.7674228 ] [0.77632587 0.7750789  0.77392814 0.77271816 0.77163752 0.77036916\n",
      " 0.76915794 0.76807154 0.76690048 0.76583681]\n"
     ]
    }
   ],
   "metadata": {}
  },
  {
   "cell_type": "code",
   "execution_count": 297,
   "source": [
    "X_val.shape"
   ],
   "outputs": [
    {
     "output_type": "execute_result",
     "data": {
      "text/plain": [
       "(25552, 50, 1)"
      ]
     },
     "metadata": {},
     "execution_count": 297
    }
   ],
   "metadata": {}
  },
  {
   "cell_type": "code",
   "execution_count": 300,
   "source": [
    "plt.figure()\n",
    "plt.scatter(y_pred[:,-10:], y_val[:,-10:])\n",
    "x = np.linspace(start=0, stop=1, num=50)\n",
    "plt.plot(x, x)\n",
    "plt.figure()\n",
    "plt.scatter(np.arange(start=0, stop=len(y_pred[3]), step=1), y_pred[3])\n",
    "plt.scatter(np.arange(start=0, stop=len(y_val[3]), step=1), y_val[3])\n",
    "\n",
    "plt.show()"
   ],
   "outputs": [
    {
     "output_type": "display_data",
     "data": {
      "text/plain": [
       "<Figure size 640x480 with 1 Axes>"
      ],
      "image/png": "[encoded data removed]"
     },
     "metadata": {}
    },
    {
     "output_type": "display_data",
     "data": {
      "text/plain": [
       "<Figure size 640x480 with 1 Axes>"
      ],
      "image/png": "[encoded data removed]"
     },
     "metadata": {}
    }
   ],
   "metadata": {}
  },
  {
   "cell_type": "code",
   "execution_count": null,
   "source": [
    "def predict_curve(model=simple_rnn_model):\n",
    "    "
   ],
   "outputs": [],
   "metadata": {}
  },
  {
   "cell_type": "code",
   "execution_count": 55,
   "source": [
    "# LSTM RNN\n",
    "lstm_rnn_model = keras.models.Sequential()\n",
    "#simple_rnn_model.add(keras.layers.Flatten(input_shape= [window_size, 1]))\n",
    "lstm_rnn_model.add(keras.layers.LSTM(20, input_shape=[None, 1], activation='sigmoid', return_sequences=True))\n",
    "lstm_rnn_model.add(keras.layers.LSTM(20, activation='sigmoid'))\n",
    "lstm_rnn_model.add(keras.layers.Dense(10))\n",
    "lstm_rnn_model.compile(optimizer='Adam', loss='mse')\n",
    "lstm_rnn_model.summary()\n",
    "history = lstm_rnn_model.fit(X_train, y_train, epochs=6, validation_data = (X_val, y_val))\n"
   ],
   "outputs": [
    {
     "output_type": "stream",
     "name": "stdout",
     "text": [
      "Model: \"sequential_7\"\n",
      "_________________________________________________________________\n",
      "Layer (type)                 Output Shape              Param #   \n",
      "=================================================================\n",
      "lstm_4 (LSTM)                (None, None, 20)          1760      \n",
      "_________________________________________________________________\n",
      "lstm_5 (LSTM)                (None, 20)                3280      \n",
      "_________________________________________________________________\n",
      "dense_5 (Dense)              (None, 10)                210       \n",
      "=================================================================\n",
      "Total params: 5,250\n",
      "Trainable params: 5,250\n",
      "Non-trainable params: 0\n",
      "_________________________________________________________________\n",
      "Epoch 1/6\n",
      "2396/2396 [==============================] - 32s 13ms/step - loss: 0.0688 - val_loss: 0.0028\n",
      "Epoch 2/6\n",
      "2396/2396 [==============================] - 32s 14ms/step - loss: 0.0024 - val_loss: 0.0018\n",
      "Epoch 3/6\n",
      "2396/2396 [==============================] - 29s 12ms/step - loss: 0.0018 - val_loss: 0.0015\n",
      "Epoch 4/6\n",
      "2396/2396 [==============================] - 30s 12ms/step - loss: 0.0014 - val_loss: 0.0011\n",
      "Epoch 5/6\n",
      "2396/2396 [==============================] - 30s 12ms/step - loss: 0.0010 - val_loss: 8.1757e-04\n",
      "Epoch 6/6\n",
      "2396/2396 [==============================] - 30s 13ms/step - loss: 8.3241e-04 - val_loss: 7.5637e-04\n"
     ]
    }
   ],
   "metadata": {}
  },
  {
   "cell_type": "code",
   "execution_count": 56,
   "source": [
    "y_pred_lstm = lstm_rnn_model.predict(X_val)\n",
    "predicted_data_lstm = scaler.inverse_transform(np.concatenate((X_val.reshape(-1,window_size), y_pred_lstm), axis=1))\n",
    "original_data_lstm = scaler.inverse_transform(np.concatenate((X_val.reshape(-1,window_size), y_val), axis=1))"
   ],
   "outputs": [],
   "metadata": {}
  },
  {
   "cell_type": "code",
   "execution_count": 59,
   "source": [
    "plt.figure()\n",
    "plt.scatter(predicted_data_lstm[:,-10:], original_data_lstm[:,-10:])\n",
    "x = np.linspace(start=0, stop=3, num=50)\n",
    "plt.plot(x, x)\n",
    "plt.figure()\n",
    "plt.scatter(np.arange(start=0, stop=len(predicted_data[3]), step=1), predicted_data_lstm[0])\n",
    "plt.scatter(np.arange(start=0, stop=len(original_data[3]), step=1), original_data_lstm[0])\n",
    "\n",
    "plt.show()"
   ],
   "outputs": [
    {
     "output_type": "display_data",
     "data": {
      "text/plain": [
       "<Figure size 640x480 with 1 Axes>"
      ],
      "image/png": "[encoded data removed]"
     },
     "metadata": {}
    },
    {
     "output_type": "display_data",
     "data": {
      "text/plain": [
       "<Figure size 640x480 with 1 Axes>"
      ],
      "image/png": "[encoded data removed]"
     },
     "metadata": {}
    }
   ],
   "metadata": {}
  },
  {
   "cell_type": "markdown",
   "source": [
    "## Sequence-to-Sequence"
   ],
   "metadata": {}
  },
  {
   "cell_type": "code",
   "execution_count": 332,
   "source": [
    "#X has shape (# examples, 50, 1) \n",
    "#y has shape (# examples, 10)\n",
    "#Want to construct matrix Y with dimensions (# examples, 50, 10)\n",
    "X = X.reshape(-1, window_size, 1)\n",
    "y = y.reshape(-1, forecasting_range, 1)\n",
    "series = np.concatenate((X, y), axis=1) #dimension (# examples, 60, 1)\n",
    "series.shape"
   ],
   "outputs": [
    {
     "output_type": "execute_result",
     "data": {
      "text/plain": [
       "(127758, 60, 1)"
      ]
     },
     "metadata": {},
     "execution_count": 332
    }
   ],
   "metadata": {}
  },
  {
   "cell_type": "code",
   "execution_count": 333,
   "source": [
    "window_size = 50\n",
    "forecasting_range = 10\n",
    "Y = np.empty((X.shape[0], window_size, forecasting_range))\n",
    "for step_ahead in range(1, forecasting_range+1):\n",
    "    Y[:,:,step_ahead -1] = series[:,step_ahead:step_ahead+window_size,0]"
   ],
   "outputs": [],
   "metadata": {}
  },
  {
   "cell_type": "code",
   "execution_count": 334,
   "source": [
    "Y.shape"
   ],
   "outputs": [
    {
     "output_type": "execute_result",
     "data": {
      "text/plain": [
       "(127758, 50, 10)"
      ]
     },
     "metadata": {},
     "execution_count": 334
    }
   ],
   "metadata": {}
  },
  {
   "cell_type": "code",
   "execution_count": 337,
   "source": [
    "Y[0,0,:] # for each point in the timeseries its label is the next 10 successive points "
   ],
   "outputs": [
    {
     "output_type": "execute_result",
     "data": {
      "text/plain": [
       "array([0.98300903, 0.96806514, 0.92201743, 0.89353511, 0.88836564,\n",
       "       0.88400847, 0.88014515, 0.876838  , 0.87366318, 0.87096122])"
      ]
     },
     "metadata": {},
     "execution_count": 337
    }
   ],
   "metadata": {}
  },
  {
   "cell_type": "code",
   "execution_count": 338,
   "source": [
    "X_seq_train, X_seq_valtest, Y_seq_train, Y_seq_valtest = train_test_split(X, Y, random_state=42, train_size=0.6)\n",
    "X_seq_val, X_seq_test, Y_seq_val, Y_seq_test = train_test_split(X_seq_valtest, Y_seq_valtest, random_state=42, train_size=0.5)\n"
   ],
   "outputs": [],
   "metadata": {}
  },
  {
   "cell_type": "code",
   "execution_count": 339,
   "source": [
    "#custom metric for evaluation\n",
    "def last_time_step_mse(Y_true, Y_pred):\n",
    "    return keras.metrics.mean_squared_error(Y_true[:,-1], Y_pred[:, -1])"
   ],
   "outputs": [],
   "metadata": {}
  },
  {
   "cell_type": "code",
   "execution_count": 307,
   "source": [
    "seq_lstm_model = keras.models.Sequential()\n",
    "seq_lstm_model.add(keras.layers.LSTM(20, return_sequences=True, input_shape=[None,1]))\n",
    "seq_lstm_model.add(keras.layers.LSTM(20, return_sequences=True))\n",
    "seq_lstm_model.add(keras.layers.TimeDistributed(keras.layers.Dense(units=10, activity_regularizer=keras.regularizers.l2(l2=0.01))))\n",
    "optimizer = keras.optimizers.Adam(lr=0.01)\n",
    "seq_lstm_model.compile(optimizer=optimizer, loss=\"mse\", metrics=[last_time_step_mse])"
   ],
   "outputs": [],
   "metadata": {}
  },
  {
   "cell_type": "code",
   "execution_count": 308,
   "source": [
    "history = seq_lstm_model.fit(X_seq_train, Y_seq_train, epochs=5, validation_data = (X_seq_val, Y_seq_val))"
   ],
   "outputs": [
    {
     "output_type": "stream",
     "name": "stdout",
     "text": [
      "Epoch 1/5\n",
      "WARNING:tensorflow:AutoGraph could not transform <function last_time_step_mse at 0x7fa7301bf1f0> and will run it as-is.\n",
      "Please report this to the TensorFlow team. When filing the bug, set the verbosity to 10 (on Linux, `export AUTOGRAPH_VERBOSITY=10`) and attach the full output.\n",
      "Cause: invalid syntax (tmpjhdvvdsy.py, line 12)\n",
      "To silence this warning, decorate the function with @tf.autograph.experimental.do_not_convert\n",
      "WARNING: AutoGraph could not transform <function last_time_step_mse at 0x7fa7301bf1f0> and will run it as-is.\n",
      "Please report this to the TensorFlow team. When filing the bug, set the verbosity to 10 (on Linux, `export AUTOGRAPH_VERBOSITY=10`) and attach the full output.\n",
      "Cause: invalid syntax (tmpjhdvvdsy.py, line 12)\n",
      "To silence this warning, decorate the function with @tf.autograph.experimental.do_not_convert\n",
      "2396/2396 [==============================] - 37s 15ms/step - loss: 0.0528 - last_time_step_mse: 0.0107 - val_loss: 0.0452 - val_last_time_step_mse: 0.0041\n",
      "Epoch 2/5\n",
      "2396/2396 [==============================] - 32s 14ms/step - loss: 0.0454 - last_time_step_mse: 0.0042 - val_loss: 0.0453 - val_last_time_step_mse: 0.0054\n",
      "Epoch 3/5\n",
      "2396/2396 [==============================] - 32s 13ms/step - loss: 0.0453 - last_time_step_mse: 0.0042 - val_loss: 0.0452 - val_last_time_step_mse: 0.0047\n",
      "Epoch 4/5\n",
      " 815/2396 [=========>....................] - ETA: 22s - loss: 0.0453 - last_time_step_mse: 0.0042"
     ]
    },
    {
     "output_type": "error",
     "ename": "KeyboardInterrupt",
     "evalue": "",
     "traceback": [
      "\u001b[0;31m---------------------------------------------------------------------------\u001b[0m",
      "\u001b[0;31mKeyboardInterrupt\u001b[0m                         Traceback (most recent call last)",
      "\u001b[0;32m<ipython-input-308-ad8a15b27e83>\u001b[0m in \u001b[0;36m<module>\u001b[0;34m\u001b[0m\n\u001b[0;32m----> 1\u001b[0;31m \u001b[0mhistory\u001b[0m \u001b[0;34m=\u001b[0m \u001b[0mseq_lstm_model\u001b[0m\u001b[0;34m.\u001b[0m\u001b[0mfit\u001b[0m\u001b[0;34m(\u001b[0m\u001b[0mX_seq_train\u001b[0m\u001b[0;34m,\u001b[0m \u001b[0mY_seq_train\u001b[0m\u001b[0;34m,\u001b[0m \u001b[0mepochs\u001b[0m\u001b[0;34m=\u001b[0m\u001b[0;36m5\u001b[0m\u001b[0;34m,\u001b[0m \u001b[0mvalidation_data\u001b[0m \u001b[0;34m=\u001b[0m \u001b[0;34m(\u001b[0m\u001b[0mX_seq_val\u001b[0m\u001b[0;34m,\u001b[0m \u001b[0mY_seq_val\u001b[0m\u001b[0;34m)\u001b[0m\u001b[0;34m)\u001b[0m\u001b[0;34m\u001b[0m\u001b[0;34m\u001b[0m\u001b[0m\n\u001b[0m",
      "\u001b[0;32m~/miniconda3/lib/python3.9/site-packages/tensorflow/python/keras/engine/training.py\u001b[0m in \u001b[0;36mfit\u001b[0;34m(self, x, y, batch_size, epochs, verbose, callbacks, validation_split, validation_data, shuffle, class_weight, sample_weight, initial_epoch, steps_per_epoch, validation_steps, validation_batch_size, validation_freq, max_queue_size, workers, use_multiprocessing)\u001b[0m\n\u001b[1;32m   1098\u001b[0m                 _r=1):\n\u001b[1;32m   1099\u001b[0m               \u001b[0mcallbacks\u001b[0m\u001b[0;34m.\u001b[0m\u001b[0mon_train_batch_begin\u001b[0m\u001b[0;34m(\u001b[0m\u001b[0mstep\u001b[0m\u001b[0;34m)\u001b[0m\u001b[0;34m\u001b[0m\u001b[0;34m\u001b[0m\u001b[0m\n\u001b[0;32m-> 1100\u001b[0;31m               \u001b[0mtmp_logs\u001b[0m \u001b[0;34m=\u001b[0m \u001b[0mself\u001b[0m\u001b[0;34m.\u001b[0m\u001b[0mtrain_function\u001b[0m\u001b[0;34m(\u001b[0m\u001b[0miterator\u001b[0m\u001b[0;34m)\u001b[0m\u001b[0;34m\u001b[0m\u001b[0;34m\u001b[0m\u001b[0m\n\u001b[0m\u001b[1;32m   1101\u001b[0m               \u001b[0;32mif\u001b[0m \u001b[0mdata_handler\u001b[0m\u001b[0;34m.\u001b[0m\u001b[0mshould_sync\u001b[0m\u001b[0;34m:\u001b[0m\u001b[0;34m\u001b[0m\u001b[0;34m\u001b[0m\u001b[0m\n\u001b[1;32m   1102\u001b[0m                 \u001b[0mcontext\u001b[0m\u001b[0;34m.\u001b[0m\u001b[0masync_wait\u001b[0m\u001b[0;34m(\u001b[0m\u001b[0;34m)\u001b[0m\u001b[0;34m\u001b[0m\u001b[0;34m\u001b[0m\u001b[0m\n",
      "\u001b[0;32m~/miniconda3/lib/python3.9/site-packages/tensorflow/python/eager/def_function.py\u001b[0m in \u001b[0;36m__call__\u001b[0;34m(self, *args, **kwds)\u001b[0m\n\u001b[1;32m    826\u001b[0m     \u001b[0mtracing_count\u001b[0m \u001b[0;34m=\u001b[0m \u001b[0mself\u001b[0m\u001b[0;34m.\u001b[0m\u001b[0mexperimental_get_tracing_count\u001b[0m\u001b[0;34m(\u001b[0m\u001b[0;34m)\u001b[0m\u001b[0;34m\u001b[0m\u001b[0;34m\u001b[0m\u001b[0m\n\u001b[1;32m    827\u001b[0m     \u001b[0;32mwith\u001b[0m \u001b[0mtrace\u001b[0m\u001b[0;34m.\u001b[0m\u001b[0mTrace\u001b[0m\u001b[0;34m(\u001b[0m\u001b[0mself\u001b[0m\u001b[0;34m.\u001b[0m\u001b[0m_name\u001b[0m\u001b[0;34m)\u001b[0m \u001b[0;32mas\u001b[0m \u001b[0mtm\u001b[0m\u001b[0;34m:\u001b[0m\u001b[0;34m\u001b[0m\u001b[0;34m\u001b[0m\u001b[0m\n\u001b[0;32m--> 828\u001b[0;31m       \u001b[0mresult\u001b[0m \u001b[0;34m=\u001b[0m \u001b[0mself\u001b[0m\u001b[0;34m.\u001b[0m\u001b[0m_call\u001b[0m\u001b[0;34m(\u001b[0m\u001b[0;34m*\u001b[0m\u001b[0margs\u001b[0m\u001b[0;34m,\u001b[0m \u001b[0;34m**\u001b[0m\u001b[0mkwds\u001b[0m\u001b[0;34m)\u001b[0m\u001b[0;34m\u001b[0m\u001b[0;34m\u001b[0m\u001b[0m\n\u001b[0m\u001b[1;32m    829\u001b[0m       \u001b[0mcompiler\u001b[0m \u001b[0;34m=\u001b[0m \u001b[0;34m\"xla\"\u001b[0m \u001b[0;32mif\u001b[0m \u001b[0mself\u001b[0m\u001b[0;34m.\u001b[0m\u001b[0m_experimental_compile\u001b[0m \u001b[0;32melse\u001b[0m \u001b[0;34m\"nonXla\"\u001b[0m\u001b[0;34m\u001b[0m\u001b[0;34m\u001b[0m\u001b[0m\n\u001b[1;32m    830\u001b[0m       \u001b[0mnew_tracing_count\u001b[0m \u001b[0;34m=\u001b[0m \u001b[0mself\u001b[0m\u001b[0;34m.\u001b[0m\u001b[0mexperimental_get_tracing_count\u001b[0m\u001b[0;34m(\u001b[0m\u001b[0;34m)\u001b[0m\u001b[0;34m\u001b[0m\u001b[0;34m\u001b[0m\u001b[0m\n",
      "\u001b[0;32m~/miniconda3/lib/python3.9/site-packages/tensorflow/python/eager/def_function.py\u001b[0m in \u001b[0;36m_call\u001b[0;34m(self, *args, **kwds)\u001b[0m\n\u001b[1;32m    853\u001b[0m       \u001b[0;31m# In this case we have created variables on the first call, so we run the\u001b[0m\u001b[0;34m\u001b[0m\u001b[0;34m\u001b[0m\u001b[0;34m\u001b[0m\u001b[0m\n\u001b[1;32m    854\u001b[0m       \u001b[0;31m# defunned version which is guaranteed to never create variables.\u001b[0m\u001b[0;34m\u001b[0m\u001b[0;34m\u001b[0m\u001b[0;34m\u001b[0m\u001b[0m\n\u001b[0;32m--> 855\u001b[0;31m       \u001b[0;32mreturn\u001b[0m \u001b[0mself\u001b[0m\u001b[0;34m.\u001b[0m\u001b[0m_stateless_fn\u001b[0m\u001b[0;34m(\u001b[0m\u001b[0;34m*\u001b[0m\u001b[0margs\u001b[0m\u001b[0;34m,\u001b[0m \u001b[0;34m**\u001b[0m\u001b[0mkwds\u001b[0m\u001b[0;34m)\u001b[0m  \u001b[0;31m# pylint: disable=not-callable\u001b[0m\u001b[0;34m\u001b[0m\u001b[0;34m\u001b[0m\u001b[0m\n\u001b[0m\u001b[1;32m    856\u001b[0m     \u001b[0;32melif\u001b[0m \u001b[0mself\u001b[0m\u001b[0;34m.\u001b[0m\u001b[0m_stateful_fn\u001b[0m \u001b[0;32mis\u001b[0m \u001b[0;32mnot\u001b[0m \u001b[0;32mNone\u001b[0m\u001b[0;34m:\u001b[0m\u001b[0;34m\u001b[0m\u001b[0;34m\u001b[0m\u001b[0m\n\u001b[1;32m    857\u001b[0m       \u001b[0;31m# Release the lock early so that multiple threads can perform the call\u001b[0m\u001b[0;34m\u001b[0m\u001b[0;34m\u001b[0m\u001b[0;34m\u001b[0m\u001b[0m\n",
      "\u001b[0;32m~/miniconda3/lib/python3.9/site-packages/tensorflow/python/eager/function.py\u001b[0m in \u001b[0;36m__call__\u001b[0;34m(self, *args, **kwargs)\u001b[0m\n\u001b[1;32m   2940\u001b[0m       (graph_function,\n\u001b[1;32m   2941\u001b[0m        filtered_flat_args) = self._maybe_define_function(args, kwargs)\n\u001b[0;32m-> 2942\u001b[0;31m     return graph_function._call_flat(\n\u001b[0m\u001b[1;32m   2943\u001b[0m         filtered_flat_args, captured_inputs=graph_function.captured_inputs)  # pylint: disable=protected-access\n\u001b[1;32m   2944\u001b[0m \u001b[0;34m\u001b[0m\u001b[0m\n",
      "\u001b[0;32m~/miniconda3/lib/python3.9/site-packages/tensorflow/python/eager/function.py\u001b[0m in \u001b[0;36m_call_flat\u001b[0;34m(self, args, captured_inputs, cancellation_manager)\u001b[0m\n\u001b[1;32m   1916\u001b[0m         and executing_eagerly):\n\u001b[1;32m   1917\u001b[0m       \u001b[0;31m# No tape is watching; skip to running the function.\u001b[0m\u001b[0;34m\u001b[0m\u001b[0;34m\u001b[0m\u001b[0;34m\u001b[0m\u001b[0m\n\u001b[0;32m-> 1918\u001b[0;31m       return self._build_call_outputs(self._inference_function.call(\n\u001b[0m\u001b[1;32m   1919\u001b[0m           ctx, args, cancellation_manager=cancellation_manager))\n\u001b[1;32m   1920\u001b[0m     forward_backward = self._select_forward_and_backward_functions(\n",
      "\u001b[0;32m~/miniconda3/lib/python3.9/site-packages/tensorflow/python/eager/function.py\u001b[0m in \u001b[0;36mcall\u001b[0;34m(self, ctx, args, cancellation_manager)\u001b[0m\n\u001b[1;32m    553\u001b[0m       \u001b[0;32mwith\u001b[0m \u001b[0m_InterpolateFunctionError\u001b[0m\u001b[0;34m(\u001b[0m\u001b[0mself\u001b[0m\u001b[0;34m)\u001b[0m\u001b[0;34m:\u001b[0m\u001b[0;34m\u001b[0m\u001b[0;34m\u001b[0m\u001b[0m\n\u001b[1;32m    554\u001b[0m         \u001b[0;32mif\u001b[0m \u001b[0mcancellation_manager\u001b[0m \u001b[0;32mis\u001b[0m \u001b[0;32mNone\u001b[0m\u001b[0;34m:\u001b[0m\u001b[0;34m\u001b[0m\u001b[0;34m\u001b[0m\u001b[0m\n\u001b[0;32m--> 555\u001b[0;31m           outputs = execute.execute(\n\u001b[0m\u001b[1;32m    556\u001b[0m               \u001b[0mstr\u001b[0m\u001b[0;34m(\u001b[0m\u001b[0mself\u001b[0m\u001b[0;34m.\u001b[0m\u001b[0msignature\u001b[0m\u001b[0;34m.\u001b[0m\u001b[0mname\u001b[0m\u001b[0;34m)\u001b[0m\u001b[0;34m,\u001b[0m\u001b[0;34m\u001b[0m\u001b[0;34m\u001b[0m\u001b[0m\n\u001b[1;32m    557\u001b[0m               \u001b[0mnum_outputs\u001b[0m\u001b[0;34m=\u001b[0m\u001b[0mself\u001b[0m\u001b[0;34m.\u001b[0m\u001b[0m_num_outputs\u001b[0m\u001b[0;34m,\u001b[0m\u001b[0;34m\u001b[0m\u001b[0;34m\u001b[0m\u001b[0m\n",
      "\u001b[0;32m~/miniconda3/lib/python3.9/site-packages/tensorflow/python/eager/execute.py\u001b[0m in \u001b[0;36mquick_execute\u001b[0;34m(op_name, num_outputs, inputs, attrs, ctx, name)\u001b[0m\n\u001b[1;32m     57\u001b[0m   \u001b[0;32mtry\u001b[0m\u001b[0;34m:\u001b[0m\u001b[0;34m\u001b[0m\u001b[0;34m\u001b[0m\u001b[0m\n\u001b[1;32m     58\u001b[0m     \u001b[0mctx\u001b[0m\u001b[0;34m.\u001b[0m\u001b[0mensure_initialized\u001b[0m\u001b[0;34m(\u001b[0m\u001b[0;34m)\u001b[0m\u001b[0;34m\u001b[0m\u001b[0;34m\u001b[0m\u001b[0m\n\u001b[0;32m---> 59\u001b[0;31m     tensors = pywrap_tfe.TFE_Py_Execute(ctx._handle, device_name, op_name,\n\u001b[0m\u001b[1;32m     60\u001b[0m                                         inputs, attrs, num_outputs)\n\u001b[1;32m     61\u001b[0m   \u001b[0;32mexcept\u001b[0m \u001b[0mcore\u001b[0m\u001b[0;34m.\u001b[0m\u001b[0m_NotOkStatusException\u001b[0m \u001b[0;32mas\u001b[0m \u001b[0me\u001b[0m\u001b[0;34m:\u001b[0m\u001b[0;34m\u001b[0m\u001b[0;34m\u001b[0m\u001b[0m\n",
      "\u001b[0;31mKeyboardInterrupt\u001b[0m: "
     ]
    }
   ],
   "metadata": {}
  },
  {
   "cell_type": "code",
   "execution_count": 340,
   "source": [
    "Y_seq_pred = wrapped_model.predict(X_seq_val)\n",
    "#Y_seq_pred = seq_lstm_model.predict(X_seq_val)"
   ],
   "outputs": [],
   "metadata": {}
  },
  {
   "cell_type": "code",
   "execution_count": 341,
   "source": [
    "Y_seq_pred[0,49,:]"
   ],
   "outputs": [
    {
     "output_type": "execute_result",
     "data": {
      "text/plain": [
       "array([0.7337432 , 0.73281425, 0.73087466, 0.72971934, 0.7283597 ,\n",
       "       0.72786194, 0.7255634 , 0.7234268 , 0.72234666, 0.7211761 ],\n",
       "      dtype=float32)"
      ]
     },
     "metadata": {},
     "execution_count": 341
    }
   ],
   "metadata": {}
  },
  {
   "cell_type": "code",
   "execution_count": 342,
   "source": [
    "Y_seq_val[0,49,:]"
   ],
   "outputs": [
    {
     "output_type": "execute_result",
     "data": {
      "text/plain": [
       "array([0.73605321, 0.73525852, 0.73440399, 0.73362271, 0.73278415,\n",
       "       0.73196578, 0.73117505, 0.73027693, 0.72958185, 0.72872015])"
      ]
     },
     "metadata": {},
     "execution_count": 342
    }
   ],
   "metadata": {}
  },
  {
   "cell_type": "code",
   "execution_count": 343,
   "source": [
    "from scipy.stats import linregress\n",
    "slope, intercept, r_value, p_value, std_err = linregress(Y_seq_pred[:,49,0],Y_seq_val[:,49,0])"
   ],
   "outputs": [],
   "metadata": {}
  },
  {
   "cell_type": "code",
   "execution_count": 344,
   "source": [
    "r_value"
   ],
   "outputs": [
    {
     "output_type": "execute_result",
     "data": {
      "text/plain": [
       "0.9846681348091908"
      ]
     },
     "metadata": {},
     "execution_count": 344
    }
   ],
   "metadata": {}
  },
  {
   "cell_type": "code",
   "execution_count": 345,
   "source": [
    "plt.scatter(Y_seq_pred[:,49,9],Y_seq_val[:,49,9])\n",
    "plt.show()"
   ],
   "outputs": [
    {
     "output_type": "display_data",
     "data": {
      "text/plain": [
       "<Figure size 640x480 with 1 Axes>"
      ],
      "image/png": "[encoded data removed]"
     },
     "metadata": {}
    }
   ],
   "metadata": {}
  },
  {
   "cell_type": "code",
   "execution_count": 309,
   "source": [
    "def build_model(n_neurons=80, n_hidden=1, l2_activity=0.0001, l2_kernel=0, lr=0.01, is_LSTM=True, activation='tanh'):\n",
    "    model = keras.models.Sequential()\n",
    "    if is_LSTM:\n",
    "        model.add(keras.layers.LSTM(units=n_neurons, return_sequences=True, activation=activation, input_shape=[None,1]))\n",
    "        for layer in range(n_hidden):\n",
    "            model.add(keras.layers.LSTM(units=n_neurons, return_sequences=True, activation=activation))\n",
    "    else:\n",
    "        model.add(keras.layers.SimpleRNN(units=n_neurons, return_sequences=True, activation=activation, input_shape=[None,1]))\n",
    "        for layer in range(n_hidden):\n",
    "            model.add(keras.layers.SimpleRNN(units=n_neurons, return_sequences=True, activation=activation))\n",
    "    model.add(keras.layers.TimeDistributed(keras.layers.Dense(units=10, kernel_regularizer=keras.regularizers.l2(l2=l2_kernel), activity_regularizer=keras.regularizers.l2(l2=l2_activity))))\n",
    "    optimizer = keras.optimizers.Adam(lr=lr)\n",
    "    model.compile(loss=\"mse\", optimizer=optimizer, metrics=[last_time_step_mse])\n",
    "    return model"
   ],
   "outputs": [],
   "metadata": {}
  },
  {
   "cell_type": "code",
   "execution_count": 310,
   "source": [
    "wrapped_model = keras.wrappers.scikit_learn.KerasRegressor(build_model)"
   ],
   "outputs": [],
   "metadata": {}
  },
  {
   "cell_type": "code",
   "execution_count": 311,
   "source": [
    "wrapped_model.fit(X_seq_train, Y_seq_train, epochs=5, validation_data=(X_seq_val, Y_seq_val))"
   ],
   "outputs": [
    {
     "output_type": "stream",
     "name": "stdout",
     "text": [
      "Epoch 1/5\n",
      "2396/2396 [==============================] - 60s 24ms/step - loss: 0.0073 - last_time_step_mse: 0.0062 - val_loss: 6.6084e-04 - val_last_time_step_mse: 4.1966e-04\n",
      "Epoch 2/5\n",
      "2396/2396 [==============================] - 60s 25ms/step - loss: 6.8222e-04 - last_time_step_mse: 4.4768e-04 - val_loss: 6.4730e-04 - val_last_time_step_mse: 3.3717e-04\n",
      "Epoch 3/5\n",
      "2396/2396 [==============================] - 61s 25ms/step - loss: 6.4137e-04 - last_time_step_mse: 3.6217e-04 - val_loss: 6.3901e-04 - val_last_time_step_mse: 3.5433e-04\n",
      "Epoch 4/5\n",
      "2396/2396 [==============================] - 61s 26ms/step - loss: 6.1773e-04 - last_time_step_mse: 3.1719e-04 - val_loss: 6.6721e-04 - val_last_time_step_mse: 3.5181e-04\n",
      "Epoch 5/5\n",
      "2396/2396 [==============================] - 62s 26ms/step - loss: 6.0406e-04 - last_time_step_mse: 3.0212e-04 - val_loss: 6.2432e-04 - val_last_time_step_mse: 2.8471e-04\n"
     ]
    },
    {
     "output_type": "execute_result",
     "data": {
      "text/plain": [
       "<tensorflow.python.keras.callbacks.History at 0x7fa7c6109610>"
      ]
     },
     "metadata": {},
     "execution_count": 311
    }
   ],
   "metadata": {}
  },
  {
   "cell_type": "code",
   "execution_count": null,
   "source": [
    "from sklearn.model_selection import GridSearchCV\n",
    "\n",
    "param_distribs = {\n",
    "    'n_neurons': [5, 10, 20, 30]\n",
    "}\n",
    "\n",
    "grid_search_cv = GridSearchCV(wrapped_model, param_distribs, cv=3)\n",
    "grid_search_cv.fit(X_seq_train, Y_seq_train, epochs=3, validation_data=(X_seq_val, Y_seq_val))"
   ],
   "outputs": [],
   "metadata": {}
  },
  {
   "cell_type": "code",
   "execution_count": 165,
   "source": [
    "grid_search_cv.best_params_"
   ],
   "outputs": [
    {
     "output_type": "execute_result",
     "data": {
      "text/plain": [
       "{'n_neurons': 30}"
      ]
     },
     "metadata": {},
     "execution_count": 165
    }
   ],
   "metadata": {}
  },
  {
   "cell_type": "code",
   "execution_count": null,
   "source": [
    "wrapped_model.fit(X_seq_train, Y_seq_train, epochs=5, validation_data = (X_seq_val, Y_seq_val))"
   ],
   "outputs": [],
   "metadata": {}
  },
  {
   "cell_type": "markdown",
   "source": [
    "## Drawing voltage curves"
   ],
   "metadata": {}
  },
  {
   "cell_type": "code",
   "execution_count": 218,
   "source": [
    "voltages = interpolated_data[0][0][:,1]"
   ],
   "outputs": [],
   "metadata": {}
  },
  {
   "cell_type": "code",
   "execution_count": 346,
   "source": [
    "def generate_voltage_curve(model=wrapped_model, interpolated_data=interpolated_data, battery_no=0, cycle_no=0, window_size=50, scaler=scaler, forecasting_range=10):\n",
    "    n_datapoints = len(interpolated_data[battery_no][cycle_no][:,1])\n",
    "    true_voltages = interpolated_data[battery_no][cycle_no][:,1][:window_size] #1d numpy array\n",
    "    X = true_voltages.reshape(1, -1)\n",
    "    assert X.shape[1] == window_size\n",
    "    dummy_Y = np.zeros((1, forecasting_range))\n",
    "    XY = np.concatenate((X, dummy_Y), axis=1)\n",
    "    XY = min_max_scaling(XY)\n",
    "    X = XY[0, :window_size]\n",
    "    scaled_predictions = X.reshape(-1, window_size, 1)\n",
    "    for i in range(round(n_datapoints/forecasting_range)):\n",
    "        Y = model.predict(scaled_predictions[:,-50:,:]) #Y has shape (50, 10)\n",
    "        assert Y.shape[0] == window_size\n",
    "        Y = Y[window_size-1, :] #1d array with 10 elements\n",
    "        #Y = Y.reshape(-1, forecasting_range)\n",
    "        Y = Y.reshape(-1, forecasting_range, 1) #making it 3D\n",
    "        scaled_predictions = np.concatenate((scaled_predictions, Y), axis=1)\n",
    "    #pred_voltages = scaler.inverse_transform(scaled_predictions.reshape(1,-1))\n",
    "    #pred_voltages = pred_voltages.reshape(-1) #flattens\n",
    "    scaled_predictions = scaled_predictions.reshape(-1)\n",
    "    return scaled_predictions\n",
    "    "
   ],
   "outputs": [],
   "metadata": {}
  },
  {
   "cell_type": "code",
   "execution_count": 347,
   "source": [
    "scaled_predictions = generate_voltage_curve(cycle_no=5)"
   ],
   "outputs": [],
   "metadata": {}
  },
  {
   "cell_type": "code",
   "execution_count": 348,
   "source": [
    "scaled_predictions.shape"
   ],
   "outputs": [
    {
     "output_type": "execute_result",
     "data": {
      "text/plain": [
       "(420,)"
      ]
     },
     "metadata": {},
     "execution_count": 348
    }
   ],
   "metadata": {}
  },
  {
   "cell_type": "code",
   "execution_count": 256,
   "source": [
    "# true_voltages = interpolated_data[0][5][:,1][:window_size] #1d numpy array\n",
    "# X = true_voltages.reshape(1, -1)\n",
    "# assert X.shape[1] == window_size\n",
    "# dummy_Y = np.zeros((1, forecasting_range))\n",
    "# XY = np.concatenate((X, dummy_Y), axis=1)\n",
    "# XY = scaler.transform(XY)\n",
    "# X = XY[0, :window_size]\n",
    "# X = X.reshape(-1)"
   ],
   "outputs": [],
   "metadata": {}
  },
  {
   "cell_type": "code",
   "execution_count": 349,
   "source": [
    "x = np.arange(start=0, stop=len(scaled_predictions), step=1)\n",
    "#x2 = np.arange(start=0, stop=len(X), step=1)\n",
    "plt.plot(x, scaled_predictions)\n",
    "#plt.plot(x2, X)\n",
    "plt.show()"
   ],
   "outputs": [
    {
     "output_type": "display_data",
     "data": {
      "text/plain": [
       "<Figure size 640x480 with 1 Axes>"
      ],
      "image/png": "[encoded data removed]"
     },
     "metadata": {}
    }
   ],
   "metadata": {}
  },
  {
   "cell_type": "code",
   "execution_count": null,
   "source": [],
   "outputs": [],
   "metadata": {}
  },
  {
   "cell_type": "code",
   "execution_count": 264,
   "source": [
    "voltages =interpolated_data[0][0][:,1]\n",
    "voltages.reshape(-1, window_size)\n"
   ],
   "outputs": [
    {
     "output_type": "execute_result",
     "data": {
      "text/plain": [
       "(370,)"
      ]
     },
     "metadata": {},
     "execution_count": 264
    }
   ],
   "metadata": {}
  },
  {
   "cell_type": "code",
   "execution_count": 266,
   "source": [
    "scaler.min_"
   ],
   "outputs": [
    {
     "output_type": "execute_result",
     "data": {
      "text/plain": [
       "array([-1.36490955, -1.37340409, -1.3931771 , -1.48314585, -1.5376692 ,\n",
       "       -1.54931232, -1.5594035 , -1.56861103, -1.57704425, -1.57536677,\n",
       "       -1.56356858, -1.56964143, -1.57515938, -1.58034075, -1.58524131,\n",
       "       -1.57150504, -1.57582739, -1.58035225, -1.58489137, -1.58892115,\n",
       "       -1.59308469, -1.5971665 , -1.60116711, -1.60509921, -1.60522054,\n",
       "       -1.60921906, -1.61292832, -1.61664531, -1.62026861, -1.6238085 ,\n",
       "       -1.62716362, -1.63083321, -1.63409848, -1.63741606, -1.64071677,\n",
       "       -1.64403645, -1.64699867, -1.65014458, -1.52698553, -1.36819195,\n",
       "       -1.26761096, -1.25932507, -1.17035657, -1.11932584, -1.05153422,\n",
       "       -1.05310901, -1.05479669, -1.05643965, -1.00461309, -1.006182  ,\n",
       "       -0.96973362, -0.97127119, -0.91442264, -0.91582174, -0.85979494,\n",
       "       -0.86100119, -0.86220051, -0.86342448, -0.86468352, -0.865885  ])"
      ]
     },
     "metadata": {},
     "execution_count": 266
    }
   ],
   "metadata": {}
  },
  {
   "cell_type": "code",
   "execution_count": null,
   "source": [],
   "outputs": [],
   "metadata": {}
  }
 ],
 "metadata": {
  "orig_nbformat": 4,
  "language_info": {
   "name": "python",
   "version": "3.9.5",
   "mimetype": "text/x-python",
   "codemirror_mode": {
    "name": "ipython",
    "version": 3
   },
   "pygments_lexer": "ipython3",
   "nbconvert_exporter": "python",
   "file_extension": ".py"
  },
  "kernelspec": {
   "name": "python3",
   "display_name": "Python 3.9.5 64-bit ('base': conda)"
  },
  "interpreter": {
   "hash": "97926ce3678dbc6879c995df57bc8fa6031122dcbb317b9de82cd194815f7dd2"
  }
 },
 "nbformat": 4,
 "nbformat_minor": 2
}